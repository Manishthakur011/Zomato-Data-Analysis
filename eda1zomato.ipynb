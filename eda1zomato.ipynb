{
 "cells": [
  {
   "cell_type": "markdown",
   "id": "266f48d8",
   "metadata": {},
   "source": [
    "# Exploratory data analysis using zomato datset"
   ]
  },
  {
   "cell_type": "code",
   "execution_count": 1,
   "id": "5a44e743",
   "metadata": {},
   "outputs": [],
   "source": [
    "import pandas as pd\n",
    "import numpy as np\n",
    "import matplotlib.pyplot as plt\n",
    "import seaborn as sns\n",
    "%matplotlib inline\n",
    "\n",
    "# this %matplotlib inline is used so that if there are any images it could display it here\n"
   ]
  },
  {
   "cell_type": "code",
   "execution_count": 2,
   "id": "afe176aa",
   "metadata": {},
   "outputs": [],
   "source": [
    "df = pd.read_csv('zomato.csv', encoding = 'latin-1')\n",
    "\n",
    "# error: utf-8' codec can't decode byte 0xed in position\n",
    "# whenever we get this type of error, we need to use some encoding formmat,and it \n",
    "# can be different for different dataset"
   ]
  },
  {
   "cell_type": "code",
   "execution_count": 3,
   "id": "d5d7351b",
   "metadata": {},
   "outputs": [
    {
     "data": {
      "text/html": [
       "<div>\n",
       "<style scoped>\n",
       "    .dataframe tbody tr th:only-of-type {\n",
       "        vertical-align: middle;\n",
       "    }\n",
       "\n",
       "    .dataframe tbody tr th {\n",
       "        vertical-align: top;\n",
       "    }\n",
       "\n",
       "    .dataframe thead th {\n",
       "        text-align: right;\n",
       "    }\n",
       "</style>\n",
       "<table border=\"1\" class=\"dataframe\">\n",
       "  <thead>\n",
       "    <tr style=\"text-align: right;\">\n",
       "      <th></th>\n",
       "      <th>Restaurant ID</th>\n",
       "      <th>Restaurant Name</th>\n",
       "      <th>Country Code</th>\n",
       "      <th>City</th>\n",
       "      <th>Address</th>\n",
       "      <th>Locality</th>\n",
       "      <th>Locality Verbose</th>\n",
       "      <th>Longitude</th>\n",
       "      <th>Latitude</th>\n",
       "      <th>Cuisines</th>\n",
       "      <th>...</th>\n",
       "      <th>Currency</th>\n",
       "      <th>Has Table booking</th>\n",
       "      <th>Has Online delivery</th>\n",
       "      <th>Is delivering now</th>\n",
       "      <th>Switch to order menu</th>\n",
       "      <th>Price range</th>\n",
       "      <th>Aggregate rating</th>\n",
       "      <th>Rating color</th>\n",
       "      <th>Rating text</th>\n",
       "      <th>Votes</th>\n",
       "    </tr>\n",
       "  </thead>\n",
       "  <tbody>\n",
       "    <tr>\n",
       "      <th>0</th>\n",
       "      <td>6317637</td>\n",
       "      <td>Le Petit Souffle</td>\n",
       "      <td>162</td>\n",
       "      <td>Makati City</td>\n",
       "      <td>Third Floor, Century City Mall, Kalayaan Avenu...</td>\n",
       "      <td>Century City Mall, Poblacion, Makati City</td>\n",
       "      <td>Century City Mall, Poblacion, Makati City, Mak...</td>\n",
       "      <td>121.027535</td>\n",
       "      <td>14.565443</td>\n",
       "      <td>French, Japanese, Desserts</td>\n",
       "      <td>...</td>\n",
       "      <td>Botswana Pula(P)</td>\n",
       "      <td>Yes</td>\n",
       "      <td>No</td>\n",
       "      <td>No</td>\n",
       "      <td>No</td>\n",
       "      <td>3</td>\n",
       "      <td>4.8</td>\n",
       "      <td>Dark Green</td>\n",
       "      <td>Excellent</td>\n",
       "      <td>314</td>\n",
       "    </tr>\n",
       "    <tr>\n",
       "      <th>1</th>\n",
       "      <td>6304287</td>\n",
       "      <td>Izakaya Kikufuji</td>\n",
       "      <td>162</td>\n",
       "      <td>Makati City</td>\n",
       "      <td>Little Tokyo, 2277 Chino Roces Avenue, Legaspi...</td>\n",
       "      <td>Little Tokyo, Legaspi Village, Makati City</td>\n",
       "      <td>Little Tokyo, Legaspi Village, Makati City, Ma...</td>\n",
       "      <td>121.014101</td>\n",
       "      <td>14.553708</td>\n",
       "      <td>Japanese</td>\n",
       "      <td>...</td>\n",
       "      <td>Botswana Pula(P)</td>\n",
       "      <td>Yes</td>\n",
       "      <td>No</td>\n",
       "      <td>No</td>\n",
       "      <td>No</td>\n",
       "      <td>3</td>\n",
       "      <td>4.5</td>\n",
       "      <td>Dark Green</td>\n",
       "      <td>Excellent</td>\n",
       "      <td>591</td>\n",
       "    </tr>\n",
       "    <tr>\n",
       "      <th>2</th>\n",
       "      <td>6300002</td>\n",
       "      <td>Heat - Edsa Shangri-La</td>\n",
       "      <td>162</td>\n",
       "      <td>Mandaluyong City</td>\n",
       "      <td>Edsa Shangri-La, 1 Garden Way, Ortigas, Mandal...</td>\n",
       "      <td>Edsa Shangri-La, Ortigas, Mandaluyong City</td>\n",
       "      <td>Edsa Shangri-La, Ortigas, Mandaluyong City, Ma...</td>\n",
       "      <td>121.056831</td>\n",
       "      <td>14.581404</td>\n",
       "      <td>Seafood, Asian, Filipino, Indian</td>\n",
       "      <td>...</td>\n",
       "      <td>Botswana Pula(P)</td>\n",
       "      <td>Yes</td>\n",
       "      <td>No</td>\n",
       "      <td>No</td>\n",
       "      <td>No</td>\n",
       "      <td>4</td>\n",
       "      <td>4.4</td>\n",
       "      <td>Green</td>\n",
       "      <td>Very Good</td>\n",
       "      <td>270</td>\n",
       "    </tr>\n",
       "    <tr>\n",
       "      <th>3</th>\n",
       "      <td>6318506</td>\n",
       "      <td>Ooma</td>\n",
       "      <td>162</td>\n",
       "      <td>Mandaluyong City</td>\n",
       "      <td>Third Floor, Mega Fashion Hall, SM Megamall, O...</td>\n",
       "      <td>SM Megamall, Ortigas, Mandaluyong City</td>\n",
       "      <td>SM Megamall, Ortigas, Mandaluyong City, Mandal...</td>\n",
       "      <td>121.056475</td>\n",
       "      <td>14.585318</td>\n",
       "      <td>Japanese, Sushi</td>\n",
       "      <td>...</td>\n",
       "      <td>Botswana Pula(P)</td>\n",
       "      <td>No</td>\n",
       "      <td>No</td>\n",
       "      <td>No</td>\n",
       "      <td>No</td>\n",
       "      <td>4</td>\n",
       "      <td>4.9</td>\n",
       "      <td>Dark Green</td>\n",
       "      <td>Excellent</td>\n",
       "      <td>365</td>\n",
       "    </tr>\n",
       "    <tr>\n",
       "      <th>4</th>\n",
       "      <td>6314302</td>\n",
       "      <td>Sambo Kojin</td>\n",
       "      <td>162</td>\n",
       "      <td>Mandaluyong City</td>\n",
       "      <td>Third Floor, Mega Atrium, SM Megamall, Ortigas...</td>\n",
       "      <td>SM Megamall, Ortigas, Mandaluyong City</td>\n",
       "      <td>SM Megamall, Ortigas, Mandaluyong City, Mandal...</td>\n",
       "      <td>121.057508</td>\n",
       "      <td>14.584450</td>\n",
       "      <td>Japanese, Korean</td>\n",
       "      <td>...</td>\n",
       "      <td>Botswana Pula(P)</td>\n",
       "      <td>Yes</td>\n",
       "      <td>No</td>\n",
       "      <td>No</td>\n",
       "      <td>No</td>\n",
       "      <td>4</td>\n",
       "      <td>4.8</td>\n",
       "      <td>Dark Green</td>\n",
       "      <td>Excellent</td>\n",
       "      <td>229</td>\n",
       "    </tr>\n",
       "    <tr>\n",
       "      <th>...</th>\n",
       "      <td>...</td>\n",
       "      <td>...</td>\n",
       "      <td>...</td>\n",
       "      <td>...</td>\n",
       "      <td>...</td>\n",
       "      <td>...</td>\n",
       "      <td>...</td>\n",
       "      <td>...</td>\n",
       "      <td>...</td>\n",
       "      <td>...</td>\n",
       "      <td>...</td>\n",
       "      <td>...</td>\n",
       "      <td>...</td>\n",
       "      <td>...</td>\n",
       "      <td>...</td>\n",
       "      <td>...</td>\n",
       "      <td>...</td>\n",
       "      <td>...</td>\n",
       "      <td>...</td>\n",
       "      <td>...</td>\n",
       "      <td>...</td>\n",
       "    </tr>\n",
       "    <tr>\n",
       "      <th>9546</th>\n",
       "      <td>5915730</td>\n",
       "      <td>NamlÛ± Gurme</td>\n",
       "      <td>208</td>\n",
       "      <td>ÛÁstanbul</td>\n",
       "      <td>Kemankeô Karamustafa Paôa Mahallesi, RÛ±htÛ±...</td>\n",
       "      <td>Karakí_y</td>\n",
       "      <td>Karakí_y, ÛÁstanbul</td>\n",
       "      <td>28.977392</td>\n",
       "      <td>41.022793</td>\n",
       "      <td>Turkish</td>\n",
       "      <td>...</td>\n",
       "      <td>Turkish Lira(TL)</td>\n",
       "      <td>No</td>\n",
       "      <td>No</td>\n",
       "      <td>No</td>\n",
       "      <td>No</td>\n",
       "      <td>3</td>\n",
       "      <td>4.1</td>\n",
       "      <td>Green</td>\n",
       "      <td>Very Good</td>\n",
       "      <td>788</td>\n",
       "    </tr>\n",
       "    <tr>\n",
       "      <th>9547</th>\n",
       "      <td>5908749</td>\n",
       "      <td>Ceviz AÛôacÛ±</td>\n",
       "      <td>208</td>\n",
       "      <td>ÛÁstanbul</td>\n",
       "      <td>Koôuyolu Mahallesi, Muhittin íìstí_ndaÛô Cadd...</td>\n",
       "      <td>Koôuyolu</td>\n",
       "      <td>Koôuyolu, ÛÁstanbul</td>\n",
       "      <td>29.041297</td>\n",
       "      <td>41.009847</td>\n",
       "      <td>World Cuisine, Patisserie, Cafe</td>\n",
       "      <td>...</td>\n",
       "      <td>Turkish Lira(TL)</td>\n",
       "      <td>No</td>\n",
       "      <td>No</td>\n",
       "      <td>No</td>\n",
       "      <td>No</td>\n",
       "      <td>3</td>\n",
       "      <td>4.2</td>\n",
       "      <td>Green</td>\n",
       "      <td>Very Good</td>\n",
       "      <td>1034</td>\n",
       "    </tr>\n",
       "    <tr>\n",
       "      <th>9548</th>\n",
       "      <td>5915807</td>\n",
       "      <td>Huqqa</td>\n",
       "      <td>208</td>\n",
       "      <td>ÛÁstanbul</td>\n",
       "      <td>Kuruí_eôme Mahallesi, Muallim Naci Caddesi, N...</td>\n",
       "      <td>Kuruí_eôme</td>\n",
       "      <td>Kuruí_eôme, ÛÁstanbul</td>\n",
       "      <td>29.034640</td>\n",
       "      <td>41.055817</td>\n",
       "      <td>Italian, World Cuisine</td>\n",
       "      <td>...</td>\n",
       "      <td>Turkish Lira(TL)</td>\n",
       "      <td>No</td>\n",
       "      <td>No</td>\n",
       "      <td>No</td>\n",
       "      <td>No</td>\n",
       "      <td>4</td>\n",
       "      <td>3.7</td>\n",
       "      <td>Yellow</td>\n",
       "      <td>Good</td>\n",
       "      <td>661</td>\n",
       "    </tr>\n",
       "    <tr>\n",
       "      <th>9549</th>\n",
       "      <td>5916112</td>\n",
       "      <td>Aôôk Kahve</td>\n",
       "      <td>208</td>\n",
       "      <td>ÛÁstanbul</td>\n",
       "      <td>Kuruí_eôme Mahallesi, Muallim Naci Caddesi, N...</td>\n",
       "      <td>Kuruí_eôme</td>\n",
       "      <td>Kuruí_eôme, ÛÁstanbul</td>\n",
       "      <td>29.036019</td>\n",
       "      <td>41.057979</td>\n",
       "      <td>Restaurant Cafe</td>\n",
       "      <td>...</td>\n",
       "      <td>Turkish Lira(TL)</td>\n",
       "      <td>No</td>\n",
       "      <td>No</td>\n",
       "      <td>No</td>\n",
       "      <td>No</td>\n",
       "      <td>4</td>\n",
       "      <td>4.0</td>\n",
       "      <td>Green</td>\n",
       "      <td>Very Good</td>\n",
       "      <td>901</td>\n",
       "    </tr>\n",
       "    <tr>\n",
       "      <th>9550</th>\n",
       "      <td>5927402</td>\n",
       "      <td>Walter's Coffee Roastery</td>\n",
       "      <td>208</td>\n",
       "      <td>ÛÁstanbul</td>\n",
       "      <td>CafeaÛôa Mahallesi, BademaltÛ± Sokak, No 21/B,...</td>\n",
       "      <td>Moda</td>\n",
       "      <td>Moda, ÛÁstanbul</td>\n",
       "      <td>29.026016</td>\n",
       "      <td>40.984776</td>\n",
       "      <td>Cafe</td>\n",
       "      <td>...</td>\n",
       "      <td>Turkish Lira(TL)</td>\n",
       "      <td>No</td>\n",
       "      <td>No</td>\n",
       "      <td>No</td>\n",
       "      <td>No</td>\n",
       "      <td>2</td>\n",
       "      <td>4.0</td>\n",
       "      <td>Green</td>\n",
       "      <td>Very Good</td>\n",
       "      <td>591</td>\n",
       "    </tr>\n",
       "  </tbody>\n",
       "</table>\n",
       "<p>9551 rows × 21 columns</p>\n",
       "</div>"
      ],
      "text/plain": [
       "      Restaurant ID           Restaurant Name  Country Code              City  \\\n",
       "0           6317637          Le Petit Souffle           162       Makati City   \n",
       "1           6304287          Izakaya Kikufuji           162       Makati City   \n",
       "2           6300002    Heat - Edsa Shangri-La           162  Mandaluyong City   \n",
       "3           6318506                      Ooma           162  Mandaluyong City   \n",
       "4           6314302               Sambo Kojin           162  Mandaluyong City   \n",
       "...             ...                       ...           ...               ...   \n",
       "9546        5915730              NamlÛ± Gurme           208         ÛÁstanbul   \n",
       "9547        5908749             Ceviz AÛôacÛ±           208         ÛÁstanbul   \n",
       "9548        5915807                     Huqqa           208         ÛÁstanbul   \n",
       "9549        5916112              Aôôk Kahve           208         ÛÁstanbul   \n",
       "9550        5927402  Walter's Coffee Roastery           208         ÛÁstanbul   \n",
       "\n",
       "                                                Address  \\\n",
       "0     Third Floor, Century City Mall, Kalayaan Avenu...   \n",
       "1     Little Tokyo, 2277 Chino Roces Avenue, Legaspi...   \n",
       "2     Edsa Shangri-La, 1 Garden Way, Ortigas, Mandal...   \n",
       "3     Third Floor, Mega Fashion Hall, SM Megamall, O...   \n",
       "4     Third Floor, Mega Atrium, SM Megamall, Ortigas...   \n",
       "...                                                 ...   \n",
       "9546  Kemankeô Karamustafa Paôa Mahallesi, RÛ±htÛ±...   \n",
       "9547  Koôuyolu Mahallesi, Muhittin íìstí_ndaÛô Cadd...   \n",
       "9548  Kuruí_eôme Mahallesi, Muallim Naci Caddesi, N...   \n",
       "9549  Kuruí_eôme Mahallesi, Muallim Naci Caddesi, N...   \n",
       "9550  CafeaÛôa Mahallesi, BademaltÛ± Sokak, No 21/B,...   \n",
       "\n",
       "                                        Locality  \\\n",
       "0      Century City Mall, Poblacion, Makati City   \n",
       "1     Little Tokyo, Legaspi Village, Makati City   \n",
       "2     Edsa Shangri-La, Ortigas, Mandaluyong City   \n",
       "3         SM Megamall, Ortigas, Mandaluyong City   \n",
       "4         SM Megamall, Ortigas, Mandaluyong City   \n",
       "...                                          ...   \n",
       "9546                                    Karakí_y   \n",
       "9547                                   Koôuyolu   \n",
       "9548                                 Kuruí_eôme   \n",
       "9549                                 Kuruí_eôme   \n",
       "9550                                        Moda   \n",
       "\n",
       "                                       Locality Verbose   Longitude  \\\n",
       "0     Century City Mall, Poblacion, Makati City, Mak...  121.027535   \n",
       "1     Little Tokyo, Legaspi Village, Makati City, Ma...  121.014101   \n",
       "2     Edsa Shangri-La, Ortigas, Mandaluyong City, Ma...  121.056831   \n",
       "3     SM Megamall, Ortigas, Mandaluyong City, Mandal...  121.056475   \n",
       "4     SM Megamall, Ortigas, Mandaluyong City, Mandal...  121.057508   \n",
       "...                                                 ...         ...   \n",
       "9546                                Karakí_y, ÛÁstanbul   28.977392   \n",
       "9547                               Koôuyolu, ÛÁstanbul   29.041297   \n",
       "9548                             Kuruí_eôme, ÛÁstanbul   29.034640   \n",
       "9549                             Kuruí_eôme, ÛÁstanbul   29.036019   \n",
       "9550                                    Moda, ÛÁstanbul   29.026016   \n",
       "\n",
       "       Latitude                          Cuisines  ...          Currency  \\\n",
       "0     14.565443        French, Japanese, Desserts  ...  Botswana Pula(P)   \n",
       "1     14.553708                          Japanese  ...  Botswana Pula(P)   \n",
       "2     14.581404  Seafood, Asian, Filipino, Indian  ...  Botswana Pula(P)   \n",
       "3     14.585318                   Japanese, Sushi  ...  Botswana Pula(P)   \n",
       "4     14.584450                  Japanese, Korean  ...  Botswana Pula(P)   \n",
       "...         ...                               ...  ...               ...   \n",
       "9546  41.022793                           Turkish  ...  Turkish Lira(TL)   \n",
       "9547  41.009847   World Cuisine, Patisserie, Cafe  ...  Turkish Lira(TL)   \n",
       "9548  41.055817            Italian, World Cuisine  ...  Turkish Lira(TL)   \n",
       "9549  41.057979                   Restaurant Cafe  ...  Turkish Lira(TL)   \n",
       "9550  40.984776                              Cafe  ...  Turkish Lira(TL)   \n",
       "\n",
       "     Has Table booking Has Online delivery Is delivering now  \\\n",
       "0                  Yes                  No                No   \n",
       "1                  Yes                  No                No   \n",
       "2                  Yes                  No                No   \n",
       "3                   No                  No                No   \n",
       "4                  Yes                  No                No   \n",
       "...                ...                 ...               ...   \n",
       "9546                No                  No                No   \n",
       "9547                No                  No                No   \n",
       "9548                No                  No                No   \n",
       "9549                No                  No                No   \n",
       "9550                No                  No                No   \n",
       "\n",
       "     Switch to order menu Price range  Aggregate rating  Rating color  \\\n",
       "0                      No           3               4.8    Dark Green   \n",
       "1                      No           3               4.5    Dark Green   \n",
       "2                      No           4               4.4         Green   \n",
       "3                      No           4               4.9    Dark Green   \n",
       "4                      No           4               4.8    Dark Green   \n",
       "...                   ...         ...               ...           ...   \n",
       "9546                   No           3               4.1         Green   \n",
       "9547                   No           3               4.2         Green   \n",
       "9548                   No           4               3.7        Yellow   \n",
       "9549                   No           4               4.0         Green   \n",
       "9550                   No           2               4.0         Green   \n",
       "\n",
       "     Rating text Votes  \n",
       "0      Excellent   314  \n",
       "1      Excellent   591  \n",
       "2      Very Good   270  \n",
       "3      Excellent   365  \n",
       "4      Excellent   229  \n",
       "...          ...   ...  \n",
       "9546   Very Good   788  \n",
       "9547   Very Good  1034  \n",
       "9548        Good   661  \n",
       "9549   Very Good   901  \n",
       "9550   Very Good   591  \n",
       "\n",
       "[9551 rows x 21 columns]"
      ]
     },
     "execution_count": 3,
     "metadata": {},
     "output_type": "execute_result"
    }
   ],
   "source": [
    "df"
   ]
  },
  {
   "cell_type": "code",
   "execution_count": 44,
   "id": "34af5778",
   "metadata": {},
   "outputs": [
    {
     "data": {
      "text/plain": [
       "0       Botswana Pula(P)\n",
       "1       Botswana Pula(P)\n",
       "2       Botswana Pula(P)\n",
       "3       Botswana Pula(P)\n",
       "4       Botswana Pula(P)\n",
       "5       Botswana Pula(P)\n",
       "6       Botswana Pula(P)\n",
       "7       Botswana Pula(P)\n",
       "8       Botswana Pula(P)\n",
       "9       Botswana Pula(P)\n",
       "10      Botswana Pula(P)\n",
       "11      Botswana Pula(P)\n",
       "12      Botswana Pula(P)\n",
       "13      Botswana Pula(P)\n",
       "14      Botswana Pula(P)\n",
       "15      Botswana Pula(P)\n",
       "16      Botswana Pula(P)\n",
       "17      Botswana Pula(P)\n",
       "18      Botswana Pula(P)\n",
       "19      Botswana Pula(P)\n",
       "20      Botswana Pula(P)\n",
       "21      Botswana Pula(P)\n",
       "22    Brazilian Real(R$)\n",
       "23    Brazilian Real(R$)\n",
       "24    Brazilian Real(R$)\n",
       "25    Brazilian Real(R$)\n",
       "26    Brazilian Real(R$)\n",
       "27    Brazilian Real(R$)\n",
       "28    Brazilian Real(R$)\n",
       "29    Brazilian Real(R$)\n",
       "Name: Currency, dtype: object"
      ]
     },
     "execution_count": 44,
     "metadata": {},
     "output_type": "execute_result"
    }
   ],
   "source": [
    "df['Currency'].head(30)"
   ]
  },
  {
   "cell_type": "code",
   "execution_count": 4,
   "id": "554e754c",
   "metadata": {},
   "outputs": [
    {
     "data": {
      "text/plain": [
       "Index(['Restaurant ID', 'Restaurant Name', 'Country Code', 'City', 'Address',\n",
       "       'Locality', 'Locality Verbose', 'Longitude', 'Latitude', 'Cuisines',\n",
       "       'Average Cost for two', 'Currency', 'Has Table booking',\n",
       "       'Has Online delivery', 'Is delivering now', 'Switch to order menu',\n",
       "       'Price range', 'Aggregate rating', 'Rating color', 'Rating text',\n",
       "       'Votes'],\n",
       "      dtype='object')"
      ]
     },
     "execution_count": 4,
     "metadata": {},
     "output_type": "execute_result"
    }
   ],
   "source": [
    "df.columns"
   ]
  },
  {
   "cell_type": "code",
   "execution_count": 45,
   "id": "76867c77",
   "metadata": {},
   "outputs": [
    {
     "data": {
      "text/plain": [
       "0       Yes\n",
       "1       Yes\n",
       "2       Yes\n",
       "3        No\n",
       "4       Yes\n",
       "       ... \n",
       "9546     No\n",
       "9547     No\n",
       "9548     No\n",
       "9549     No\n",
       "9550     No\n",
       "Name: Has Table booking, Length: 9551, dtype: object"
      ]
     },
     "execution_count": 45,
     "metadata": {},
     "output_type": "execute_result"
    }
   ],
   "source": [
    "df['Has Table booking']"
   ]
  },
  {
   "cell_type": "code",
   "execution_count": 54,
   "id": "daf06b43",
   "metadata": {},
   "outputs": [
    {
     "data": {
      "text/plain": [
       "0     No\n",
       "1     No\n",
       "2     No\n",
       "3     No\n",
       "4     No\n",
       "5     No\n",
       "6     No\n",
       "7     No\n",
       "8     No\n",
       "9     No\n",
       "10    No\n",
       "11    No\n",
       "12    No\n",
       "13    No\n",
       "14    No\n",
       "15    No\n",
       "16    No\n",
       "17    No\n",
       "18    No\n",
       "19    No\n",
       "20    No\n",
       "21    No\n",
       "22    No\n",
       "23    No\n",
       "24    No\n",
       "25    No\n",
       "26    No\n",
       "27    No\n",
       "28    No\n",
       "29    No\n",
       "30    No\n",
       "31    No\n",
       "32    No\n",
       "33    No\n",
       "34    No\n",
       "35    No\n",
       "36    No\n",
       "37    No\n",
       "38    No\n",
       "39    No\n",
       "40    No\n",
       "41    No\n",
       "42    No\n",
       "43    No\n",
       "44    No\n",
       "45    No\n",
       "46    No\n",
       "47    No\n",
       "48    No\n",
       "49    No\n",
       "50    No\n",
       "51    No\n",
       "52    No\n",
       "53    No\n",
       "54    No\n",
       "55    No\n",
       "56    No\n",
       "57    No\n",
       "58    No\n",
       "59    No\n",
       "Name: Is delivering now, dtype: object"
      ]
     },
     "execution_count": 54,
     "metadata": {},
     "output_type": "execute_result"
    }
   ],
   "source": [
    "df['Is delivering now'].head(60)"
   ]
  },
  {
   "cell_type": "code",
   "execution_count": 56,
   "id": "d8276509",
   "metadata": {},
   "outputs": [
    {
     "data": {
      "text/plain": [
       "0     3\n",
       "1     3\n",
       "2     4\n",
       "3     4\n",
       "4     4\n",
       "5     3\n",
       "6     4\n",
       "7     4\n",
       "8     4\n",
       "9     3\n",
       "10    3\n",
       "11    3\n",
       "12    3\n",
       "13    3\n",
       "14    3\n",
       "15    3\n",
       "16    3\n",
       "17    3\n",
       "18    2\n",
       "19    4\n",
       "20    4\n",
       "21    4\n",
       "22    2\n",
       "23    1\n",
       "24    2\n",
       "25    3\n",
       "26    2\n",
       "27    3\n",
       "28    3\n",
       "29    4\n",
       "Name: Price range, dtype: int64"
      ]
     },
     "execution_count": 56,
     "metadata": {},
     "output_type": "execute_result"
    }
   ],
   "source": [
    "df['Price range'].head(30)"
   ]
  },
  {
   "cell_type": "code",
   "execution_count": 58,
   "id": "754c8d98",
   "metadata": {},
   "outputs": [
    {
     "data": {
      "text/plain": [
       "0     Dark Green\n",
       "1     Dark Green\n",
       "2          Green\n",
       "3     Dark Green\n",
       "4     Dark Green\n",
       "5          Green\n",
       "6          Green\n",
       "7          Green\n",
       "8     Dark Green\n",
       "9     Dark Green\n",
       "10    Dark Green\n",
       "11         Green\n",
       "12    Dark Green\n",
       "13         Green\n",
       "14         Green\n",
       "15        Yellow\n",
       "16         Green\n",
       "17    Dark Green\n",
       "18    Dark Green\n",
       "19         Green\n",
       "20    Dark Green\n",
       "21    Dark Green\n",
       "22        Orange\n",
       "23        Yellow\n",
       "24        Yellow\n",
       "25        Yellow\n",
       "26        Orange\n",
       "27        Orange\n",
       "28        Yellow\n",
       "29        Yellow\n",
       "Name: Rating color, dtype: object"
      ]
     },
     "execution_count": 58,
     "metadata": {},
     "output_type": "execute_result"
    }
   ],
   "source": [
    "df['Rating color'].head(30)"
   ]
  },
  {
   "cell_type": "code",
   "execution_count": 60,
   "id": "e5169c5c",
   "metadata": {},
   "outputs": [
    {
     "data": {
      "text/plain": [
       "0     Excellent\n",
       "1     Excellent\n",
       "2     Very Good\n",
       "3     Excellent\n",
       "4     Excellent\n",
       "5     Very Good\n",
       "6     Very Good\n",
       "7     Very Good\n",
       "8     Excellent\n",
       "9     Excellent\n",
       "10    Excellent\n",
       "11    Very Good\n",
       "12    Excellent\n",
       "13    Very Good\n",
       "14    Very Good\n",
       "15         Good\n",
       "16    Very Good\n",
       "17    Excellent\n",
       "18    Excellent\n",
       "19    Very Good\n",
       "Name: Rating text, dtype: object"
      ]
     },
     "execution_count": 60,
     "metadata": {},
     "output_type": "execute_result"
    }
   ],
   "source": [
    "df['Rating text'].head(20)"
   ]
  },
  {
   "cell_type": "code",
   "execution_count": 10,
   "id": "bba8fc01",
   "metadata": {},
   "outputs": [
    {
     "data": {
      "text/plain": [
       "Index(['Restaurant ID', 'Restaurant Name', 'Country Code', 'City', 'Address',\n",
       "       'Locality', 'Locality Verbose', 'Longitude', 'Latitude', 'Cuisines',\n",
       "       'Average Cost for two', 'Currency', 'Has Table booking',\n",
       "       'Has Online delivery', 'Is delivering now', 'Switch to order menu',\n",
       "       'Price range', 'Aggregate rating', 'Rating color', 'Rating text',\n",
       "       'Votes'],\n",
       "      dtype='object')"
      ]
     },
     "execution_count": 10,
     "metadata": {},
     "output_type": "execute_result"
    }
   ],
   "source": [
    "df.columns"
   ]
  },
  {
   "cell_type": "code",
   "execution_count": 62,
   "id": "bb42349c",
   "metadata": {},
   "outputs": [
    {
     "data": {
      "text/plain": [
       "0      314\n",
       "1      591\n",
       "2      270\n",
       "3      365\n",
       "4      229\n",
       "5      336\n",
       "6      520\n",
       "7      677\n",
       "8      621\n",
       "9      532\n",
       "10    1070\n",
       "11     488\n",
       "12     294\n",
       "13     458\n",
       "14     223\n",
       "15      29\n",
       "16      72\n",
       "17     211\n",
       "18     118\n",
       "19     392\n",
       "20     535\n",
       "21     618\n",
       "22       6\n",
       "23       9\n",
       "24      11\n",
       "25      11\n",
       "26      11\n",
       "27      10\n",
       "28       8\n",
       "29       5\n",
       "Name: Votes, dtype: int64"
      ]
     },
     "execution_count": 62,
     "metadata": {},
     "output_type": "execute_result"
    }
   ],
   "source": [
    "df['Votes'].head(30)"
   ]
  },
  {
   "cell_type": "code",
   "execution_count": null,
   "id": "41eaea69",
   "metadata": {},
   "outputs": [],
   "source": []
  },
  {
   "cell_type": "code",
   "execution_count": null,
   "id": "fd6681ce",
   "metadata": {},
   "outputs": [],
   "source": []
  },
  {
   "cell_type": "code",
   "execution_count": null,
   "id": "2a1154b8",
   "metadata": {},
   "outputs": [],
   "source": []
  },
  {
   "cell_type": "code",
   "execution_count": null,
   "id": "b8ae577b",
   "metadata": {},
   "outputs": [],
   "source": []
  },
  {
   "cell_type": "code",
   "execution_count": null,
   "id": "0688fc05",
   "metadata": {},
   "outputs": [],
   "source": []
  },
  {
   "cell_type": "code",
   "execution_count": null,
   "id": "f5b86dfb",
   "metadata": {},
   "outputs": [],
   "source": []
  },
  {
   "cell_type": "code",
   "execution_count": null,
   "id": "7f92a739",
   "metadata": {},
   "outputs": [],
   "source": []
  },
  {
   "cell_type": "code",
   "execution_count": 11,
   "id": "cba94fc4",
   "metadata": {},
   "outputs": [
    {
     "name": "stdout",
     "output_type": "stream",
     "text": [
      "<class 'pandas.core.frame.DataFrame'>\n",
      "RangeIndex: 9551 entries, 0 to 9550\n",
      "Data columns (total 21 columns):\n",
      " #   Column                Non-Null Count  Dtype  \n",
      "---  ------                --------------  -----  \n",
      " 0   Restaurant ID         9551 non-null   int64  \n",
      " 1   Restaurant Name       9551 non-null   object \n",
      " 2   Country Code          9551 non-null   int64  \n",
      " 3   City                  9551 non-null   object \n",
      " 4   Address               9551 non-null   object \n",
      " 5   Locality              9551 non-null   object \n",
      " 6   Locality Verbose      9551 non-null   object \n",
      " 7   Longitude             9551 non-null   float64\n",
      " 8   Latitude              9551 non-null   float64\n",
      " 9   Cuisines              9542 non-null   object \n",
      " 10  Average Cost for two  9551 non-null   int64  \n",
      " 11  Currency              9551 non-null   object \n",
      " 12  Has Table booking     9551 non-null   object \n",
      " 13  Has Online delivery   9551 non-null   object \n",
      " 14  Is delivering now     9551 non-null   object \n",
      " 15  Switch to order menu  9551 non-null   object \n",
      " 16  Price range           9551 non-null   int64  \n",
      " 17  Aggregate rating      9551 non-null   float64\n",
      " 18  Rating color          9551 non-null   object \n",
      " 19  Rating text           9551 non-null   object \n",
      " 20  Votes                 9551 non-null   int64  \n",
      "dtypes: float64(3), int64(5), object(13)\n",
      "memory usage: 1.5+ MB\n"
     ]
    }
   ],
   "source": [
    "df.info()"
   ]
  },
  {
   "cell_type": "code",
   "execution_count": 12,
   "id": "214f227a",
   "metadata": {},
   "outputs": [
    {
     "data": {
      "text/html": [
       "<div>\n",
       "<style scoped>\n",
       "    .dataframe tbody tr th:only-of-type {\n",
       "        vertical-align: middle;\n",
       "    }\n",
       "\n",
       "    .dataframe tbody tr th {\n",
       "        vertical-align: top;\n",
       "    }\n",
       "\n",
       "    .dataframe thead th {\n",
       "        text-align: right;\n",
       "    }\n",
       "</style>\n",
       "<table border=\"1\" class=\"dataframe\">\n",
       "  <thead>\n",
       "    <tr style=\"text-align: right;\">\n",
       "      <th></th>\n",
       "      <th>Restaurant ID</th>\n",
       "      <th>Country Code</th>\n",
       "      <th>Longitude</th>\n",
       "      <th>Latitude</th>\n",
       "      <th>Average Cost for two</th>\n",
       "      <th>Price range</th>\n",
       "      <th>Aggregate rating</th>\n",
       "      <th>Votes</th>\n",
       "    </tr>\n",
       "  </thead>\n",
       "  <tbody>\n",
       "    <tr>\n",
       "      <th>count</th>\n",
       "      <td>9.551000e+03</td>\n",
       "      <td>9551.000000</td>\n",
       "      <td>9551.000000</td>\n",
       "      <td>9551.000000</td>\n",
       "      <td>9551.000000</td>\n",
       "      <td>9551.000000</td>\n",
       "      <td>9551.000000</td>\n",
       "      <td>9551.000000</td>\n",
       "    </tr>\n",
       "    <tr>\n",
       "      <th>mean</th>\n",
       "      <td>9.051128e+06</td>\n",
       "      <td>18.365616</td>\n",
       "      <td>64.126574</td>\n",
       "      <td>25.854381</td>\n",
       "      <td>1199.210763</td>\n",
       "      <td>1.804837</td>\n",
       "      <td>2.666370</td>\n",
       "      <td>156.909748</td>\n",
       "    </tr>\n",
       "    <tr>\n",
       "      <th>std</th>\n",
       "      <td>8.791521e+06</td>\n",
       "      <td>56.750546</td>\n",
       "      <td>41.467058</td>\n",
       "      <td>11.007935</td>\n",
       "      <td>16121.183073</td>\n",
       "      <td>0.905609</td>\n",
       "      <td>1.516378</td>\n",
       "      <td>430.169145</td>\n",
       "    </tr>\n",
       "    <tr>\n",
       "      <th>min</th>\n",
       "      <td>5.300000e+01</td>\n",
       "      <td>1.000000</td>\n",
       "      <td>-157.948486</td>\n",
       "      <td>-41.330428</td>\n",
       "      <td>0.000000</td>\n",
       "      <td>1.000000</td>\n",
       "      <td>0.000000</td>\n",
       "      <td>0.000000</td>\n",
       "    </tr>\n",
       "    <tr>\n",
       "      <th>25%</th>\n",
       "      <td>3.019625e+05</td>\n",
       "      <td>1.000000</td>\n",
       "      <td>77.081343</td>\n",
       "      <td>28.478713</td>\n",
       "      <td>250.000000</td>\n",
       "      <td>1.000000</td>\n",
       "      <td>2.500000</td>\n",
       "      <td>5.000000</td>\n",
       "    </tr>\n",
       "    <tr>\n",
       "      <th>50%</th>\n",
       "      <td>6.004089e+06</td>\n",
       "      <td>1.000000</td>\n",
       "      <td>77.191964</td>\n",
       "      <td>28.570469</td>\n",
       "      <td>400.000000</td>\n",
       "      <td>2.000000</td>\n",
       "      <td>3.200000</td>\n",
       "      <td>31.000000</td>\n",
       "    </tr>\n",
       "    <tr>\n",
       "      <th>75%</th>\n",
       "      <td>1.835229e+07</td>\n",
       "      <td>1.000000</td>\n",
       "      <td>77.282006</td>\n",
       "      <td>28.642758</td>\n",
       "      <td>700.000000</td>\n",
       "      <td>2.000000</td>\n",
       "      <td>3.700000</td>\n",
       "      <td>131.000000</td>\n",
       "    </tr>\n",
       "    <tr>\n",
       "      <th>max</th>\n",
       "      <td>1.850065e+07</td>\n",
       "      <td>216.000000</td>\n",
       "      <td>174.832089</td>\n",
       "      <td>55.976980</td>\n",
       "      <td>800000.000000</td>\n",
       "      <td>4.000000</td>\n",
       "      <td>4.900000</td>\n",
       "      <td>10934.000000</td>\n",
       "    </tr>\n",
       "  </tbody>\n",
       "</table>\n",
       "</div>"
      ],
      "text/plain": [
       "       Restaurant ID  Country Code    Longitude     Latitude  \\\n",
       "count   9.551000e+03   9551.000000  9551.000000  9551.000000   \n",
       "mean    9.051128e+06     18.365616    64.126574    25.854381   \n",
       "std     8.791521e+06     56.750546    41.467058    11.007935   \n",
       "min     5.300000e+01      1.000000  -157.948486   -41.330428   \n",
       "25%     3.019625e+05      1.000000    77.081343    28.478713   \n",
       "50%     6.004089e+06      1.000000    77.191964    28.570469   \n",
       "75%     1.835229e+07      1.000000    77.282006    28.642758   \n",
       "max     1.850065e+07    216.000000   174.832089    55.976980   \n",
       "\n",
       "       Average Cost for two  Price range  Aggregate rating         Votes  \n",
       "count           9551.000000  9551.000000       9551.000000   9551.000000  \n",
       "mean            1199.210763     1.804837          2.666370    156.909748  \n",
       "std            16121.183073     0.905609          1.516378    430.169145  \n",
       "min                0.000000     1.000000          0.000000      0.000000  \n",
       "25%              250.000000     1.000000          2.500000      5.000000  \n",
       "50%              400.000000     2.000000          3.200000     31.000000  \n",
       "75%              700.000000     2.000000          3.700000    131.000000  \n",
       "max           800000.000000     4.000000          4.900000  10934.000000  "
      ]
     },
     "execution_count": 12,
     "metadata": {},
     "output_type": "execute_result"
    }
   ],
   "source": [
    "df.describe()"
   ]
  },
  {
   "cell_type": "code",
   "execution_count": 13,
   "id": "4f005e18",
   "metadata": {},
   "outputs": [
    {
     "data": {
      "text/plain": [
       "Index(['Restaurant ID', 'Restaurant Name', 'Country Code', 'City', 'Address',\n",
       "       'Locality', 'Locality Verbose', 'Longitude', 'Latitude', 'Cuisines',\n",
       "       'Average Cost for two', 'Currency', 'Has Table booking',\n",
       "       'Has Online delivery', 'Is delivering now', 'Switch to order menu',\n",
       "       'Price range', 'Aggregate rating', 'Rating color', 'Rating text',\n",
       "       'Votes'],\n",
       "      dtype='object')"
      ]
     },
     "execution_count": 13,
     "metadata": {},
     "output_type": "execute_result"
    }
   ],
   "source": [
    "df.columns"
   ]
  },
  {
   "cell_type": "code",
   "execution_count": 22,
   "id": "b6f7f65b",
   "metadata": {},
   "outputs": [
    {
     "data": {
      "text/html": [
       "<div>\n",
       "<style scoped>\n",
       "    .dataframe tbody tr th:only-of-type {\n",
       "        vertical-align: middle;\n",
       "    }\n",
       "\n",
       "    .dataframe tbody tr th {\n",
       "        vertical-align: top;\n",
       "    }\n",
       "\n",
       "    .dataframe thead th {\n",
       "        text-align: right;\n",
       "    }\n",
       "</style>\n",
       "<table border=\"1\" class=\"dataframe\">\n",
       "  <thead>\n",
       "    <tr style=\"text-align: right;\">\n",
       "      <th></th>\n",
       "      <th>Restaurant ID</th>\n",
       "      <th>Restaurant Name</th>\n",
       "      <th>Country Code</th>\n",
       "      <th>City</th>\n",
       "      <th>Address</th>\n",
       "      <th>Locality</th>\n",
       "      <th>Locality Verbose</th>\n",
       "      <th>Longitude</th>\n",
       "      <th>Latitude</th>\n",
       "      <th>Cuisines</th>\n",
       "      <th>...</th>\n",
       "      <th>Currency</th>\n",
       "      <th>Has Table booking</th>\n",
       "      <th>Has Online delivery</th>\n",
       "      <th>Is delivering now</th>\n",
       "      <th>Switch to order menu</th>\n",
       "      <th>Price range</th>\n",
       "      <th>Aggregate rating</th>\n",
       "      <th>Rating color</th>\n",
       "      <th>Rating text</th>\n",
       "      <th>Votes</th>\n",
       "    </tr>\n",
       "  </thead>\n",
       "  <tbody>\n",
       "    <tr>\n",
       "      <th>0</th>\n",
       "      <td>6317637</td>\n",
       "      <td>Le Petit Souffle</td>\n",
       "      <td>162</td>\n",
       "      <td>Makati City</td>\n",
       "      <td>Third Floor, Century City Mall, Kalayaan Avenu...</td>\n",
       "      <td>Century City Mall, Poblacion, Makati City</td>\n",
       "      <td>Century City Mall, Poblacion, Makati City, Mak...</td>\n",
       "      <td>121.027535</td>\n",
       "      <td>14.565443</td>\n",
       "      <td>French, Japanese, Desserts</td>\n",
       "      <td>...</td>\n",
       "      <td>Botswana Pula(P)</td>\n",
       "      <td>Yes</td>\n",
       "      <td>No</td>\n",
       "      <td>No</td>\n",
       "      <td>No</td>\n",
       "      <td>3</td>\n",
       "      <td>4.8</td>\n",
       "      <td>Dark Green</td>\n",
       "      <td>Excellent</td>\n",
       "      <td>314</td>\n",
       "    </tr>\n",
       "    <tr>\n",
       "      <th>1</th>\n",
       "      <td>6304287</td>\n",
       "      <td>Izakaya Kikufuji</td>\n",
       "      <td>162</td>\n",
       "      <td>Makati City</td>\n",
       "      <td>Little Tokyo, 2277 Chino Roces Avenue, Legaspi...</td>\n",
       "      <td>Little Tokyo, Legaspi Village, Makati City</td>\n",
       "      <td>Little Tokyo, Legaspi Village, Makati City, Ma...</td>\n",
       "      <td>121.014101</td>\n",
       "      <td>14.553708</td>\n",
       "      <td>Japanese</td>\n",
       "      <td>...</td>\n",
       "      <td>Botswana Pula(P)</td>\n",
       "      <td>Yes</td>\n",
       "      <td>No</td>\n",
       "      <td>No</td>\n",
       "      <td>No</td>\n",
       "      <td>3</td>\n",
       "      <td>4.5</td>\n",
       "      <td>Dark Green</td>\n",
       "      <td>Excellent</td>\n",
       "      <td>591</td>\n",
       "    </tr>\n",
       "    <tr>\n",
       "      <th>2</th>\n",
       "      <td>6300002</td>\n",
       "      <td>Heat - Edsa Shangri-La</td>\n",
       "      <td>162</td>\n",
       "      <td>Mandaluyong City</td>\n",
       "      <td>Edsa Shangri-La, 1 Garden Way, Ortigas, Mandal...</td>\n",
       "      <td>Edsa Shangri-La, Ortigas, Mandaluyong City</td>\n",
       "      <td>Edsa Shangri-La, Ortigas, Mandaluyong City, Ma...</td>\n",
       "      <td>121.056831</td>\n",
       "      <td>14.581404</td>\n",
       "      <td>Seafood, Asian, Filipino, Indian</td>\n",
       "      <td>...</td>\n",
       "      <td>Botswana Pula(P)</td>\n",
       "      <td>Yes</td>\n",
       "      <td>No</td>\n",
       "      <td>No</td>\n",
       "      <td>No</td>\n",
       "      <td>4</td>\n",
       "      <td>4.4</td>\n",
       "      <td>Green</td>\n",
       "      <td>Very Good</td>\n",
       "      <td>270</td>\n",
       "    </tr>\n",
       "  </tbody>\n",
       "</table>\n",
       "<p>3 rows × 21 columns</p>\n",
       "</div>"
      ],
      "text/plain": [
       "   Restaurant ID         Restaurant Name  Country Code              City  \\\n",
       "0        6317637        Le Petit Souffle           162       Makati City   \n",
       "1        6304287        Izakaya Kikufuji           162       Makati City   \n",
       "2        6300002  Heat - Edsa Shangri-La           162  Mandaluyong City   \n",
       "\n",
       "                                             Address  \\\n",
       "0  Third Floor, Century City Mall, Kalayaan Avenu...   \n",
       "1  Little Tokyo, 2277 Chino Roces Avenue, Legaspi...   \n",
       "2  Edsa Shangri-La, 1 Garden Way, Ortigas, Mandal...   \n",
       "\n",
       "                                     Locality  \\\n",
       "0   Century City Mall, Poblacion, Makati City   \n",
       "1  Little Tokyo, Legaspi Village, Makati City   \n",
       "2  Edsa Shangri-La, Ortigas, Mandaluyong City   \n",
       "\n",
       "                                    Locality Verbose   Longitude   Latitude  \\\n",
       "0  Century City Mall, Poblacion, Makati City, Mak...  121.027535  14.565443   \n",
       "1  Little Tokyo, Legaspi Village, Makati City, Ma...  121.014101  14.553708   \n",
       "2  Edsa Shangri-La, Ortigas, Mandaluyong City, Ma...  121.056831  14.581404   \n",
       "\n",
       "                           Cuisines  ...          Currency Has Table booking  \\\n",
       "0        French, Japanese, Desserts  ...  Botswana Pula(P)               Yes   \n",
       "1                          Japanese  ...  Botswana Pula(P)               Yes   \n",
       "2  Seafood, Asian, Filipino, Indian  ...  Botswana Pula(P)               Yes   \n",
       "\n",
       "  Has Online delivery Is delivering now Switch to order menu Price range  \\\n",
       "0                  No                No                   No           3   \n",
       "1                  No                No                   No           3   \n",
       "2                  No                No                   No           4   \n",
       "\n",
       "   Aggregate rating  Rating color Rating text Votes  \n",
       "0               4.8    Dark Green   Excellent   314  \n",
       "1               4.5    Dark Green   Excellent   591  \n",
       "2               4.4         Green   Very Good   270  \n",
       "\n",
       "[3 rows x 21 columns]"
      ]
     },
     "execution_count": 22,
     "metadata": {},
     "output_type": "execute_result"
    }
   ],
   "source": [
    "df.head(3)"
   ]
  },
  {
   "cell_type": "code",
   "execution_count": 23,
   "id": "ee1685be",
   "metadata": {},
   "outputs": [],
   "source": [
    "df['Longitude'] = df['Longitude'].astype(int\n",
    "                                        )"
   ]
  },
  {
   "cell_type": "code",
   "execution_count": 15,
   "id": "973afd5f",
   "metadata": {},
   "outputs": [
    {
     "data": {
      "text/plain": [
       "Restaurant ID           0\n",
       "Restaurant Name         0\n",
       "Country Code            0\n",
       "City                    0\n",
       "Address                 0\n",
       "Locality                0\n",
       "Locality Verbose        0\n",
       "Longitude               0\n",
       "Latitude                0\n",
       "Cuisines                9\n",
       "Average Cost for two    0\n",
       "Currency                0\n",
       "Has Table booking       0\n",
       "Has Online delivery     0\n",
       "Is delivering now       0\n",
       "Switch to order menu    0\n",
       "Price range             0\n",
       "Aggregate rating        0\n",
       "Rating color            0\n",
       "Rating text             0\n",
       "Votes                   0\n",
       "dtype: int64"
      ]
     },
     "execution_count": 15,
     "metadata": {},
     "output_type": "execute_result"
    }
   ],
   "source": [
    "df.isnull().sum()"
   ]
  },
  {
   "cell_type": "code",
   "execution_count": 24,
   "id": "27d2ef7a",
   "metadata": {},
   "outputs": [
    {
     "data": {
      "text/html": [
       "<div>\n",
       "<style scoped>\n",
       "    .dataframe tbody tr th:only-of-type {\n",
       "        vertical-align: middle;\n",
       "    }\n",
       "\n",
       "    .dataframe tbody tr th {\n",
       "        vertical-align: top;\n",
       "    }\n",
       "\n",
       "    .dataframe thead th {\n",
       "        text-align: right;\n",
       "    }\n",
       "</style>\n",
       "<table border=\"1\" class=\"dataframe\">\n",
       "  <thead>\n",
       "    <tr style=\"text-align: right;\">\n",
       "      <th></th>\n",
       "      <th>Restaurant ID</th>\n",
       "      <th>Restaurant Name</th>\n",
       "      <th>Country Code</th>\n",
       "      <th>City</th>\n",
       "      <th>Address</th>\n",
       "      <th>Locality</th>\n",
       "      <th>Locality Verbose</th>\n",
       "      <th>Longitude</th>\n",
       "      <th>Latitude</th>\n",
       "      <th>Cuisines</th>\n",
       "      <th>...</th>\n",
       "      <th>Currency</th>\n",
       "      <th>Has Table booking</th>\n",
       "      <th>Has Online delivery</th>\n",
       "      <th>Is delivering now</th>\n",
       "      <th>Switch to order menu</th>\n",
       "      <th>Price range</th>\n",
       "      <th>Aggregate rating</th>\n",
       "      <th>Rating color</th>\n",
       "      <th>Rating text</th>\n",
       "      <th>Votes</th>\n",
       "    </tr>\n",
       "  </thead>\n",
       "  <tbody>\n",
       "    <tr>\n",
       "      <th>0</th>\n",
       "      <td>6317637</td>\n",
       "      <td>Le Petit Souffle</td>\n",
       "      <td>162</td>\n",
       "      <td>Makati City</td>\n",
       "      <td>Third Floor, Century City Mall, Kalayaan Avenu...</td>\n",
       "      <td>Century City Mall, Poblacion, Makati City</td>\n",
       "      <td>Century City Mall, Poblacion, Makati City, Mak...</td>\n",
       "      <td>121</td>\n",
       "      <td>14.565443</td>\n",
       "      <td>French, Japanese, Desserts</td>\n",
       "      <td>...</td>\n",
       "      <td>Botswana Pula(P)</td>\n",
       "      <td>Yes</td>\n",
       "      <td>No</td>\n",
       "      <td>No</td>\n",
       "      <td>No</td>\n",
       "      <td>3</td>\n",
       "      <td>4.8</td>\n",
       "      <td>Dark Green</td>\n",
       "      <td>Excellent</td>\n",
       "      <td>314</td>\n",
       "    </tr>\n",
       "    <tr>\n",
       "      <th>1</th>\n",
       "      <td>6304287</td>\n",
       "      <td>Izakaya Kikufuji</td>\n",
       "      <td>162</td>\n",
       "      <td>Makati City</td>\n",
       "      <td>Little Tokyo, 2277 Chino Roces Avenue, Legaspi...</td>\n",
       "      <td>Little Tokyo, Legaspi Village, Makati City</td>\n",
       "      <td>Little Tokyo, Legaspi Village, Makati City, Ma...</td>\n",
       "      <td>121</td>\n",
       "      <td>14.553708</td>\n",
       "      <td>Japanese</td>\n",
       "      <td>...</td>\n",
       "      <td>Botswana Pula(P)</td>\n",
       "      <td>Yes</td>\n",
       "      <td>No</td>\n",
       "      <td>No</td>\n",
       "      <td>No</td>\n",
       "      <td>3</td>\n",
       "      <td>4.5</td>\n",
       "      <td>Dark Green</td>\n",
       "      <td>Excellent</td>\n",
       "      <td>591</td>\n",
       "    </tr>\n",
       "    <tr>\n",
       "      <th>2</th>\n",
       "      <td>6300002</td>\n",
       "      <td>Heat - Edsa Shangri-La</td>\n",
       "      <td>162</td>\n",
       "      <td>Mandaluyong City</td>\n",
       "      <td>Edsa Shangri-La, 1 Garden Way, Ortigas, Mandal...</td>\n",
       "      <td>Edsa Shangri-La, Ortigas, Mandaluyong City</td>\n",
       "      <td>Edsa Shangri-La, Ortigas, Mandaluyong City, Ma...</td>\n",
       "      <td>121</td>\n",
       "      <td>14.581404</td>\n",
       "      <td>Seafood, Asian, Filipino, Indian</td>\n",
       "      <td>...</td>\n",
       "      <td>Botswana Pula(P)</td>\n",
       "      <td>Yes</td>\n",
       "      <td>No</td>\n",
       "      <td>No</td>\n",
       "      <td>No</td>\n",
       "      <td>4</td>\n",
       "      <td>4.4</td>\n",
       "      <td>Green</td>\n",
       "      <td>Very Good</td>\n",
       "      <td>270</td>\n",
       "    </tr>\n",
       "  </tbody>\n",
       "</table>\n",
       "<p>3 rows × 21 columns</p>\n",
       "</div>"
      ],
      "text/plain": [
       "   Restaurant ID         Restaurant Name  Country Code              City  \\\n",
       "0        6317637        Le Petit Souffle           162       Makati City   \n",
       "1        6304287        Izakaya Kikufuji           162       Makati City   \n",
       "2        6300002  Heat - Edsa Shangri-La           162  Mandaluyong City   \n",
       "\n",
       "                                             Address  \\\n",
       "0  Third Floor, Century City Mall, Kalayaan Avenu...   \n",
       "1  Little Tokyo, 2277 Chino Roces Avenue, Legaspi...   \n",
       "2  Edsa Shangri-La, 1 Garden Way, Ortigas, Mandal...   \n",
       "\n",
       "                                     Locality  \\\n",
       "0   Century City Mall, Poblacion, Makati City   \n",
       "1  Little Tokyo, Legaspi Village, Makati City   \n",
       "2  Edsa Shangri-La, Ortigas, Mandaluyong City   \n",
       "\n",
       "                                    Locality Verbose  Longitude   Latitude  \\\n",
       "0  Century City Mall, Poblacion, Makati City, Mak...        121  14.565443   \n",
       "1  Little Tokyo, Legaspi Village, Makati City, Ma...        121  14.553708   \n",
       "2  Edsa Shangri-La, Ortigas, Mandaluyong City, Ma...        121  14.581404   \n",
       "\n",
       "                           Cuisines  ...          Currency Has Table booking  \\\n",
       "0        French, Japanese, Desserts  ...  Botswana Pula(P)               Yes   \n",
       "1                          Japanese  ...  Botswana Pula(P)               Yes   \n",
       "2  Seafood, Asian, Filipino, Indian  ...  Botswana Pula(P)               Yes   \n",
       "\n",
       "  Has Online delivery Is delivering now Switch to order menu Price range  \\\n",
       "0                  No                No                   No           3   \n",
       "1                  No                No                   No           3   \n",
       "2                  No                No                   No           4   \n",
       "\n",
       "   Aggregate rating  Rating color Rating text Votes  \n",
       "0               4.8    Dark Green   Excellent   314  \n",
       "1               4.5    Dark Green   Excellent   591  \n",
       "2               4.4         Green   Very Good   270  \n",
       "\n",
       "[3 rows x 21 columns]"
      ]
     },
     "execution_count": 24,
     "metadata": {},
     "output_type": "execute_result"
    }
   ],
   "source": [
    "df.head(3)"
   ]
  },
  {
   "cell_type": "code",
   "execution_count": 16,
   "id": "419e513d",
   "metadata": {},
   "outputs": [
    {
     "data": {
      "text/plain": [
       "9"
      ]
     },
     "execution_count": 16,
     "metadata": {},
     "output_type": "execute_result"
    }
   ],
   "source": [
    "df['Cuisines'].isnull().sum()"
   ]
  },
  {
   "cell_type": "code",
   "execution_count": 26,
   "id": "69385ff4",
   "metadata": {},
   "outputs": [
    {
     "data": {
      "text/html": [
       "<div>\n",
       "<style scoped>\n",
       "    .dataframe tbody tr th:only-of-type {\n",
       "        vertical-align: middle;\n",
       "    }\n",
       "\n",
       "    .dataframe tbody tr th {\n",
       "        vertical-align: top;\n",
       "    }\n",
       "\n",
       "    .dataframe thead th {\n",
       "        text-align: right;\n",
       "    }\n",
       "</style>\n",
       "<table border=\"1\" class=\"dataframe\">\n",
       "  <thead>\n",
       "    <tr style=\"text-align: right;\">\n",
       "      <th></th>\n",
       "      <th>Restaurant ID</th>\n",
       "      <th>Restaurant Name</th>\n",
       "      <th>Country Code</th>\n",
       "      <th>City</th>\n",
       "      <th>Address</th>\n",
       "      <th>Locality</th>\n",
       "      <th>Locality Verbose</th>\n",
       "      <th>Longitude</th>\n",
       "      <th>Latitude</th>\n",
       "      <th>Cuisines</th>\n",
       "      <th>...</th>\n",
       "      <th>Currency</th>\n",
       "      <th>Has Table booking</th>\n",
       "      <th>Has Online delivery</th>\n",
       "      <th>Is delivering now</th>\n",
       "      <th>Switch to order menu</th>\n",
       "      <th>Price range</th>\n",
       "      <th>Aggregate rating</th>\n",
       "      <th>Rating color</th>\n",
       "      <th>Rating text</th>\n",
       "      <th>Votes</th>\n",
       "    </tr>\n",
       "  </thead>\n",
       "  <tbody>\n",
       "    <tr>\n",
       "      <th>0</th>\n",
       "      <td>6317637</td>\n",
       "      <td>Le Petit Souffle</td>\n",
       "      <td>162</td>\n",
       "      <td>Makati City</td>\n",
       "      <td>Third Floor, Century City Mall, Kalayaan Avenu...</td>\n",
       "      <td>Century City Mall, Poblacion, Makati City</td>\n",
       "      <td>Century City Mall, Poblacion, Makati City, Mak...</td>\n",
       "      <td>121</td>\n",
       "      <td>14</td>\n",
       "      <td>French, Japanese, Desserts</td>\n",
       "      <td>...</td>\n",
       "      <td>Botswana Pula(P)</td>\n",
       "      <td>Yes</td>\n",
       "      <td>No</td>\n",
       "      <td>No</td>\n",
       "      <td>No</td>\n",
       "      <td>3</td>\n",
       "      <td>4.8</td>\n",
       "      <td>Dark Green</td>\n",
       "      <td>Excellent</td>\n",
       "      <td>314</td>\n",
       "    </tr>\n",
       "    <tr>\n",
       "      <th>1</th>\n",
       "      <td>6304287</td>\n",
       "      <td>Izakaya Kikufuji</td>\n",
       "      <td>162</td>\n",
       "      <td>Makati City</td>\n",
       "      <td>Little Tokyo, 2277 Chino Roces Avenue, Legaspi...</td>\n",
       "      <td>Little Tokyo, Legaspi Village, Makati City</td>\n",
       "      <td>Little Tokyo, Legaspi Village, Makati City, Ma...</td>\n",
       "      <td>121</td>\n",
       "      <td>14</td>\n",
       "      <td>Japanese</td>\n",
       "      <td>...</td>\n",
       "      <td>Botswana Pula(P)</td>\n",
       "      <td>Yes</td>\n",
       "      <td>No</td>\n",
       "      <td>No</td>\n",
       "      <td>No</td>\n",
       "      <td>3</td>\n",
       "      <td>4.5</td>\n",
       "      <td>Dark Green</td>\n",
       "      <td>Excellent</td>\n",
       "      <td>591</td>\n",
       "    </tr>\n",
       "    <tr>\n",
       "      <th>2</th>\n",
       "      <td>6300002</td>\n",
       "      <td>Heat - Edsa Shangri-La</td>\n",
       "      <td>162</td>\n",
       "      <td>Mandaluyong City</td>\n",
       "      <td>Edsa Shangri-La, 1 Garden Way, Ortigas, Mandal...</td>\n",
       "      <td>Edsa Shangri-La, Ortigas, Mandaluyong City</td>\n",
       "      <td>Edsa Shangri-La, Ortigas, Mandaluyong City, Ma...</td>\n",
       "      <td>121</td>\n",
       "      <td>14</td>\n",
       "      <td>Seafood, Asian, Filipino, Indian</td>\n",
       "      <td>...</td>\n",
       "      <td>Botswana Pula(P)</td>\n",
       "      <td>Yes</td>\n",
       "      <td>No</td>\n",
       "      <td>No</td>\n",
       "      <td>No</td>\n",
       "      <td>4</td>\n",
       "      <td>4.4</td>\n",
       "      <td>Green</td>\n",
       "      <td>Very Good</td>\n",
       "      <td>270</td>\n",
       "    </tr>\n",
       "  </tbody>\n",
       "</table>\n",
       "<p>3 rows × 21 columns</p>\n",
       "</div>"
      ],
      "text/plain": [
       "   Restaurant ID         Restaurant Name  Country Code              City  \\\n",
       "0        6317637        Le Petit Souffle           162       Makati City   \n",
       "1        6304287        Izakaya Kikufuji           162       Makati City   \n",
       "2        6300002  Heat - Edsa Shangri-La           162  Mandaluyong City   \n",
       "\n",
       "                                             Address  \\\n",
       "0  Third Floor, Century City Mall, Kalayaan Avenu...   \n",
       "1  Little Tokyo, 2277 Chino Roces Avenue, Legaspi...   \n",
       "2  Edsa Shangri-La, 1 Garden Way, Ortigas, Mandal...   \n",
       "\n",
       "                                     Locality  \\\n",
       "0   Century City Mall, Poblacion, Makati City   \n",
       "1  Little Tokyo, Legaspi Village, Makati City   \n",
       "2  Edsa Shangri-La, Ortigas, Mandaluyong City   \n",
       "\n",
       "                                    Locality Verbose  Longitude  Latitude  \\\n",
       "0  Century City Mall, Poblacion, Makati City, Mak...        121        14   \n",
       "1  Little Tokyo, Legaspi Village, Makati City, Ma...        121        14   \n",
       "2  Edsa Shangri-La, Ortigas, Mandaluyong City, Ma...        121        14   \n",
       "\n",
       "                           Cuisines  ...          Currency Has Table booking  \\\n",
       "0        French, Japanese, Desserts  ...  Botswana Pula(P)               Yes   \n",
       "1                          Japanese  ...  Botswana Pula(P)               Yes   \n",
       "2  Seafood, Asian, Filipino, Indian  ...  Botswana Pula(P)               Yes   \n",
       "\n",
       "  Has Online delivery Is delivering now Switch to order menu Price range  \\\n",
       "0                  No                No                   No           3   \n",
       "1                  No                No                   No           3   \n",
       "2                  No                No                   No           4   \n",
       "\n",
       "   Aggregate rating  Rating color Rating text Votes  \n",
       "0               4.8    Dark Green   Excellent   314  \n",
       "1               4.5    Dark Green   Excellent   591  \n",
       "2               4.4         Green   Very Good   270  \n",
       "\n",
       "[3 rows x 21 columns]"
      ]
     },
     "execution_count": 26,
     "metadata": {},
     "output_type": "execute_result"
    }
   ],
   "source": [
    "df['Latitude'] = df['Latitude'].astype(int)\n",
    "df.head(3)"
   ]
  },
  {
   "cell_type": "code",
   "execution_count": 17,
   "id": "ffa5ed48",
   "metadata": {},
   "outputs": [
    {
     "data": {
      "text/plain": [
       "<AxesSubplot:>"
      ]
     },
     "execution_count": 17,
     "metadata": {},
     "output_type": "execute_result"
    },
    {
     "data": {
      "image/png": "[encoded data removed]",
      "text/plain": [
       "<Figure size 640x480 with 1 Axes>"
      ]
     },
     "metadata": {},
     "output_type": "display_data"
    }
   ],
   "source": [
    "sns.scatterplot()"
   ]
  },
  {
   "cell_type": "code",
   "execution_count": 18,
   "id": "2198e149",
   "metadata": {},
   "outputs": [
    {
     "data": {
      "text/plain": [
       "<AxesSubplot:xlabel='Longitude', ylabel='Latitude'>"
      ]
     },
     "execution_count": 18,
     "metadata": {},
     "output_type": "execute_result"
    },
    {
     "data": {
      "image/png": "[encoded data removed]",
      "text/plain": [
       "<Figure size 640x480 with 1 Axes>"
      ]
     },
     "metadata": {},
     "output_type": "display_data"
    }
   ],
   "source": [
    "sns.scatterplot(x='Longitude', y ='Latitude', data = df)\n"
   ]
  },
  {
   "cell_type": "code",
   "execution_count": 40,
   "id": "7388386c",
   "metadata": {},
   "outputs": [
    {
     "data": {
      "image/png": "[encoded data removed]",
      "text/plain": [
       "<Figure size 640x480 with 2 Axes>"
      ]
     },
     "metadata": {},
     "output_type": "display_data"
    }
   ],
   "source": [
    "heatmap_data = df.pivot_table(index = 'Latitude', columns = 'Longitude' )\n",
    "sns.heatmap(heatmap_data, cmap = 'YlGnBu', )\n",
    "plt.title('Heatmap of Density based on Longitude and Latitude')\n",
    "plt.xlabel('Longitude')\n",
    "plt.ylabel('Latitude')\n",
    "plt.show()"
   ]
  },
  {
   "cell_type": "code",
   "execution_count": null,
   "id": "70782b95",
   "metadata": {},
   "outputs": [],
   "source": [
    "df.columns"
   ]
  },
  {
   "cell_type": "code",
   "execution_count": null,
   "id": "6c2dd4a5",
   "metadata": {},
   "outputs": [],
   "source": [
    "[x for x in df.columns if df[x].isnull().sum()>0]"
   ]
  },
  {
   "cell_type": "code",
   "execution_count": null,
   "id": "e6a0fe06",
   "metadata": {},
   "outputs": [],
   "source": [
    "sns.heatmap(df.isnull(), )"
   ]
  },
  {
   "cell_type": "code",
   "execution_count": null,
   "id": "2794d466",
   "metadata": {},
   "outputs": [],
   "source": [
    "df.columns"
   ]
  },
  {
   "cell_type": "code",
   "execution_count": null,
   "id": "84b6791a",
   "metadata": {},
   "outputs": [],
   "source": [
    "df['City'] = df['City'].astype(int)"
   ]
  },
  {
   "cell_type": "code",
   "execution_count": null,
   "id": "d1b2aadf",
   "metadata": {},
   "outputs": [],
   "source": [
    "sns.relplot(data= df, x= \"city\", y = \"Votes\", kind = \"line\")"
   ]
  },
  {
   "cell_type": "code",
   "execution_count": null,
   "id": "bdfe56d4",
   "metadata": {},
   "outputs": [],
   "source": [
    "df['City'] = pd.to_numeric(df['City'], errors='coerce')\n"
   ]
  },
  {
   "cell_type": "code",
   "execution_count": null,
   "id": "91e9d5e0",
   "metadata": {},
   "outputs": [],
   "source": [
    "sns.relplot(data= df, x= \"city\", y = \"Votes\", kind = \"line\")"
   ]
  },
  {
   "cell_type": "markdown",
   "id": "b0b5b112",
   "metadata": {},
   "source": [
    "## Total questions to be solved\n",
    "1. What is the total number of restaurants in the dataset?\n",
    "2. Which countries are represented in the dataset, and\n",
    "how many restaurants are in each country?\n",
    "3. How many unique cities are covered by the dataset?\n",
    "4. What is the average cost for two people dining across\n",
    "all restaurants?\n",
    "5. Which currency is the most commonly used in the\n",
    "dataset?\n",
    "6. What are the top 5 cities with the most restaurants?\n",
    "7. Can you identify the restaurant with the highest latitude\n",
    "and longitude values? Where is it located?\n",
    "8. How many restaurants have \"online delivery\" available?\n",
    "9. Which city has the highest number of restaurants\n",
    "offering online delivery?\n",
    "10. What are the top 5 most popular cuisines in the\n",
    "dataset?\n",
    "11. What is the distribution of restaurants based on their\n",
    "price range?\n",
    "12. Are there any correlations between the price range\n",
    "and the average cost for two people?\n",
    "13. What is the distribution of restaurant ratings\n",
    "(Aggregate Rating)?\n",
    "14. Is there a correlation between the number of votes and\n",
    "the restaurant's rating?\n",
    "15. How many restaurants have a rating of \"Excellent\"?\n",
    "16. What is the most common rating color in the dataset?\n",
    "17. How many restaurants accept table bookings?\n",
    "18. Do restaurants that accept table bookings tend to have\n",
    "higher ratings?\n",
    "19. What percentage of restaurants offer online delivery?\n",
    "20. Is there a relationship between online delivery\n",
    "availability and a restaurant's rating?\n",
    "21. Which locality has the highest number of restaurants?\n",
    "22. Are there restaurants in the dataset that share the\n",
    "same address?\n",
    "23. How many restaurants are located within a specific\n",
    "geographic radius of a given location?\n",
    "24. What is the average cost for two people dining for\n",
    "each cuisine type?\n"
   ]
  },
  {
   "cell_type": "code",
   "execution_count": 17,
   "id": "ba7aec82",
   "metadata": {},
   "outputs": [
    {
     "data": {
      "text/plain": [
       "Index(['Restaurant ID', 'Restaurant Name', 'Country Code', 'City', 'Address',\n",
       "       'Locality', 'Locality Verbose', 'Longitude', 'Latitude', 'Cuisines',\n",
       "       'Average Cost for two', 'Currency', 'Has Table booking',\n",
       "       'Has Online delivery', 'Is delivering now', 'Switch to order menu',\n",
       "       'Price range', 'Aggregate rating', 'Rating color', 'Rating text',\n",
       "       'Votes'],\n",
       "      dtype='object')"
      ]
     },
     "execution_count": 17,
     "metadata": {},
     "output_type": "execute_result"
    }
   ],
   "source": [
    "df.columns"
   ]
  },
  {
   "cell_type": "code",
   "execution_count": 7,
   "id": "d530f6df",
   "metadata": {},
   "outputs": [
    {
     "data": {
      "text/html": [
       "<div>\n",
       "<style scoped>\n",
       "    .dataframe tbody tr th:only-of-type {\n",
       "        vertical-align: middle;\n",
       "    }\n",
       "\n",
       "    .dataframe tbody tr th {\n",
       "        vertical-align: top;\n",
       "    }\n",
       "\n",
       "    .dataframe thead th {\n",
       "        text-align: right;\n",
       "    }\n",
       "</style>\n",
       "<table border=\"1\" class=\"dataframe\">\n",
       "  <thead>\n",
       "    <tr style=\"text-align: right;\">\n",
       "      <th></th>\n",
       "      <th>Restaurant ID</th>\n",
       "      <th>Restaurant Name</th>\n",
       "      <th>Country Code</th>\n",
       "      <th>City</th>\n",
       "      <th>Address</th>\n",
       "      <th>Locality</th>\n",
       "      <th>Locality Verbose</th>\n",
       "      <th>Longitude</th>\n",
       "      <th>Latitude</th>\n",
       "      <th>Cuisines</th>\n",
       "      <th>...</th>\n",
       "      <th>Currency</th>\n",
       "      <th>Has Table booking</th>\n",
       "      <th>Has Online delivery</th>\n",
       "      <th>Is delivering now</th>\n",
       "      <th>Switch to order menu</th>\n",
       "      <th>Price range</th>\n",
       "      <th>Aggregate rating</th>\n",
       "      <th>Rating color</th>\n",
       "      <th>Rating text</th>\n",
       "      <th>Votes</th>\n",
       "    </tr>\n",
       "  </thead>\n",
       "  <tbody>\n",
       "    <tr>\n",
       "      <th>0</th>\n",
       "      <td>6317637</td>\n",
       "      <td>Le Petit Souffle</td>\n",
       "      <td>162</td>\n",
       "      <td>Makati City</td>\n",
       "      <td>Third Floor, Century City Mall, Kalayaan Avenu...</td>\n",
       "      <td>Century City Mall, Poblacion, Makati City</td>\n",
       "      <td>Century City Mall, Poblacion, Makati City, Mak...</td>\n",
       "      <td>121.027535</td>\n",
       "      <td>14.565443</td>\n",
       "      <td>French, Japanese, Desserts</td>\n",
       "      <td>...</td>\n",
       "      <td>Botswana Pula(P)</td>\n",
       "      <td>Yes</td>\n",
       "      <td>No</td>\n",
       "      <td>No</td>\n",
       "      <td>No</td>\n",
       "      <td>3</td>\n",
       "      <td>4.8</td>\n",
       "      <td>Dark Green</td>\n",
       "      <td>Excellent</td>\n",
       "      <td>314</td>\n",
       "    </tr>\n",
       "    <tr>\n",
       "      <th>1</th>\n",
       "      <td>6304287</td>\n",
       "      <td>Izakaya Kikufuji</td>\n",
       "      <td>162</td>\n",
       "      <td>Makati City</td>\n",
       "      <td>Little Tokyo, 2277 Chino Roces Avenue, Legaspi...</td>\n",
       "      <td>Little Tokyo, Legaspi Village, Makati City</td>\n",
       "      <td>Little Tokyo, Legaspi Village, Makati City, Ma...</td>\n",
       "      <td>121.014101</td>\n",
       "      <td>14.553708</td>\n",
       "      <td>Japanese</td>\n",
       "      <td>...</td>\n",
       "      <td>Botswana Pula(P)</td>\n",
       "      <td>Yes</td>\n",
       "      <td>No</td>\n",
       "      <td>No</td>\n",
       "      <td>No</td>\n",
       "      <td>3</td>\n",
       "      <td>4.5</td>\n",
       "      <td>Dark Green</td>\n",
       "      <td>Excellent</td>\n",
       "      <td>591</td>\n",
       "    </tr>\n",
       "    <tr>\n",
       "      <th>2</th>\n",
       "      <td>6300002</td>\n",
       "      <td>Heat - Edsa Shangri-La</td>\n",
       "      <td>162</td>\n",
       "      <td>Mandaluyong City</td>\n",
       "      <td>Edsa Shangri-La, 1 Garden Way, Ortigas, Mandal...</td>\n",
       "      <td>Edsa Shangri-La, Ortigas, Mandaluyong City</td>\n",
       "      <td>Edsa Shangri-La, Ortigas, Mandaluyong City, Ma...</td>\n",
       "      <td>121.056831</td>\n",
       "      <td>14.581404</td>\n",
       "      <td>Seafood, Asian, Filipino, Indian</td>\n",
       "      <td>...</td>\n",
       "      <td>Botswana Pula(P)</td>\n",
       "      <td>Yes</td>\n",
       "      <td>No</td>\n",
       "      <td>No</td>\n",
       "      <td>No</td>\n",
       "      <td>4</td>\n",
       "      <td>4.4</td>\n",
       "      <td>Green</td>\n",
       "      <td>Very Good</td>\n",
       "      <td>270</td>\n",
       "    </tr>\n",
       "  </tbody>\n",
       "</table>\n",
       "<p>3 rows × 21 columns</p>\n",
       "</div>"
      ],
      "text/plain": [
       "   Restaurant ID         Restaurant Name  Country Code              City  \\\n",
       "0        6317637        Le Petit Souffle           162       Makati City   \n",
       "1        6304287        Izakaya Kikufuji           162       Makati City   \n",
       "2        6300002  Heat - Edsa Shangri-La           162  Mandaluyong City   \n",
       "\n",
       "                                             Address  \\\n",
       "0  Third Floor, Century City Mall, Kalayaan Avenu...   \n",
       "1  Little Tokyo, 2277 Chino Roces Avenue, Legaspi...   \n",
       "2  Edsa Shangri-La, 1 Garden Way, Ortigas, Mandal...   \n",
       "\n",
       "                                     Locality  \\\n",
       "0   Century City Mall, Poblacion, Makati City   \n",
       "1  Little Tokyo, Legaspi Village, Makati City   \n",
       "2  Edsa Shangri-La, Ortigas, Mandaluyong City   \n",
       "\n",
       "                                    Locality Verbose   Longitude   Latitude  \\\n",
       "0  Century City Mall, Poblacion, Makati City, Mak...  121.027535  14.565443   \n",
       "1  Little Tokyo, Legaspi Village, Makati City, Ma...  121.014101  14.553708   \n",
       "2  Edsa Shangri-La, Ortigas, Mandaluyong City, Ma...  121.056831  14.581404   \n",
       "\n",
       "                           Cuisines  ...          Currency Has Table booking  \\\n",
       "0        French, Japanese, Desserts  ...  Botswana Pula(P)               Yes   \n",
       "1                          Japanese  ...  Botswana Pula(P)               Yes   \n",
       "2  Seafood, Asian, Filipino, Indian  ...  Botswana Pula(P)               Yes   \n",
       "\n",
       "  Has Online delivery Is delivering now Switch to order menu Price range  \\\n",
       "0                  No                No                   No           3   \n",
       "1                  No                No                   No           3   \n",
       "2                  No                No                   No           4   \n",
       "\n",
       "   Aggregate rating  Rating color Rating text Votes  \n",
       "0               4.8    Dark Green   Excellent   314  \n",
       "1               4.5    Dark Green   Excellent   591  \n",
       "2               4.4         Green   Very Good   270  \n",
       "\n",
       "[3 rows x 21 columns]"
      ]
     },
     "execution_count": 7,
     "metadata": {},
     "output_type": "execute_result"
    }
   ],
   "source": [
    "df.head(3)"
   ]
  },
  {
   "cell_type": "markdown",
   "id": "1b624589",
   "metadata": {},
   "source": [
    "## 1) What is the total number of restaurants in the dataset?\n"
   ]
  },
  {
   "cell_type": "code",
   "execution_count": 13,
   "id": "bde4da28",
   "metadata": {},
   "outputs": [
    {
     "name": "stdout",
     "output_type": "stream",
     "text": [
      "9551\n"
     ]
    }
   ],
   "source": [
    "# 1) What is the total number of restaurants in the dataset?\n",
    "total_restaurants = len(df['Restaurant Name'])\n",
    "print(total_restaurants)"
   ]
  },
  {
   "cell_type": "code",
   "execution_count": 16,
   "id": "a220e267",
   "metadata": {},
   "outputs": [],
   "source": [
    "# # Another methods to do the same\n",
    "# # method 1\n",
    "# total_restaurants = df['Restaurant Name'].count()\n",
    "# print(total_restaurants)\n",
    "\n",
    "# # method 2\n",
    "# total_restaurants = df.shape[0]\n",
    "# print(\"Total number of restaurants in the dataset:\", total_restaurants)\n",
    "\n",
    "# # method 3\n",
    "# total_restaurants = df['Restaurant Name'].index.size\n",
    "# print(\"Total number of restaurants in the dataset:\", total_restaurants)\n"
   ]
  },
  {
   "cell_type": "markdown",
   "id": "8f2758dd",
   "metadata": {},
   "source": [
    "##  2) Which countries are represented in the dataset, and how many restaurants are in each country? (_p_)"
   ]
  },
  {
   "cell_type": "code",
   "execution_count": 18,
   "id": "84e1e110",
   "metadata": {},
   "outputs": [
    {
     "data": {
      "text/plain": [
       "Index(['Restaurant ID', 'Restaurant Name', 'Country Code', 'City', 'Address',\n",
       "       'Locality', 'Locality Verbose', 'Longitude', 'Latitude', 'Cuisines',\n",
       "       'Average Cost for two', 'Currency', 'Has Table booking',\n",
       "       'Has Online delivery', 'Is delivering now', 'Switch to order menu',\n",
       "       'Price range', 'Aggregate rating', 'Rating color', 'Rating text',\n",
       "       'Votes'],\n",
       "      dtype='object')"
      ]
     },
     "execution_count": 18,
     "metadata": {},
     "output_type": "execute_result"
    }
   ],
   "source": [
    "# 2) Which countries are represented in the dataset, and how many restaurants are in each country?\n",
    "\n",
    "df.columns"
   ]
  },
  {
   "cell_type": "code",
   "execution_count": 30,
   "id": "aea95a47",
   "metadata": {},
   "outputs": [
    {
     "name": "stdout",
     "output_type": "stream",
     "text": [
      "15\n"
     ]
    }
   ],
   "source": [
    "# total countries \n",
    "unique_codes = df['Country Code'].nunique()\n",
    "print(unique_codes)"
   ]
  },
  {
   "cell_type": "code",
   "execution_count": 47,
   "id": "041c09d8",
   "metadata": {},
   "outputs": [
    {
     "name": "stdout",
     "output_type": "stream",
     "text": [
      "162\n",
      "30\n",
      "216\n",
      "14\n",
      "37\n",
      "184\n",
      "214\n",
      "1\n",
      "94\n",
      "148\n",
      "215\n",
      "166\n",
      "189\n",
      "191\n",
      "208\n"
     ]
    }
   ],
   "source": [
    "# countries with their code\n",
    "\n",
    "for code in unique_codes: \n",
    "    print(str(code))"
   ]
  },
  {
   "cell_type": "code",
   "execution_count": 48,
   "id": "85e3d01d",
   "metadata": {
    "scrolled": true
   },
   "outputs": [
    {
     "name": "stdout",
     "output_type": "stream",
     "text": [
      "162\n",
      "30\n",
      "216\n",
      "14\n",
      "37\n",
      "184\n",
      "214\n",
      "1\n",
      "94\n",
      "148\n",
      "215\n",
      "166\n",
      "189\n",
      "191\n",
      "208\n"
     ]
    }
   ],
   "source": [
    "# WE can also print it by converting int into list, or like above(int to string)\n",
    "\n",
    "unique_codes = df['Country Code'].unique()\n",
    "\n",
    "if isinstance(unique_codes, int):\n",
    "    unique_codes = [unique_codes]  # Convert the single integer to a list\n",
    "\n",
    "for code in unique_codes:\n",
    "    print(str(code))"
   ]
  },
  {
   "cell_type": "code",
   "execution_count": 5,
   "id": "52b59cf2",
   "metadata": {},
   "outputs": [
    {
     "data": {
      "text/html": [
       "<div>\n",
       "<style scoped>\n",
       "    .dataframe tbody tr th:only-of-type {\n",
       "        vertical-align: middle;\n",
       "    }\n",
       "\n",
       "    .dataframe tbody tr th {\n",
       "        vertical-align: top;\n",
       "    }\n",
       "\n",
       "    .dataframe thead th {\n",
       "        text-align: right;\n",
       "    }\n",
       "</style>\n",
       "<table border=\"1\" class=\"dataframe\">\n",
       "  <thead>\n",
       "    <tr style=\"text-align: right;\">\n",
       "      <th></th>\n",
       "      <th>Restaurant ID</th>\n",
       "      <th>Restaurant Name</th>\n",
       "      <th>Country Code</th>\n",
       "      <th>City</th>\n",
       "      <th>Address</th>\n",
       "      <th>Locality</th>\n",
       "      <th>Locality Verbose</th>\n",
       "      <th>Longitude</th>\n",
       "      <th>Latitude</th>\n",
       "      <th>Cuisines</th>\n",
       "      <th>...</th>\n",
       "      <th>Currency</th>\n",
       "      <th>Has Table booking</th>\n",
       "      <th>Has Online delivery</th>\n",
       "      <th>Is delivering now</th>\n",
       "      <th>Switch to order menu</th>\n",
       "      <th>Price range</th>\n",
       "      <th>Aggregate rating</th>\n",
       "      <th>Rating color</th>\n",
       "      <th>Rating text</th>\n",
       "      <th>Votes</th>\n",
       "    </tr>\n",
       "  </thead>\n",
       "  <tbody>\n",
       "    <tr>\n",
       "      <th>0</th>\n",
       "      <td>6317637</td>\n",
       "      <td>Le Petit Souffle</td>\n",
       "      <td>162</td>\n",
       "      <td>Makati City</td>\n",
       "      <td>Third Floor, Century City Mall, Kalayaan Avenu...</td>\n",
       "      <td>Century City Mall, Poblacion, Makati City</td>\n",
       "      <td>Century City Mall, Poblacion, Makati City, Mak...</td>\n",
       "      <td>121.027535</td>\n",
       "      <td>14.565443</td>\n",
       "      <td>French, Japanese, Desserts</td>\n",
       "      <td>...</td>\n",
       "      <td>Botswana Pula(P)</td>\n",
       "      <td>Yes</td>\n",
       "      <td>No</td>\n",
       "      <td>No</td>\n",
       "      <td>No</td>\n",
       "      <td>3</td>\n",
       "      <td>4.8</td>\n",
       "      <td>Dark Green</td>\n",
       "      <td>Excellent</td>\n",
       "      <td>314</td>\n",
       "    </tr>\n",
       "    <tr>\n",
       "      <th>1</th>\n",
       "      <td>6304287</td>\n",
       "      <td>Izakaya Kikufuji</td>\n",
       "      <td>162</td>\n",
       "      <td>Makati City</td>\n",
       "      <td>Little Tokyo, 2277 Chino Roces Avenue, Legaspi...</td>\n",
       "      <td>Little Tokyo, Legaspi Village, Makati City</td>\n",
       "      <td>Little Tokyo, Legaspi Village, Makati City, Ma...</td>\n",
       "      <td>121.014101</td>\n",
       "      <td>14.553708</td>\n",
       "      <td>Japanese</td>\n",
       "      <td>...</td>\n",
       "      <td>Botswana Pula(P)</td>\n",
       "      <td>Yes</td>\n",
       "      <td>No</td>\n",
       "      <td>No</td>\n",
       "      <td>No</td>\n",
       "      <td>3</td>\n",
       "      <td>4.5</td>\n",
       "      <td>Dark Green</td>\n",
       "      <td>Excellent</td>\n",
       "      <td>591</td>\n",
       "    </tr>\n",
       "    <tr>\n",
       "      <th>2</th>\n",
       "      <td>6300002</td>\n",
       "      <td>Heat - Edsa Shangri-La</td>\n",
       "      <td>162</td>\n",
       "      <td>Mandaluyong City</td>\n",
       "      <td>Edsa Shangri-La, 1 Garden Way, Ortigas, Mandal...</td>\n",
       "      <td>Edsa Shangri-La, Ortigas, Mandaluyong City</td>\n",
       "      <td>Edsa Shangri-La, Ortigas, Mandaluyong City, Ma...</td>\n",
       "      <td>121.056831</td>\n",
       "      <td>14.581404</td>\n",
       "      <td>Seafood, Asian, Filipino, Indian</td>\n",
       "      <td>...</td>\n",
       "      <td>Botswana Pula(P)</td>\n",
       "      <td>Yes</td>\n",
       "      <td>No</td>\n",
       "      <td>No</td>\n",
       "      <td>No</td>\n",
       "      <td>4</td>\n",
       "      <td>4.4</td>\n",
       "      <td>Green</td>\n",
       "      <td>Very Good</td>\n",
       "      <td>270</td>\n",
       "    </tr>\n",
       "  </tbody>\n",
       "</table>\n",
       "<p>3 rows × 21 columns</p>\n",
       "</div>"
      ],
      "text/plain": [
       "   Restaurant ID         Restaurant Name  Country Code              City  \\\n",
       "0        6317637        Le Petit Souffle           162       Makati City   \n",
       "1        6304287        Izakaya Kikufuji           162       Makati City   \n",
       "2        6300002  Heat - Edsa Shangri-La           162  Mandaluyong City   \n",
       "\n",
       "                                             Address  \\\n",
       "0  Third Floor, Century City Mall, Kalayaan Avenu...   \n",
       "1  Little Tokyo, 2277 Chino Roces Avenue, Legaspi...   \n",
       "2  Edsa Shangri-La, 1 Garden Way, Ortigas, Mandal...   \n",
       "\n",
       "                                     Locality  \\\n",
       "0   Century City Mall, Poblacion, Makati City   \n",
       "1  Little Tokyo, Legaspi Village, Makati City   \n",
       "2  Edsa Shangri-La, Ortigas, Mandaluyong City   \n",
       "\n",
       "                                    Locality Verbose   Longitude   Latitude  \\\n",
       "0  Century City Mall, Poblacion, Makati City, Mak...  121.027535  14.565443   \n",
       "1  Little Tokyo, Legaspi Village, Makati City, Ma...  121.014101  14.553708   \n",
       "2  Edsa Shangri-La, Ortigas, Mandaluyong City, Ma...  121.056831  14.581404   \n",
       "\n",
       "                           Cuisines  ...          Currency Has Table booking  \\\n",
       "0        French, Japanese, Desserts  ...  Botswana Pula(P)               Yes   \n",
       "1                          Japanese  ...  Botswana Pula(P)               Yes   \n",
       "2  Seafood, Asian, Filipino, Indian  ...  Botswana Pula(P)               Yes   \n",
       "\n",
       "  Has Online delivery Is delivering now Switch to order menu Price range  \\\n",
       "0                  No                No                   No           3   \n",
       "1                  No                No                   No           3   \n",
       "2                  No                No                   No           4   \n",
       "\n",
       "   Aggregate rating  Rating color Rating text Votes  \n",
       "0               4.8    Dark Green   Excellent   314  \n",
       "1               4.5    Dark Green   Excellent   591  \n",
       "2               4.4         Green   Very Good   270  \n",
       "\n",
       "[3 rows x 21 columns]"
      ]
     },
     "execution_count": 5,
     "metadata": {},
     "output_type": "execute_result"
    }
   ],
   "source": [
    "df.head(3)"
   ]
  },
  {
   "cell_type": "code",
   "execution_count": 6,
   "id": "e0fb83c4",
   "metadata": {},
   "outputs": [
    {
     "data": {
      "text/plain": [
       "Index(['Restaurant ID', 'Restaurant Name', 'Country Code', 'City', 'Address',\n",
       "       'Locality', 'Locality Verbose', 'Longitude', 'Latitude', 'Cuisines',\n",
       "       'Average Cost for two', 'Currency', 'Has Table booking',\n",
       "       'Has Online delivery', 'Is delivering now', 'Switch to order menu',\n",
       "       'Price range', 'Aggregate rating', 'Rating color', 'Rating text',\n",
       "       'Votes'],\n",
       "      dtype='object')"
      ]
     },
     "execution_count": 6,
     "metadata": {},
     "output_type": "execute_result"
    }
   ],
   "source": [
    "df.columns"
   ]
  },
  {
   "cell_type": "code",
   "execution_count": 8,
   "id": "0f6b6246",
   "metadata": {},
   "outputs": [
    {
     "data": {
      "text/html": [
       "<div>\n",
       "<style scoped>\n",
       "    .dataframe tbody tr th:only-of-type {\n",
       "        vertical-align: middle;\n",
       "    }\n",
       "\n",
       "    .dataframe tbody tr th {\n",
       "        vertical-align: top;\n",
       "    }\n",
       "\n",
       "    .dataframe thead th {\n",
       "        text-align: right;\n",
       "    }\n",
       "</style>\n",
       "<table border=\"1\" class=\"dataframe\">\n",
       "  <thead>\n",
       "    <tr style=\"text-align: right;\">\n",
       "      <th></th>\n",
       "      <th>Cuisines</th>\n",
       "      <th>Average Cost for two</th>\n",
       "      <th>Currency</th>\n",
       "      <th>Has Table booking</th>\n",
       "      <th>Has Online delivery</th>\n",
       "      <th>Is delivering now</th>\n",
       "      <th>Switch to order menu</th>\n",
       "      <th>Price range</th>\n",
       "      <th>Aggregate rating</th>\n",
       "      <th>Rating color</th>\n",
       "      <th>Rating text</th>\n",
       "      <th>Votes</th>\n",
       "    </tr>\n",
       "  </thead>\n",
       "  <tbody>\n",
       "    <tr>\n",
       "      <th>0</th>\n",
       "      <td>French, Japanese, Desserts</td>\n",
       "      <td>1100</td>\n",
       "      <td>Botswana Pula(P)</td>\n",
       "      <td>Yes</td>\n",
       "      <td>No</td>\n",
       "      <td>No</td>\n",
       "      <td>No</td>\n",
       "      <td>3</td>\n",
       "      <td>4.8</td>\n",
       "      <td>Dark Green</td>\n",
       "      <td>Excellent</td>\n",
       "      <td>314</td>\n",
       "    </tr>\n",
       "    <tr>\n",
       "      <th>1</th>\n",
       "      <td>Japanese</td>\n",
       "      <td>1200</td>\n",
       "      <td>Botswana Pula(P)</td>\n",
       "      <td>Yes</td>\n",
       "      <td>No</td>\n",
       "      <td>No</td>\n",
       "      <td>No</td>\n",
       "      <td>3</td>\n",
       "      <td>4.5</td>\n",
       "      <td>Dark Green</td>\n",
       "      <td>Excellent</td>\n",
       "      <td>591</td>\n",
       "    </tr>\n",
       "    <tr>\n",
       "      <th>2</th>\n",
       "      <td>Seafood, Asian, Filipino, Indian</td>\n",
       "      <td>4000</td>\n",
       "      <td>Botswana Pula(P)</td>\n",
       "      <td>Yes</td>\n",
       "      <td>No</td>\n",
       "      <td>No</td>\n",
       "      <td>No</td>\n",
       "      <td>4</td>\n",
       "      <td>4.4</td>\n",
       "      <td>Green</td>\n",
       "      <td>Very Good</td>\n",
       "      <td>270</td>\n",
       "    </tr>\n",
       "    <tr>\n",
       "      <th>3</th>\n",
       "      <td>Japanese, Sushi</td>\n",
       "      <td>1500</td>\n",
       "      <td>Botswana Pula(P)</td>\n",
       "      <td>No</td>\n",
       "      <td>No</td>\n",
       "      <td>No</td>\n",
       "      <td>No</td>\n",
       "      <td>4</td>\n",
       "      <td>4.9</td>\n",
       "      <td>Dark Green</td>\n",
       "      <td>Excellent</td>\n",
       "      <td>365</td>\n",
       "    </tr>\n",
       "    <tr>\n",
       "      <th>4</th>\n",
       "      <td>Japanese, Korean</td>\n",
       "      <td>1500</td>\n",
       "      <td>Botswana Pula(P)</td>\n",
       "      <td>Yes</td>\n",
       "      <td>No</td>\n",
       "      <td>No</td>\n",
       "      <td>No</td>\n",
       "      <td>4</td>\n",
       "      <td>4.8</td>\n",
       "      <td>Dark Green</td>\n",
       "      <td>Excellent</td>\n",
       "      <td>229</td>\n",
       "    </tr>\n",
       "    <tr>\n",
       "      <th>...</th>\n",
       "      <td>...</td>\n",
       "      <td>...</td>\n",
       "      <td>...</td>\n",
       "      <td>...</td>\n",
       "      <td>...</td>\n",
       "      <td>...</td>\n",
       "      <td>...</td>\n",
       "      <td>...</td>\n",
       "      <td>...</td>\n",
       "      <td>...</td>\n",
       "      <td>...</td>\n",
       "      <td>...</td>\n",
       "    </tr>\n",
       "    <tr>\n",
       "      <th>9546</th>\n",
       "      <td>Turkish</td>\n",
       "      <td>80</td>\n",
       "      <td>Turkish Lira(TL)</td>\n",
       "      <td>No</td>\n",
       "      <td>No</td>\n",
       "      <td>No</td>\n",
       "      <td>No</td>\n",
       "      <td>3</td>\n",
       "      <td>4.1</td>\n",
       "      <td>Green</td>\n",
       "      <td>Very Good</td>\n",
       "      <td>788</td>\n",
       "    </tr>\n",
       "    <tr>\n",
       "      <th>9547</th>\n",
       "      <td>World Cuisine, Patisserie, Cafe</td>\n",
       "      <td>105</td>\n",
       "      <td>Turkish Lira(TL)</td>\n",
       "      <td>No</td>\n",
       "      <td>No</td>\n",
       "      <td>No</td>\n",
       "      <td>No</td>\n",
       "      <td>3</td>\n",
       "      <td>4.2</td>\n",
       "      <td>Green</td>\n",
       "      <td>Very Good</td>\n",
       "      <td>1034</td>\n",
       "    </tr>\n",
       "    <tr>\n",
       "      <th>9548</th>\n",
       "      <td>Italian, World Cuisine</td>\n",
       "      <td>170</td>\n",
       "      <td>Turkish Lira(TL)</td>\n",
       "      <td>No</td>\n",
       "      <td>No</td>\n",
       "      <td>No</td>\n",
       "      <td>No</td>\n",
       "      <td>4</td>\n",
       "      <td>3.7</td>\n",
       "      <td>Yellow</td>\n",
       "      <td>Good</td>\n",
       "      <td>661</td>\n",
       "    </tr>\n",
       "    <tr>\n",
       "      <th>9549</th>\n",
       "      <td>Restaurant Cafe</td>\n",
       "      <td>120</td>\n",
       "      <td>Turkish Lira(TL)</td>\n",
       "      <td>No</td>\n",
       "      <td>No</td>\n",
       "      <td>No</td>\n",
       "      <td>No</td>\n",
       "      <td>4</td>\n",
       "      <td>4.0</td>\n",
       "      <td>Green</td>\n",
       "      <td>Very Good</td>\n",
       "      <td>901</td>\n",
       "    </tr>\n",
       "    <tr>\n",
       "      <th>9550</th>\n",
       "      <td>Cafe</td>\n",
       "      <td>55</td>\n",
       "      <td>Turkish Lira(TL)</td>\n",
       "      <td>No</td>\n",
       "      <td>No</td>\n",
       "      <td>No</td>\n",
       "      <td>No</td>\n",
       "      <td>2</td>\n",
       "      <td>4.0</td>\n",
       "      <td>Green</td>\n",
       "      <td>Very Good</td>\n",
       "      <td>591</td>\n",
       "    </tr>\n",
       "  </tbody>\n",
       "</table>\n",
       "<p>9551 rows × 12 columns</p>\n",
       "</div>"
      ],
      "text/plain": [
       "                              Cuisines  Average Cost for two  \\\n",
       "0           French, Japanese, Desserts                  1100   \n",
       "1                             Japanese                  1200   \n",
       "2     Seafood, Asian, Filipino, Indian                  4000   \n",
       "3                      Japanese, Sushi                  1500   \n",
       "4                     Japanese, Korean                  1500   \n",
       "...                                ...                   ...   \n",
       "9546                           Turkish                    80   \n",
       "9547   World Cuisine, Patisserie, Cafe                   105   \n",
       "9548            Italian, World Cuisine                   170   \n",
       "9549                   Restaurant Cafe                   120   \n",
       "9550                              Cafe                    55   \n",
       "\n",
       "              Currency Has Table booking Has Online delivery  \\\n",
       "0     Botswana Pula(P)               Yes                  No   \n",
       "1     Botswana Pula(P)               Yes                  No   \n",
       "2     Botswana Pula(P)               Yes                  No   \n",
       "3     Botswana Pula(P)                No                  No   \n",
       "4     Botswana Pula(P)               Yes                  No   \n",
       "...                ...               ...                 ...   \n",
       "9546  Turkish Lira(TL)                No                  No   \n",
       "9547  Turkish Lira(TL)                No                  No   \n",
       "9548  Turkish Lira(TL)                No                  No   \n",
       "9549  Turkish Lira(TL)                No                  No   \n",
       "9550  Turkish Lira(TL)                No                  No   \n",
       "\n",
       "     Is delivering now Switch to order menu  Price range  Aggregate rating  \\\n",
       "0                   No                   No            3               4.8   \n",
       "1                   No                   No            3               4.5   \n",
       "2                   No                   No            4               4.4   \n",
       "3                   No                   No            4               4.9   \n",
       "4                   No                   No            4               4.8   \n",
       "...                ...                  ...          ...               ...   \n",
       "9546                No                   No            3               4.1   \n",
       "9547                No                   No            3               4.2   \n",
       "9548                No                   No            4               3.7   \n",
       "9549                No                   No            4               4.0   \n",
       "9550                No                   No            2               4.0   \n",
       "\n",
       "     Rating color Rating text  Votes  \n",
       "0      Dark Green   Excellent    314  \n",
       "1      Dark Green   Excellent    591  \n",
       "2           Green   Very Good    270  \n",
       "3      Dark Green   Excellent    365  \n",
       "4      Dark Green   Excellent    229  \n",
       "...           ...         ...    ...  \n",
       "9546        Green   Very Good    788  \n",
       "9547        Green   Very Good   1034  \n",
       "9548       Yellow        Good    661  \n",
       "9549        Green   Very Good    901  \n",
       "9550        Green   Very Good    591  \n",
       "\n",
       "[9551 rows x 12 columns]"
      ]
     },
     "execution_count": 8,
     "metadata": {},
     "output_type": "execute_result"
    }
   ],
   "source": [
    "df[df.columns[9:]]"
   ]
  },
  {
   "cell_type": "code",
   "execution_count": null,
   "id": "47a854d9",
   "metadata": {},
   "outputs": [],
   "source": []
  },
  {
   "cell_type": "markdown",
   "id": "4a8d6fd3",
   "metadata": {},
   "source": [
    "### 3. How many unique cities are covered by the dataset?"
   ]
  },
  {
   "cell_type": "code",
   "execution_count": 24,
   "id": "17423c77",
   "metadata": {},
   "outputs": [
    {
     "name": "stdout",
     "output_type": "stream",
     "text": [
      "141\n"
     ]
    }
   ],
   "source": [
    "unique_cities = df['City'].nunique()\n",
    "print(unique_cities)"
   ]
  },
  {
   "cell_type": "code",
   "execution_count": 25,
   "id": "9143278d",
   "metadata": {},
   "outputs": [],
   "source": [
    "# values_count --> series ya datafrome pr lagta h, single integer value pr nhi lgega kavi bhi"
   ]
  },
  {
   "cell_type": "code",
   "execution_count": null,
   "id": "ff377d96",
   "metadata": {},
   "outputs": [],
   "source": []
  },
  {
   "cell_type": "markdown",
   "id": "62d6599c",
   "metadata": {},
   "source": [
    "### 4. What is the average cost for two people dining across all restaurants? "
   ]
  },
  {
   "cell_type": "code",
   "execution_count": 31,
   "id": "96d65616",
   "metadata": {},
   "outputs": [
    {
     "name": "stdout",
     "output_type": "stream",
     "text": [
      "1199.2107632708617\n"
     ]
    }
   ],
   "source": [
    "avg_cost = df['Average Cost for two'].mean()\n",
    "print(avg_cost)"
   ]
  },
  {
   "cell_type": "code",
   "execution_count": 32,
   "id": "fd9e6b4d",
   "metadata": {},
   "outputs": [],
   "source": [
    "# mean coln pr lagta hei, \n"
   ]
  },
  {
   "cell_type": "code",
   "execution_count": null,
   "id": "0c6083e4",
   "metadata": {},
   "outputs": [],
   "source": [
    "\n"
   ]
  },
  {
   "cell_type": "code",
   "execution_count": null,
   "id": "1cdf4128",
   "metadata": {},
   "outputs": [],
   "source": []
  },
  {
   "cell_type": "code",
   "execution_count": null,
   "id": "f3c57008",
   "metadata": {},
   "outputs": [],
   "source": []
  },
  {
   "cell_type": "code",
   "execution_count": null,
   "id": "8c3f30e0",
   "metadata": {},
   "outputs": [],
   "source": []
  },
  {
   "cell_type": "code",
   "execution_count": null,
   "id": "925039c1",
   "metadata": {},
   "outputs": [],
   "source": []
  },
  {
   "cell_type": "code",
   "execution_count": null,
   "id": "1903bc0a",
   "metadata": {},
   "outputs": [],
   "source": []
  },
  {
   "cell_type": "code",
   "execution_count": null,
   "id": "c8a6623b",
   "metadata": {},
   "outputs": [],
   "source": []
  },
  {
   "cell_type": "code",
   "execution_count": null,
   "id": "d3950d3b",
   "metadata": {},
   "outputs": [],
   "source": []
  },
  {
   "cell_type": "code",
   "execution_count": null,
   "id": "258f45b3",
   "metadata": {},
   "outputs": [],
   "source": []
  },
  {
   "cell_type": "code",
   "execution_count": null,
   "id": "e4f27648",
   "metadata": {},
   "outputs": [],
   "source": []
  },
  {
   "cell_type": "code",
   "execution_count": null,
   "id": "7ceaccf5",
   "metadata": {},
   "outputs": [],
   "source": []
  },
  {
   "cell_type": "code",
   "execution_count": null,
   "id": "a58fd444",
   "metadata": {},
   "outputs": [],
   "source": []
  },
  {
   "cell_type": "code",
   "execution_count": null,
   "id": "d6115c88",
   "metadata": {},
   "outputs": [],
   "source": []
  },
  {
   "cell_type": "markdown",
   "id": "e6eeb8ab",
   "metadata": {},
   "source": [
    "### 5.  Which currency is the most commonly used in the dataset?"
   ]
  },
  {
   "cell_type": "code",
   "execution_count": 52,
   "id": "8d295601",
   "metadata": {},
   "outputs": [
    {
     "name": "stdout",
     "output_type": "stream",
     "text": [
      "Indian Rupees(Rs.)        8652\n",
      "Dollar($)                  482\n",
      "Pounds(£)                  80\n",
      "Brazilian Real(R$)          60\n",
      "Emirati Diram(AED)          60\n",
      "Rand(R)                     60\n",
      "NewZealand($)               40\n",
      "Turkish Lira(TL)            34\n",
      "Botswana Pula(P)            22\n",
      "Indonesian Rupiah(IDR)      21\n",
      "Qatari Rial(QR)             20\n",
      "Sri Lankan Rupee(LKR)       20\n",
      "Name: Currency, dtype: int64\n"
     ]
    }
   ],
   "source": [
    "# different currencies count\n",
    "most_common = df['Currency'].value_counts()\n",
    "print(most_common)"
   ]
  },
  {
   "cell_type": "code",
   "execution_count": 51,
   "id": "853ff44b",
   "metadata": {},
   "outputs": [
    {
     "name": "stdout",
     "output_type": "stream",
     "text": [
      "Indian Rupees(Rs.)\n"
     ]
    }
   ],
   "source": [
    "# most commonly used \n",
    "most_common = df['Currency'].value_counts()\n",
    "most_com_curr = most_common.idxmax()\n",
    "print(most_com_curr)\n",
    "\n",
    "# idxmax \n",
    "# it is used to find the index/label corresponding to the maximum value in series or Dataframe, \n",
    "# It is really useful for finding out identity of max value from particular coln"
   ]
  },
  {
   "cell_type": "code",
   "execution_count": null,
   "id": "276c8d2e",
   "metadata": {},
   "outputs": [],
   "source": []
  },
  {
   "cell_type": "markdown",
   "id": "ea95a410",
   "metadata": {},
   "source": [
    "### 6. What are the top 5 cities with the most restaurants?"
   ]
  },
  {
   "cell_type": "code",
   "execution_count": 53,
   "id": "692cea33",
   "metadata": {},
   "outputs": [
    {
     "name": "stdout",
     "output_type": "stream",
     "text": [
      "141\n"
     ]
    }
   ],
   "source": [
    "unique_cities = df['City'].nunique()\n",
    "print(unique_cities)"
   ]
  },
  {
   "cell_type": "code",
   "execution_count": 9,
   "id": "3baf946d",
   "metadata": {},
   "outputs": [
    {
     "data": {
      "text/plain": [
       "Index(['New Delhi', 'Gurgaon', 'Noida', 'Faridabad', 'Ghaziabad'], dtype='object')"
      ]
     },
     "execution_count": 9,
     "metadata": {},
     "output_type": "execute_result"
    }
   ],
   "source": [
    "df['City'].value_counts().index[:5]\n"
   ]
  },
  {
   "cell_type": "code",
   "execution_count": null,
   "id": "4a3251cd",
   "metadata": {},
   "outputs": [],
   "source": []
  },
  {
   "cell_type": "markdown",
   "id": "8b4b3502",
   "metadata": {},
   "source": [
    "### 7. Can you identify the restaurant with the highest latitude and longitude values? Where is it located?\n"
   ]
  },
  {
   "cell_type": "code",
   "execution_count": 10,
   "id": "f8635276",
   "metadata": {},
   "outputs": [
    {
     "data": {
      "text/plain": [
       "Index(['Restaurant ID', 'Restaurant Name', 'Country Code', 'City', 'Address',\n",
       "       'Locality', 'Locality Verbose', 'Longitude', 'Latitude', 'Cuisines',\n",
       "       'Average Cost for two', 'Currency', 'Has Table booking',\n",
       "       'Has Online delivery', 'Is delivering now', 'Switch to order menu',\n",
       "       'Price range', 'Aggregate rating', 'Rating color', 'Rating text',\n",
       "       'Votes'],\n",
       "      dtype='object')"
      ]
     },
     "execution_count": 10,
     "metadata": {},
     "output_type": "execute_result"
    }
   ],
   "source": [
    "df.columns"
   ]
  },
  {
   "cell_type": "code",
   "execution_count": 6,
   "id": "bb274983",
   "metadata": {},
   "outputs": [
    {
     "name": "stdout",
     "output_type": "stream",
     "text": [
      "55.97698\n"
     ]
    }
   ],
   "source": [
    "# highest latitude\n",
    "\n",
    "# df['Latitude'].max()\n",
    "\n",
    "max_lat = df['Latitude'].max()\n",
    "print(max_lat)"
   ]
  },
  {
   "cell_type": "code",
   "execution_count": 8,
   "id": "204aa0b7",
   "metadata": {},
   "outputs": [],
   "source": [
    "# res_lat = df['Latitude'].nlargest(max_lat, 'Restaurant Name')"
   ]
  },
  {
   "cell_type": "code",
   "execution_count": 13,
   "id": "cd51cd58",
   "metadata": {},
   "outputs": [
    {
     "data": {
      "text/plain": [
       "9361    55.976980\n",
       "9360    55.976644\n",
       "9359    55.975097\n",
       "9358    55.964669\n",
       "9376    55.957033\n",
       "          ...    \n",
       "9320   -41.294833\n",
       "9326   -41.295970\n",
       "9319   -41.296107\n",
       "9323   -41.296155\n",
       "9317   -41.330428\n",
       "Name: Latitude, Length: 9551, dtype: float64"
      ]
     },
     "execution_count": 13,
     "metadata": {},
     "output_type": "execute_result"
    }
   ],
   "source": [
    "df['Latitude'].sort_values(ascending = False)"
   ]
  },
  {
   "cell_type": "code",
   "execution_count": 23,
   "id": "b54f9b3a",
   "metadata": {},
   "outputs": [
    {
     "name": "stdout",
     "output_type": "stream",
     "text": [
      "      Restaurant ID    Restaurant Name  Country Code             City  \\\n",
      "9361        7601241        The Kitchin           215        Edinburgh   \n",
      "9360        7601577  Roseleaf Bar Cafe           215        Edinburgh   \n",
      "9359        7600902   Mimi's Bakehouse           215        Edinburgh   \n",
      "9358        7600217        La Favorita           215        Edinburgh   \n",
      "9376        7600921              Steak           215        Edinburgh   \n",
      "...             ...                ...           ...              ...   \n",
      "9320        7100171              Ombra           148  Wellington City   \n",
      "9326        7100502            Fidel's           148  Wellington City   \n",
      "9319        7101011       Ekim Burgers           148  Wellington City   \n",
      "9323        7100478     Caffe L'affare           148  Wellington City   \n",
      "9317        7100468       Maranui Cafe           148  Wellington City   \n",
      "\n",
      "                                                Address  \\\n",
      "9361     78 Commercial Street, Leith, Edinburgh EH6 6LX   \n",
      "9360     23-24 Sandport Place, Leith, Edinburgh EH6 6EW   \n",
      "9359                 63 Shore, Leith, Edinburgh EH6 6RA   \n",
      "9358       325-331 Leith Walk, Leith, Edinburgh EH6 8SA   \n",
      "9376      14 Picardy Place, New Town, Edinburgh EH1 3JT   \n",
      "...                                                 ...   \n",
      "9320           199 Cuba Street, Te Aro, Wellington City   \n",
      "9326           234 Cuba Street, Te Aro, Wellington City   \n",
      "9319           257 Cuba Street, Te Aro, Wellington City   \n",
      "9323         27 College Street, Te Aro, Wellington City   \n",
      "9317  Maranui Surf Life Saving Club, 7 Lyall Parade,...   \n",
      "\n",
      "                            Locality  \\\n",
      "9361                           Leith   \n",
      "9360                           Leith   \n",
      "9359                           Leith   \n",
      "9358                           Leith   \n",
      "9376  Twelve Picardy Place, New Town   \n",
      "...                              ...   \n",
      "9320                          Te Aro   \n",
      "9326                          Te Aro   \n",
      "9319                          Te Aro   \n",
      "9323                          Te Aro   \n",
      "9317                       Lyall Bay   \n",
      "\n",
      "                               Locality Verbose   Longitude   Latitude  \\\n",
      "9361                           Leith, Edinburgh   -3.172778  55.976980   \n",
      "9360                           Leith, Edinburgh   -3.173679  55.976644   \n",
      "9359                           Leith, Edinburgh   -3.171328  55.975097   \n",
      "9358                           Leith, Edinburgh   -3.176858  55.964669   \n",
      "9376  Twelve Picardy Place, New Town, Edinburgh   -3.186854  55.957033   \n",
      "...                                         ...         ...        ...   \n",
      "9320                    Te Aro, Wellington City  174.775000 -41.294833   \n",
      "9326                    Te Aro, Wellington City  174.774134 -41.295970   \n",
      "9319                    Te Aro, Wellington City  174.774151 -41.296107   \n",
      "9323                    Te Aro, Wellington City  174.780345 -41.296155   \n",
      "9317                 Lyall Bay, Wellington City  174.793257 -41.330428   \n",
      "\n",
      "                      Cuisines  ...       Currency Has Table booking  \\\n",
      "9361           British, French  ...     Pounds(£)                No   \n",
      "9360            Scottish, Cafe  ...     Pounds(£)                No   \n",
      "9359    Cafe, Bakery, Desserts  ...     Pounds(£)                No   \n",
      "9358                   Italian  ...     Pounds(£)                No   \n",
      "9376  Steak, Scottish, British  ...     Pounds(£)                No   \n",
      "...                        ...  ...            ...               ...   \n",
      "9320                   Italian  ...  NewZealand($)                No   \n",
      "9326   Cafe, European, Mexican  ...  NewZealand($)                No   \n",
      "9319                 Fast Food  ...  NewZealand($)                No   \n",
      "9323                      Cafe  ...  NewZealand($)                No   \n",
      "9317                Cafe, Kiwi  ...  NewZealand($)                No   \n",
      "\n",
      "     Has Online delivery Is delivering now Switch to order menu Price range  \\\n",
      "9361                  No                No                   No           4   \n",
      "9360                  No                No                   No           3   \n",
      "9359                  No                No                   No           3   \n",
      "9358                  No                No                   No           3   \n",
      "9376                  No                No                   No           4   \n",
      "...                  ...               ...                  ...         ...   \n",
      "9320                  No                No                   No           4   \n",
      "9326                  No                No                   No           3   \n",
      "9319                  No                No                   No           1   \n",
      "9323                  No                No                   No           3   \n",
      "9317                  No                No                   No           3   \n",
      "\n",
      "      Aggregate rating  Rating color Rating text Votes  \n",
      "9361               4.4         Green   Very Good   275  \n",
      "9360               4.7    Dark Green   Excellent   163  \n",
      "9359               4.6    Dark Green   Excellent   130  \n",
      "9358               4.5    Dark Green   Excellent   329  \n",
      "9376               4.2         Green   Very Good    64  \n",
      "...                ...           ...         ...   ...  \n",
      "9320               4.5    Dark Green   Excellent   152  \n",
      "9326               4.4         Green   Very Good   242  \n",
      "9319               4.5    Dark Green   Excellent   195  \n",
      "9323               4.1         Green   Very Good   103  \n",
      "9317               4.3         Green   Very Good   127  \n",
      "\n",
      "[9551 rows x 21 columns]\n"
     ]
    }
   ],
   "source": [
    "abc = df.sort_values(by = 'Latitude', ascending = False)\n",
    "print(abc)\n"
   ]
  },
  {
   "cell_type": "code",
   "execution_count": 56,
   "id": "0cdf9c42",
   "metadata": {},
   "outputs": [
    {
     "name": "stdout",
     "output_type": "stream",
     "text": [
      "Restaurant Name is: The Kitchin & It is Situated In: Edinburgh\n"
     ]
    }
   ],
   "source": [
    "# ans, lat\n",
    "max_lat = df['Latitude'].idxmax()\n",
    "rest_max_lat = df.loc[max_lat, 'Restaurant Name']\n",
    "city_name = df.loc[max_lat, 'City']\n",
    "print('Restaurant Name is: '+ rest_max_lat + ' & '+ 'It is Situated In: ' +city_name)\n",
    "\n"
   ]
  },
  {
   "cell_type": "code",
   "execution_count": 57,
   "id": "3bf05383",
   "metadata": {},
   "outputs": [
    {
     "name": "stdout",
     "output_type": "stream",
     "text": [
      "Restaurant Name is: De Fontein Belgian Beer Cafe & It is Situated In: Edinburgh\n"
     ]
    }
   ],
   "source": [
    "# ans, longi\n",
    "max_long = df['Longitude'].idxmax()\n",
    "rest_max_long = df.loc[max_long, 'Restaurant Name']\n",
    "city_name = df.loc[max_lat, 'City']\n",
    "print('Restaurant Name is: '+ rest_max_long + ' & '+ 'It is Situated In: ' +city_name)\n"
   ]
  },
  {
   "cell_type": "code",
   "execution_count": null,
   "id": "39a7cea1",
   "metadata": {},
   "outputs": [],
   "source": []
  },
  {
   "cell_type": "markdown",
   "id": "13d20821",
   "metadata": {},
   "source": [
    "### 8.How many restaurants have \"online delivery\" available?"
   ]
  },
  {
   "cell_type": "code",
   "execution_count": 72,
   "id": "76bc9563",
   "metadata": {},
   "outputs": [
    {
     "name": "stdout",
     "output_type": "stream",
     "text": [
      "2451\n"
     ]
    }
   ],
   "source": [
    "has_on_del = (df['Has Online delivery'] == 'Yes').sum()\n",
    "print(has_on_del)"
   ]
  },
  {
   "cell_type": "markdown",
   "id": "2e7956fd",
   "metadata": {},
   "source": [
    "### Total questions to be solved\n",
    "1. What is the total number of restaurants in the dataset?\n",
    "2. Which countries are represented in the dataset, and\n",
    "how many restaurants are in each country?\n",
    "3. How many unique cities are covered by the dataset?\n",
    "4. What is the average cost for two people dining across\n",
    "all restaurants?\n",
    "5. Which currency is the most commonly used in the\n",
    "dataset?\n",
    "6. What are the top 5 cities with the most restaurants?\n",
    "7. Can you identify the restaurant with the highest latitude\n",
    "and longitude values? Where is it located?\n",
    "8. How many restaurants have \"online delivery\" available?\n",
    "9. Which city has the highest number of restaurants\n",
    "offering online delivery?\n",
    "10. What are the top 5 most popular cuisines in the\n",
    "dataset?\n",
    "11. What is the distribution of restaurants based on their\n",
    "price range?\n",
    "12. Are there any correlations between the price range\n",
    "and the average cost for two people?\n",
    "13. What is the distribution of restaurant ratings\n",
    "(Aggregate Rating)?\n",
    "14. Is there a correlation between the number of votes and\n",
    "the restaurant's rating?\n",
    "15. How many restaurants have a rating of \"Excellent\"?\n",
    "16. What is the most common rating color in the dataset?\n",
    "17. How many restaurants accept table bookings?\n",
    "18. Do restaurants that accept table bookings tend to have\n",
    "higher ratings?\n",
    "19. What percentage of restaurants offer online delivery?\n",
    "20. Is there a relationship between online delivery\n",
    "availability and a restaurant's rating?\n",
    "21. Which locality has the highest number of restaurants?\n",
    "22. Are there restaurants in the dataset that share the\n",
    "same address?\n",
    "23. How many restaurants are located within a specific\n",
    "geographic radius of a given location?\n",
    "24. What is the average cost for two people dining for\n",
    "each cuisine type?\n"
   ]
  },
  {
   "cell_type": "markdown",
   "id": "01c6c575",
   "metadata": {},
   "source": [
    "### 9. Which city has the highest number of restaurants offering online delivery?"
   ]
  },
  {
   "cell_type": "code",
   "execution_count": 102,
   "id": "3ac30289",
   "metadata": {},
   "outputs": [
    {
     "name": "stdout",
     "output_type": "stream",
     "text": [
      "565        Abu Dhabi\n",
      "566        Abu Dhabi\n",
      "571        Abu Dhabi\n",
      "572        Abu Dhabi\n",
      "573        Abu Dhabi\n",
      "            ...     \n",
      "9166            Pune\n",
      "9168            Pune\n",
      "9170            Pune\n",
      "9171            Pune\n",
      "9194    Secunderabad\n",
      "Name: City, Length: 2451, dtype: object\n"
     ]
    }
   ],
   "source": [
    "max_city = df[df['Has Online delivery'] == 'Yes']['City']\n",
    "print(max_city)\n",
    "#print(has_on_del)"
   ]
  },
  {
   "cell_type": "code",
   "execution_count": 106,
   "id": "bf72cbb0",
   "metadata": {
    "scrolled": true
   },
   "outputs": [
    {
     "name": "stdout",
     "output_type": "stream",
     "text": [
      "New Delhi       1489\n",
      "Gurgaon          425\n",
      "Noida            364\n",
      "Faridabad         35\n",
      "Chennai           13\n",
      "Abu Dhabi         11\n",
      "Sharjah           11\n",
      "Ahmedabad         11\n",
      "Ghaziabad         10\n",
      "Nagpur            10\n",
      "Jaipur            10\n",
      "Kolkata            8\n",
      "Pune               7\n",
      "Mumbai             7\n",
      "Hyderabad          7\n",
      "Coimbatore         7\n",
      "Bangalore          7\n",
      "Dubai              6\n",
      "Chandigarh         6\n",
      "Kochi              5\n",
      "Mohali             1\n",
      "Secunderabad       1\n",
      "Name: City, dtype: int64\n"
     ]
    }
   ],
   "source": [
    "max_city = df[df['Has Online delivery'] == 'Yes']['City']\n",
    "max_city_counts = max_city.value_counts()\n",
    "print(max_city_counts)"
   ]
  },
  {
   "cell_type": "markdown",
   "id": "5d65cd09",
   "metadata": {},
   "source": [
    "##### METHOD -1"
   ]
  },
  {
   "cell_type": "code",
   "execution_count": 105,
   "id": "2fff713b",
   "metadata": {},
   "outputs": [
    {
     "name": "stdout",
     "output_type": "stream",
     "text": [
      "New Delhi    1489\n",
      "Name: City, dtype: int64\n"
     ]
    }
   ],
   "source": [
    "#ans METHOD -1 \n",
    "max_city = df[df['Has Online delivery'] == 'Yes']['City']\n",
    "max_city_counts = max_city.value_counts()\n",
    "on_del = max_city_counts[max_city_counts == max_city_counts.max()]\n",
    "print(on_del)"
   ]
  },
  {
   "cell_type": "markdown",
   "id": "94e71706",
   "metadata": {},
   "source": [
    "##### METHOD -2\n"
   ]
  },
  {
   "cell_type": "code",
   "execution_count": 109,
   "id": "2e4efb0f",
   "metadata": {},
   "outputs": [
    {
     "name": "stdout",
     "output_type": "stream",
     "text": [
      "Index(['New Delhi'], dtype='object')\n"
     ]
    }
   ],
   "source": [
    "max_city = df[df['Has Online delivery'] == 'Yes']['City']\n",
    "max_city_counts = max_city.value_counts().index[:1]\n",
    "print(max_city_counts)"
   ]
  },
  {
   "cell_type": "markdown",
   "id": "3f4298a2",
   "metadata": {},
   "source": [
    "### 10. What are the top 5 most popular cuisines in the dataset?"
   ]
  },
  {
   "cell_type": "code",
   "execution_count": 125,
   "id": "e19fe01d",
   "metadata": {},
   "outputs": [
    {
     "name": "stdout",
     "output_type": "stream",
     "text": [
      "Index(['North Indian', 'North Indian, Chinese', 'Chinese', 'Fast Food',\n",
      "       'North Indian, Mughlai'],\n",
      "      dtype='object')\n"
     ]
    }
   ],
   "source": [
    "pop_cus = df['Cuisines']\n",
    "cus= pop_cus.value_counts().index[:5]\n",
    "print(cus)"
   ]
  },
  {
   "cell_type": "code",
   "execution_count": 123,
   "id": "78ed6b54",
   "metadata": {},
   "outputs": [
    {
     "name": "stdout",
     "output_type": "stream",
     "text": [
      "North Indian             936\n",
      "North Indian, Chinese    511\n",
      "Chinese                  354\n",
      "Fast Food                354\n",
      "North Indian, Mughlai    334\n",
      "Name: Cuisines, dtype: int64\n"
     ]
    }
   ],
   "source": [
    "# ans\n",
    "pop_cus = df['Cuisines']\n",
    "cus= pop_cus.value_counts().head(5)\n",
    "print(cus)"
   ]
  },
  {
   "cell_type": "code",
   "execution_count": 5,
   "id": "579605bd",
   "metadata": {},
   "outputs": [
    {
     "data": {
      "text/html": [
       "<div>\n",
       "<style scoped>\n",
       "    .dataframe tbody tr th:only-of-type {\n",
       "        vertical-align: middle;\n",
       "    }\n",
       "\n",
       "    .dataframe tbody tr th {\n",
       "        vertical-align: top;\n",
       "    }\n",
       "\n",
       "    .dataframe thead th {\n",
       "        text-align: right;\n",
       "    }\n",
       "</style>\n",
       "<table border=\"1\" class=\"dataframe\">\n",
       "  <thead>\n",
       "    <tr style=\"text-align: right;\">\n",
       "      <th></th>\n",
       "      <th>Restaurant ID</th>\n",
       "      <th>Restaurant Name</th>\n",
       "      <th>Country Code</th>\n",
       "      <th>City</th>\n",
       "      <th>Address</th>\n",
       "      <th>Locality</th>\n",
       "      <th>Locality Verbose</th>\n",
       "      <th>Longitude</th>\n",
       "      <th>Latitude</th>\n",
       "      <th>Cuisines</th>\n",
       "      <th>...</th>\n",
       "      <th>Currency</th>\n",
       "      <th>Has Table booking</th>\n",
       "      <th>Has Online delivery</th>\n",
       "      <th>Is delivering now</th>\n",
       "      <th>Switch to order menu</th>\n",
       "      <th>Price range</th>\n",
       "      <th>Aggregate rating</th>\n",
       "      <th>Rating color</th>\n",
       "      <th>Rating text</th>\n",
       "      <th>Votes</th>\n",
       "    </tr>\n",
       "  </thead>\n",
       "  <tbody>\n",
       "    <tr>\n",
       "      <th>0</th>\n",
       "      <td>6317637</td>\n",
       "      <td>Le Petit Souffle</td>\n",
       "      <td>162</td>\n",
       "      <td>Makati City</td>\n",
       "      <td>Third Floor, Century City Mall, Kalayaan Avenu...</td>\n",
       "      <td>Century City Mall, Poblacion, Makati City</td>\n",
       "      <td>Century City Mall, Poblacion, Makati City, Mak...</td>\n",
       "      <td>121.027535</td>\n",
       "      <td>14.565443</td>\n",
       "      <td>French, Japanese, Desserts</td>\n",
       "      <td>...</td>\n",
       "      <td>Botswana Pula(P)</td>\n",
       "      <td>Yes</td>\n",
       "      <td>No</td>\n",
       "      <td>No</td>\n",
       "      <td>No</td>\n",
       "      <td>3</td>\n",
       "      <td>4.8</td>\n",
       "      <td>Dark Green</td>\n",
       "      <td>Excellent</td>\n",
       "      <td>314</td>\n",
       "    </tr>\n",
       "    <tr>\n",
       "      <th>1</th>\n",
       "      <td>6304287</td>\n",
       "      <td>Izakaya Kikufuji</td>\n",
       "      <td>162</td>\n",
       "      <td>Makati City</td>\n",
       "      <td>Little Tokyo, 2277 Chino Roces Avenue, Legaspi...</td>\n",
       "      <td>Little Tokyo, Legaspi Village, Makati City</td>\n",
       "      <td>Little Tokyo, Legaspi Village, Makati City, Ma...</td>\n",
       "      <td>121.014101</td>\n",
       "      <td>14.553708</td>\n",
       "      <td>Japanese</td>\n",
       "      <td>...</td>\n",
       "      <td>Botswana Pula(P)</td>\n",
       "      <td>Yes</td>\n",
       "      <td>No</td>\n",
       "      <td>No</td>\n",
       "      <td>No</td>\n",
       "      <td>3</td>\n",
       "      <td>4.5</td>\n",
       "      <td>Dark Green</td>\n",
       "      <td>Excellent</td>\n",
       "      <td>591</td>\n",
       "    </tr>\n",
       "    <tr>\n",
       "      <th>2</th>\n",
       "      <td>6300002</td>\n",
       "      <td>Heat - Edsa Shangri-La</td>\n",
       "      <td>162</td>\n",
       "      <td>Mandaluyong City</td>\n",
       "      <td>Edsa Shangri-La, 1 Garden Way, Ortigas, Mandal...</td>\n",
       "      <td>Edsa Shangri-La, Ortigas, Mandaluyong City</td>\n",
       "      <td>Edsa Shangri-La, Ortigas, Mandaluyong City, Ma...</td>\n",
       "      <td>121.056831</td>\n",
       "      <td>14.581404</td>\n",
       "      <td>Seafood, Asian, Filipino, Indian</td>\n",
       "      <td>...</td>\n",
       "      <td>Botswana Pula(P)</td>\n",
       "      <td>Yes</td>\n",
       "      <td>No</td>\n",
       "      <td>No</td>\n",
       "      <td>No</td>\n",
       "      <td>4</td>\n",
       "      <td>4.4</td>\n",
       "      <td>Green</td>\n",
       "      <td>Very Good</td>\n",
       "      <td>270</td>\n",
       "    </tr>\n",
       "    <tr>\n",
       "      <th>3</th>\n",
       "      <td>6318506</td>\n",
       "      <td>Ooma</td>\n",
       "      <td>162</td>\n",
       "      <td>Mandaluyong City</td>\n",
       "      <td>Third Floor, Mega Fashion Hall, SM Megamall, O...</td>\n",
       "      <td>SM Megamall, Ortigas, Mandaluyong City</td>\n",
       "      <td>SM Megamall, Ortigas, Mandaluyong City, Mandal...</td>\n",
       "      <td>121.056475</td>\n",
       "      <td>14.585318</td>\n",
       "      <td>Japanese, Sushi</td>\n",
       "      <td>...</td>\n",
       "      <td>Botswana Pula(P)</td>\n",
       "      <td>No</td>\n",
       "      <td>No</td>\n",
       "      <td>No</td>\n",
       "      <td>No</td>\n",
       "      <td>4</td>\n",
       "      <td>4.9</td>\n",
       "      <td>Dark Green</td>\n",
       "      <td>Excellent</td>\n",
       "      <td>365</td>\n",
       "    </tr>\n",
       "    <tr>\n",
       "      <th>4</th>\n",
       "      <td>6314302</td>\n",
       "      <td>Sambo Kojin</td>\n",
       "      <td>162</td>\n",
       "      <td>Mandaluyong City</td>\n",
       "      <td>Third Floor, Mega Atrium, SM Megamall, Ortigas...</td>\n",
       "      <td>SM Megamall, Ortigas, Mandaluyong City</td>\n",
       "      <td>SM Megamall, Ortigas, Mandaluyong City, Mandal...</td>\n",
       "      <td>121.057508</td>\n",
       "      <td>14.584450</td>\n",
       "      <td>Japanese, Korean</td>\n",
       "      <td>...</td>\n",
       "      <td>Botswana Pula(P)</td>\n",
       "      <td>Yes</td>\n",
       "      <td>No</td>\n",
       "      <td>No</td>\n",
       "      <td>No</td>\n",
       "      <td>4</td>\n",
       "      <td>4.8</td>\n",
       "      <td>Dark Green</td>\n",
       "      <td>Excellent</td>\n",
       "      <td>229</td>\n",
       "    </tr>\n",
       "  </tbody>\n",
       "</table>\n",
       "<p>5 rows × 21 columns</p>\n",
       "</div>"
      ],
      "text/plain": [
       "   Restaurant ID         Restaurant Name  Country Code              City  \\\n",
       "0        6317637        Le Petit Souffle           162       Makati City   \n",
       "1        6304287        Izakaya Kikufuji           162       Makati City   \n",
       "2        6300002  Heat - Edsa Shangri-La           162  Mandaluyong City   \n",
       "3        6318506                    Ooma           162  Mandaluyong City   \n",
       "4        6314302             Sambo Kojin           162  Mandaluyong City   \n",
       "\n",
       "                                             Address  \\\n",
       "0  Third Floor, Century City Mall, Kalayaan Avenu...   \n",
       "1  Little Tokyo, 2277 Chino Roces Avenue, Legaspi...   \n",
       "2  Edsa Shangri-La, 1 Garden Way, Ortigas, Mandal...   \n",
       "3  Third Floor, Mega Fashion Hall, SM Megamall, O...   \n",
       "4  Third Floor, Mega Atrium, SM Megamall, Ortigas...   \n",
       "\n",
       "                                     Locality  \\\n",
       "0   Century City Mall, Poblacion, Makati City   \n",
       "1  Little Tokyo, Legaspi Village, Makati City   \n",
       "2  Edsa Shangri-La, Ortigas, Mandaluyong City   \n",
       "3      SM Megamall, Ortigas, Mandaluyong City   \n",
       "4      SM Megamall, Ortigas, Mandaluyong City   \n",
       "\n",
       "                                    Locality Verbose   Longitude   Latitude  \\\n",
       "0  Century City Mall, Poblacion, Makati City, Mak...  121.027535  14.565443   \n",
       "1  Little Tokyo, Legaspi Village, Makati City, Ma...  121.014101  14.553708   \n",
       "2  Edsa Shangri-La, Ortigas, Mandaluyong City, Ma...  121.056831  14.581404   \n",
       "3  SM Megamall, Ortigas, Mandaluyong City, Mandal...  121.056475  14.585318   \n",
       "4  SM Megamall, Ortigas, Mandaluyong City, Mandal...  121.057508  14.584450   \n",
       "\n",
       "                           Cuisines  ...          Currency Has Table booking  \\\n",
       "0        French, Japanese, Desserts  ...  Botswana Pula(P)               Yes   \n",
       "1                          Japanese  ...  Botswana Pula(P)               Yes   \n",
       "2  Seafood, Asian, Filipino, Indian  ...  Botswana Pula(P)               Yes   \n",
       "3                   Japanese, Sushi  ...  Botswana Pula(P)                No   \n",
       "4                  Japanese, Korean  ...  Botswana Pula(P)               Yes   \n",
       "\n",
       "  Has Online delivery Is delivering now Switch to order menu Price range  \\\n",
       "0                  No                No                   No           3   \n",
       "1                  No                No                   No           3   \n",
       "2                  No                No                   No           4   \n",
       "3                  No                No                   No           4   \n",
       "4                  No                No                   No           4   \n",
       "\n",
       "   Aggregate rating  Rating color Rating text Votes  \n",
       "0               4.8    Dark Green   Excellent   314  \n",
       "1               4.5    Dark Green   Excellent   591  \n",
       "2               4.4         Green   Very Good   270  \n",
       "3               4.9    Dark Green   Excellent   365  \n",
       "4               4.8    Dark Green   Excellent   229  \n",
       "\n",
       "[5 rows x 21 columns]"
      ]
     },
     "execution_count": 5,
     "metadata": {},
     "output_type": "execute_result"
    }
   ],
   "source": [
    "df.head()"
   ]
  },
  {
   "cell_type": "markdown",
   "id": "bdb1ff56",
   "metadata": {},
   "source": [
    "### 11. What is the distribution of restaurants based on their price range?"
   ]
  },
  {
   "cell_type": "code",
   "execution_count": 135,
   "id": "2d656e02",
   "metadata": {},
   "outputs": [
    {
     "data": {
      "text/plain": [
       "0     3\n",
       "1     3\n",
       "2     4\n",
       "3     4\n",
       "4     4\n",
       "5     3\n",
       "6     4\n",
       "7     4\n",
       "8     4\n",
       "9     3\n",
       "10    3\n",
       "11    3\n",
       "12    3\n",
       "13    3\n",
       "14    3\n",
       "15    3\n",
       "16    3\n",
       "17    3\n",
       "18    2\n",
       "19    4\n",
       "20    4\n",
       "21    4\n",
       "22    2\n",
       "23    1\n",
       "24    2\n",
       "Name: Price range, dtype: int64"
      ]
     },
     "execution_count": 135,
     "metadata": {},
     "output_type": "execute_result"
    }
   ],
   "source": [
    "df['Price range'].head(25)\n"
   ]
  },
  {
   "cell_type": "code",
   "execution_count": 6,
   "id": "88764564",
   "metadata": {},
   "outputs": [
    {
     "data": {
      "text/plain": [
       "array([3, 4, 2, 1], dtype=int64)"
      ]
     },
     "execution_count": 6,
     "metadata": {},
     "output_type": "execute_result"
    }
   ],
   "source": [
    "df['Price range'].unique()"
   ]
  },
  {
   "cell_type": "code",
   "execution_count": 8,
   "id": "35efae93",
   "metadata": {},
   "outputs": [
    {
     "data": {
      "text/plain": [
       "<AxesSubplot:ylabel='Frequency'>"
      ]
     },
     "execution_count": 8,
     "metadata": {},
     "output_type": "execute_result"
    },
    {
     "data": {
      "image/png": "[encoded data removed]",
      "text/plain": [
       "<Figure size 640x480 with 1 Axes>"
      ]
     },
     "metadata": {},
     "output_type": "display_data"
    }
   ],
   "source": [
    "df['Price range'].plot(kind=\"hist\")"
   ]
  },
  {
   "cell_type": "code",
   "execution_count": 14,
   "id": "2eee2f42",
   "metadata": {},
   "outputs": [
    {
     "data": {
      "text/plain": [
       "<AxesSubplot:xlabel='Range', ylabel='Frequency'>"
      ]
     },
     "execution_count": 14,
     "metadata": {},
     "output_type": "execute_result"
    },
    {
     "data": {
      "image/png": "[encoded data removed]",
      "text/plain": [
       "<Figure size 640x480 with 1 Axes>"
      ]
     },
     "metadata": {},
     "output_type": "display_data"
    }
   ],
   "source": [
    "plt.xlabel('Range')\n",
    "plt.ylabel('Frequency')\n",
    "df['Price range'].plot(kind=\"hist\" )"
   ]
  },
  {
   "cell_type": "code",
   "execution_count": 15,
   "id": "b04de601",
   "metadata": {},
   "outputs": [
    {
     "data": {
      "text/plain": [
       "<AxesSubplot:>"
      ]
     },
     "execution_count": 15,
     "metadata": {},
     "output_type": "execute_result"
    },
    {
     "data": {
      "image/png": "[encoded data removed]",
      "text/plain": [
       "<Figure size 640x480 with 1 Axes>"
      ]
     },
     "metadata": {},
     "output_type": "display_data"
    }
   ],
   "source": [
    "df['Price range'].plot(kind = \"bar\") "
   ]
  },
  {
   "cell_type": "code",
   "execution_count": 21,
   "id": "6b511d3f",
   "metadata": {},
   "outputs": [],
   "source": [
    "#df['Price range'].sns.heatmap()\n",
    "# sns.heatmap('Price range', cmap ='colorwarm')\n",
    "# sns.title('Price range')\n",
    "# plt.show()"
   ]
  },
  {
   "cell_type": "markdown",
   "id": "6d6d3b41",
   "metadata": {},
   "source": [
    "### 12. Are there any correlations between the price range and the average cost for two people?"
   ]
  },
  {
   "cell_type": "code",
   "execution_count": 22,
   "id": "4a87ec13",
   "metadata": {},
   "outputs": [
    {
     "name": "stdout",
     "output_type": "stream",
     "text": [
      "Pearson Correlation between Price range and Average Cost for two: 0.08\n"
     ]
    }
   ],
   "source": [
    "import pandas as pd\n",
    "\n",
    "# Assuming you have a DataFrame named 'df' with 'Price range' and 'Average Cost for two' columns\n",
    "correlation = df['Price range'].corr(df['Average Cost for two'])\n",
    "\n",
    "print(f\"Pearson Correlation between Price range and Average Cost for two: {correlation:.2f}\")\n"
   ]
  },
  {
   "cell_type": "markdown",
   "id": "8fc969dd",
   "metadata": {},
   "source": [
    "### 12.Are there any correlations between the price range and the average cost for two people?"
   ]
  },
  {
   "cell_type": "code",
   "execution_count": 25,
   "id": "c34178be",
   "metadata": {},
   "outputs": [
    {
     "data": {
      "image/png": "[encoded data removed]",
      "text/plain": [
       "<Figure size 640x480 with 1 Axes>"
      ]
     },
     "metadata": {},
     "output_type": "display_data"
    }
   ],
   "source": [
    "\n",
    "import seaborn as sns\n",
    "import matplotlib.pyplot as plt\n",
    "\n",
    "# Assuming you have a DataFrame named 'df' with 'Price range' and 'Average Cost for two' columns\n",
    "sns.scatterplot(x='Price range', y='Average Cost for two', data=df, color='skyblue')\n",
    "plt.xlabel('Price Range')\n",
    "plt.ylabel('Average Cost for Two')\n",
    "plt.title('Correlation between Price Range and Average Cost for Two')\n",
    "plt.show()\n"
   ]
  },
  {
   "cell_type": "code",
   "execution_count": null,
   "id": "08aa59ff",
   "metadata": {},
   "outputs": [],
   "source": []
  },
  {
   "cell_type": "code",
   "execution_count": null,
   "id": "b552e5fd",
   "metadata": {},
   "outputs": [],
   "source": []
  },
  {
   "cell_type": "markdown",
   "id": "9136495c",
   "metadata": {},
   "source": [
    "### 13 what is the distribution of restaurant ratings (Aggregate Rating)?"
   ]
  },
  {
   "cell_type": "code",
   "execution_count": 24,
   "id": "b2c96e50",
   "metadata": {},
   "outputs": [
    {
     "data": {
      "image/png": "[encoded data removed]",
      "text/plain": [
       "<Figure size 640x480 with 1 Axes>"
      ]
     },
     "metadata": {},
     "output_type": "display_data"
    }
   ],
   "source": [
    "import matplotlib.pyplot as plt\n",
    "\n",
    "# Assuming you have a DataFrame named 'df' with the 'Aggregate rating' column\n",
    "plt.hist(df['Aggregate rating'], bins=20, color='skyblue')\n",
    "plt.xlabel('Rating')\n",
    "plt.ylabel('Number of Restaurants')\n",
    "plt.title('Distribution of Restaurant Ratings')\n",
    "plt.show()\n"
   ]
  },
  {
   "cell_type": "code",
   "execution_count": 26,
   "id": "adc03f50",
   "metadata": {},
   "outputs": [
    {
     "data": {
      "image/png": "[encoded data removed]",
      "text/plain": [
       "<Figure size 800x600 with 1 Axes>"
      ]
     },
     "metadata": {},
     "output_type": "display_data"
    }
   ],
   "source": [
    "import seaborn as sns\n",
    "import matplotlib.pyplot as plt\n",
    "\n",
    "# Assuming you have a DataFrame named 'df' with 'Price range' and 'Average Cost for two' columns\n",
    "plt.figure(figsize=(8, 6))\n",
    "sns.boxplot(x='Price range', y='Average Cost for two', data=df, palette='pastel')\n",
    "plt.xlabel('Price Range')\n",
    "plt.ylabel('Average Cost for Two')\n",
    "plt.title('Box Plot: Price Range vs. Average Cost for Two')\n",
    "plt.show()\n"
   ]
  },
  {
   "cell_type": "code",
   "execution_count": 27,
   "id": "67160c36",
   "metadata": {},
   "outputs": [
    {
     "data": {
      "image/png": "[encoded data removed]",
      "text/plain": [
       "<Figure size 800x600 with 1 Axes>"
      ]
     },
     "metadata": {},
     "output_type": "display_data"
    }
   ],
   "source": [
    "import seaborn as sns\n",
    "import matplotlib.pyplot as plt\n",
    "\n",
    "# Assuming you have a DataFrame named 'df' with 'Price range' and 'Average Cost for two' columns\n",
    "plt.figure(figsize=(8, 6))\n",
    "sns.violinplot(x='Price range', y='Average Cost for two', data=df, palette='pastel')\n",
    "plt.xlabel('Price Range')\n",
    "plt.ylabel('Average Cost for Two')\n",
    "plt.title('Violin Plot: Price Range vs. Average Cost for Two')\n",
    "plt.show()\n"
   ]
  },
  {
   "cell_type": "markdown",
   "id": "cd561503",
   "metadata": {},
   "source": [
    "### 14. Is there a correlation between the number of votes and the restaurant's rating?"
   ]
  },
  {
   "cell_type": "code",
   "execution_count": 28,
   "id": "b9c39335",
   "metadata": {},
   "outputs": [
    {
     "data": {
      "image/png": "[encoded data removed]",
      "text/plain": [
       "<Figure size 640x480 with 1 Axes>"
      ]
     },
     "metadata": {},
     "output_type": "display_data"
    }
   ],
   "source": [
    "import seaborn as sns\n",
    "import matplotlib.pyplot as plt\n",
    "\n",
    "sns.scatterplot(x='Votes', y='Aggregate rating', data=df, color='coral')\n",
    "plt.xlabel('Number of Votes')\n",
    "plt.ylabel('Aggregate Rating')\n",
    "plt.title('Correlation between Votes and Restaurant Rating')\n",
    "plt.show()\n"
   ]
  },
  {
   "cell_type": "code",
   "execution_count": null,
   "id": "be41e228",
   "metadata": {},
   "outputs": [],
   "source": []
  },
  {
   "cell_type": "code",
   "execution_count": null,
   "id": "7fb5714d",
   "metadata": {},
   "outputs": [],
   "source": []
  },
  {
   "cell_type": "markdown",
   "id": "f19ab12d",
   "metadata": {},
   "source": [
    "### 15.How many restaurants have a rating of \"Excellent\"? "
   ]
  },
  {
   "cell_type": "code",
   "execution_count": 29,
   "id": "8abcd199",
   "metadata": {},
   "outputs": [
    {
     "data": {
      "image/png": "[encoded data removed]",
      "text/plain": [
       "<Figure size 640x480 with 1 Axes>"
      ]
     },
     "metadata": {},
     "output_type": "display_data"
    }
   ],
   "source": [
    "import matplotlib.pyplot as plt\n",
    "\n",
    "rating_counts = df['Rating text'].value_counts()\n",
    "rating_counts.plot(kind='bar', color='lightgreen')\n",
    "plt.xlabel('Rating Text')\n",
    "plt.ylabel('Count')\n",
    "plt.title('Number of Restaurants with Each Rating Text')\n",
    "plt.xticks(rotation=45)\n",
    "plt.show()\n"
   ]
  },
  {
   "cell_type": "code",
   "execution_count": null,
   "id": "855c88da",
   "metadata": {},
   "outputs": [],
   "source": []
  },
  {
   "cell_type": "markdown",
   "id": "da9494a9",
   "metadata": {},
   "source": [
    "### 16. What is the most common rating color in the dataset?"
   ]
  },
  {
   "cell_type": "code",
   "execution_count": 30,
   "id": "454e7e09",
   "metadata": {},
   "outputs": [
    {
     "data": {
      "image/png": "[encoded data removed]",
      "text/plain": [
       "<Figure size 640x480 with 1 Axes>"
      ]
     },
     "metadata": {},
     "output_type": "display_data"
    }
   ],
   "source": [
    "import matplotlib.pyplot as plt\n",
    "\n",
    "rating_color_counts = df['Rating color'].value_counts()\n",
    "rating_color_counts.plot(kind='bar', color='gold')\n",
    "plt.xlabel('Rating Color')\n",
    "plt.ylabel('Count')\n",
    "plt.title('Number of Restaurants with Each Rating Color')\n",
    "plt.xticks(rotation=45)\n",
    "plt.show()\n"
   ]
  },
  {
   "cell_type": "code",
   "execution_count": 31,
   "id": "49d8a495",
   "metadata": {},
   "outputs": [
    {
     "data": {
      "image/png": "[encoded data removed]",
      "text/plain": [
       "<Figure size 800x800 with 1 Axes>"
      ]
     },
     "metadata": {},
     "output_type": "display_data"
    }
   ],
   "source": [
    "import matplotlib.pyplot as plt\n",
    "\n",
    "rating_color_counts = df['Rating color'].value_counts()\n",
    "plt.figure(figsize=(8, 8))\n",
    "plt.pie(rating_color_counts, labels=rating_color_counts.index, autopct='%1.1f%%', colors=['gold', 'lightcoral', 'skyblue', 'lightgreen'])\n",
    "plt.title('Proportion of Restaurants with Each Rating Color')\n",
    "plt.show()\n"
   ]
  },
  {
   "cell_type": "code",
   "execution_count": 32,
   "id": "dc84e670",
   "metadata": {},
   "outputs": [
    {
     "data": {
      "image/png": "[encoded data removed]",
      "text/plain": [
       "<Figure size 640x480 with 1 Axes>"
      ]
     },
     "metadata": {},
     "output_type": "display_data"
    }
   ],
   "source": [
    "import matplotlib.pyplot as plt\n",
    "\n",
    "rating_color_counts = df['Rating color'].value_counts()\n",
    "rating_color_counts.plot(kind='barh', color='lightblue')\n",
    "plt.xlabel('Count')\n",
    "plt.ylabel('Rating Color')\n",
    "plt.title('Number of Restaurants with Each Rating Color')\n",
    "plt.show()\n"
   ]
  },
  {
   "cell_type": "code",
   "execution_count": null,
   "id": "8c7d5f96",
   "metadata": {},
   "outputs": [],
   "source": []
  },
  {
   "cell_type": "code",
   "execution_count": 4,
   "id": "d8b38cd5",
   "metadata": {},
   "outputs": [
    {
     "data": {
      "text/plain": [
       "Index(['Restaurant ID', 'Restaurant Name', 'Country Code', 'City', 'Address',\n",
       "       'Locality', 'Locality Verbose', 'Longitude', 'Latitude', 'Cuisines',\n",
       "       'Average Cost for two', 'Currency', 'Has Table booking',\n",
       "       'Has Online delivery', 'Is delivering now', 'Switch to order menu',\n",
       "       'Price range', 'Aggregate rating', 'Rating color', 'Rating text',\n",
       "       'Votes'],\n",
       "      dtype='object')"
      ]
     },
     "execution_count": 4,
     "metadata": {},
     "output_type": "execute_result"
    }
   ],
   "source": [
    "df.columns"
   ]
  },
  {
   "cell_type": "markdown",
   "id": "f8ea9f7a",
   "metadata": {},
   "source": [
    "### 17. How many restaurants accept table bookings?"
   ]
  },
  {
   "cell_type": "code",
   "execution_count": 8,
   "id": "e13fe41c",
   "metadata": {},
   "outputs": [
    {
     "data": {
      "text/plain": [
       "1158"
      ]
     },
     "execution_count": 8,
     "metadata": {},
     "output_type": "execute_result"
    }
   ],
   "source": [
    "df['Has Table booking'].value_counts().get(\"Yes\", 0)"
   ]
  },
  {
   "cell_type": "code",
   "execution_count": null,
   "id": "26a67fde",
   "metadata": {},
   "outputs": [],
   "source": []
  },
  {
   "cell_type": "code",
   "execution_count": null,
   "id": "7dd94cfd",
   "metadata": {},
   "outputs": [],
   "source": []
  },
  {
   "cell_type": "markdown",
   "id": "9308ff02",
   "metadata": {},
   "source": [
    "###  18. Do restaurants that accept table bookings tend to have higher ratings?"
   ]
  },
  {
   "cell_type": "code",
   "execution_count": 9,
   "id": "8cbdf965",
   "metadata": {},
   "outputs": [
    {
     "name": "stdout",
     "output_type": "stream",
     "text": [
      "Average rating for restaurants with table booking: 3.4419689119170966\n",
      "Average rating for restaurants without table booking: 2.55935898963422\n"
     ]
    }
   ],
   "source": [
    "import pandas as pd\n",
    "\n",
    "\n",
    "\n",
    "# Filter restaurants with table booking and without table booking\n",
    "with_table_booking = df[df['Has Table booking'] == 'Yes']\n",
    "without_table_booking = df[df['Has Table booking'] == 'No']\n",
    "\n",
    "# Calculate the average ratings for both groups\n",
    "avg_rating_with_booking = with_table_booking['Aggregate rating'].mean()\n",
    "avg_rating_without_booking = without_table_booking['Aggregate rating'].mean()\n",
    "\n",
    "print(\"Average rating for restaurants with table booking:\", avg_rating_with_booking)\n",
    "print(\"Average rating for restaurants without table booking:\", avg_rating_without_booking)\n"
   ]
  },
  {
   "cell_type": "code",
   "execution_count": 10,
   "id": "82df2b86",
   "metadata": {},
   "outputs": [
    {
     "data": {
      "image/png": "[encoded data removed]",
      "text/plain": [
       "<Figure size 800x600 with 1 Axes>"
      ]
     },
     "metadata": {},
     "output_type": "display_data"
    }
   ],
   "source": [
    "import pandas as pd\n",
    "import matplotlib.pyplot as plt\n",
    "\n",
    "\n",
    "\n",
    "# Filter restaurants with table booking and without table booking\n",
    "with_table_booking = df[df['Has Table booking'] == 'Yes']\n",
    "without_table_booking = df[df['Has Table booking'] == 'No']\n",
    "\n",
    "# Calculate the average ratings for both groups\n",
    "avg_rating_with_booking = with_table_booking['Aggregate rating'].mean()\n",
    "avg_rating_without_booking = without_table_booking['Aggregate rating'].mean()\n",
    "\n",
    "# Create a bar plot to visualize the comparison\n",
    "plt.figure(figsize=(8, 6))\n",
    "plt.bar(['With Table Booking', 'Without Table Booking'], [avg_rating_with_booking, avg_rating_without_booking])\n",
    "plt.xlabel('Table Booking')\n",
    "plt.ylabel('Average Rating')\n",
    "plt.title('Average Rating Comparison (With vs. Without Table Booking)')\n",
    "plt.show()\n"
   ]
  },
  {
   "cell_type": "code",
   "execution_count": 11,
   "id": "9934496e",
   "metadata": {},
   "outputs": [
    {
     "data": {
      "image/png": "[encoded data removed]",
      "text/plain": [
       "<Figure size 800x600 with 1 Axes>"
      ]
     },
     "metadata": {},
     "output_type": "display_data"
    }
   ],
   "source": [
    "import pandas as pd\n",
    "import matplotlib.pyplot as plt\n",
    "\n",
    "\n",
    "\n",
    "# Filter restaurants with table booking and without table booking\n",
    "with_table_booking = df[df['Has Table booking'] == 'Yes']\n",
    "without_table_booking = df[df['Has Table booking'] == 'No']\n",
    "\n",
    "# Calculate the average ratings for both groups\n",
    "avg_rating_with_booking = with_table_booking['Aggregate rating'].mean()\n",
    "avg_rating_without_booking = without_table_booking['Aggregate rating'].mean()\n",
    "\n",
    "# Create data for the pie chart\n",
    "average_ratings = [avg_rating_with_booking, avg_rating_without_booking]\n",
    "labels = ['With Table Booking', 'Without Table Booking']\n",
    "\n",
    "# Create a pie chart\n",
    "plt.figure(figsize=(8, 6))\n",
    "plt.pie(average_ratings, labels=labels, autopct='%1.1f%%', startangle=140)\n",
    "plt.axis('equal')  # Equal aspect ratio ensures that pie is drawn as a circle.\n",
    "plt.title('Average Rating Comparison (With vs. Without Table Booking)')\n",
    "plt.show()\n"
   ]
  },
  {
   "cell_type": "markdown",
   "id": "a88bb47f",
   "metadata": {},
   "source": [
    "### 19. What percentage of restaurants offer online delivery?\n",
    "\n"
   ]
  },
  {
   "cell_type": "code",
   "execution_count": 4,
   "id": "749d7eb2",
   "metadata": {},
   "outputs": [
    {
     "data": {
      "image/png": "[encoded data removed]",
      "text/plain": [
       "<Figure size 600x600 with 1 Axes>"
      ]
     },
     "metadata": {},
     "output_type": "display_data"
    }
   ],
   "source": [
    "# Calculate the percentage of restaurants offering online delivery.\n",
    "online_delivery_percentage = (df['Has Online delivery'].value_counts() / len(df)) * 100\n",
    "\n",
    "# Create a pie chart to visualize the percentage.\n",
    "plt.figure(figsize=(6, 6))\n",
    "plt.pie(online_delivery_percentage, labels=['No', 'Yes'], autopct='%1.1f%%', startangle=90)\n",
    "plt.title('Percentage of Restaurants Offering Online Delivery')\n",
    "plt.show()\n"
   ]
  },
  {
   "cell_type": "code",
   "execution_count": null,
   "id": "46d1af97",
   "metadata": {},
   "outputs": [],
   "source": []
  },
  {
   "cell_type": "markdown",
   "id": "2188c774",
   "metadata": {},
   "source": [
    "### 20.Is there a relationship between online delivery availability and a restaurant's rating?\n"
   ]
  },
  {
   "cell_type": "code",
   "execution_count": 5,
   "id": "96e7b756",
   "metadata": {},
   "outputs": [
    {
     "data": {
      "image/png": "[encoded data removed]",
      "text/plain": [
       "<Figure size 800x600 with 1 Axes>"
      ]
     },
     "metadata": {},
     "output_type": "display_data"
    }
   ],
   "source": [
    "# Create a box plot to visualize the distribution of ratings.\n",
    "plt.figure(figsize=(8, 6))\n",
    "sns.boxplot(x='Has Online delivery', y='Aggregate rating', data=df)\n",
    "plt.title('Distribution of Ratings for Restaurants with and without Online Delivery')\n",
    "plt.xlabel('Has Online delivery')\n",
    "plt.ylabel('Aggregate Rating')\n",
    "plt.show()\n"
   ]
  },
  {
   "cell_type": "code",
   "execution_count": null,
   "id": "e47768ab",
   "metadata": {},
   "outputs": [],
   "source": []
  },
  {
   "cell_type": "markdown",
   "id": "bc611795",
   "metadata": {},
   "source": [
    "### 21. Which locality has the highest number of restaurants?"
   ]
  },
  {
   "cell_type": "code",
   "execution_count": 6,
   "id": "18257ea6",
   "metadata": {},
   "outputs": [
    {
     "data": {
      "image/png": "[encoded data removed]",
      "text/plain": [
       "<Figure size 1000x600 with 1 Axes>"
      ]
     },
     "metadata": {},
     "output_type": "display_data"
    }
   ],
   "source": [
    "# Get the top 10 localities with the highest number of restaurants.\n",
    "top_localities = df['Locality'].value_counts().head(10)\n",
    "\n",
    "# Create a bar chart to visualize the top localities.\n",
    "plt.figure(figsize=(10, 6))\n",
    "sns.barplot(x=top_localities.index, y=top_localities.values)\n",
    "plt.title('Top 10 Localities with the Highest Number of Restaurants')\n",
    "plt.xlabel('Locality')\n",
    "plt.ylabel('Number of Restaurants')\n",
    "plt.xticks(rotation=90)\n",
    "plt.show()\n"
   ]
  },
  {
   "cell_type": "code",
   "execution_count": null,
   "id": "1b0a2993",
   "metadata": {},
   "outputs": [],
   "source": []
  },
  {
   "cell_type": "markdown",
   "id": "3d768cda",
   "metadata": {},
   "source": [
    "### 22. Are there restaurants in the dataset that share the same address?"
   ]
  },
  {
   "cell_type": "code",
   "execution_count": 9,
   "id": "275a0746",
   "metadata": {},
   "outputs": [
    {
     "name": "stdout",
     "output_type": "stream",
     "text": [
      "There are restaurants that share the same address.\n"
     ]
    }
   ],
   "source": [
    "# Count the number of restaurants at each address.\n",
    "address_counts = df['Address'].value_counts()\n",
    "\n",
    "# Find addresses with more than one restaurant.\n",
    "duplicate_addresses = address_counts[address_counts > 1]\n",
    "\n",
    "if len(duplicate_addresses) > 0:\n",
    "    print('There are restaurants that share the same address.')\n",
    "else:\n",
    "    print('All addresses are unique.')\n"
   ]
  },
  {
   "cell_type": "code",
   "execution_count": 10,
   "id": "2d6a5ad5",
   "metadata": {},
   "outputs": [
    {
     "data": {
      "image/png": "[encoded data removed]",
      "text/plain": [
       "<Figure size 1000x600 with 1 Axes>"
      ]
     },
     "metadata": {},
     "output_type": "display_data"
    },
    {
     "name": "stdout",
     "output_type": "stream",
     "text": [
      "\n",
      "Addresses with more than one restaurant:\n",
      "Dilli Haat, INA, New Delhi: 11 restaurants\n",
      "Sector 41, Noida: 11 restaurants\n",
      "Greater Kailash (GK) 1, New Delhi: 10 restaurants\n",
      "The Imperial, Janpath, New Delhi: 9 restaurants\n",
      "Cyber Hub, DLF Cyber City, Gurgaon: 8 restaurants\n",
      "Food Court, 3rd Floor, Logix City Centre, Sector 32, Near Sector 34, Noida: 8 restaurants\n",
      "HUDA Market, Sector 56, Gurgaon: 8 restaurants\n",
      "Palate of Delhi, Dhaula Kuan Metro Station, Chanakyapuri, New Delhi: 8 restaurants\n",
      "The Lalit, Barakhamba Avenue, Barakhamba Road, New Delhi: 8 restaurants\n",
      "The Taj Mahal Hotel, 1, Mansingh Road, New Delhi: 7 restaurants\n",
      "3rd Floor, DLF Mall of India, Sector 18, Noida: 7 restaurants\n",
      "Main Market, Ghitorni, MG Road, New Delhi: 7 restaurants\n",
      "Unitech Infospace, Sector 21, Gurgaon: 7 restaurants\n",
      "DLF Phase 1, Gurgaon: 7 restaurants\n",
      "Radisson Blu Plaza Delhi, National Highway 8, Near IGI Airport, Mahipalpur, New Delhi: 6 restaurants\n",
      "2nd Floor, Food Court, Pacific Mall, Tagore Garden, New Delhi: 6 restaurants\n",
      "Hyatt Regency, Bhikaji Cama Place, New Delhi: 6 restaurants\n",
      "Vasant Kunj, New Delhi: 6 restaurants\n",
      "DLF Phase 4, Gurgaon: 6 restaurants\n",
      "Le Meridien, Windsor Place, Janpath, New Delhi: 6 restaurants\n",
      "19, Ansari Road, Ring Road, MGM Club, Daryaganj, New Delhi: 6 restaurants\n",
      "Sector 51, Noida: 6 restaurants\n",
      "Sector 56, Gurgaon: 6 restaurants\n",
      "DLF Phase 3, Gurgaon: 6 restaurants\n",
      "Food Court, 2nd Floor, DLF Promenade Mall, Vasant Kunj, New Delhi: 5 restaurants\n",
      "Sushant Lok, Gurgaon: 5 restaurants\n",
      "Hotel The Royal Plaza, 19, Ashoka Road, Janpath, New Delhi: 5 restaurants\n",
      "Sector 45, Gurgaon: 5 restaurants\n",
      "Food Court, 2nd Floor, Pacific Mall, Tagore Garden, New Delhi: 5 restaurants\n",
      "3rd Floor, MGF Metropolitan Mall, MG Road, Gurgaon: 5 restaurants\n",
      "India Habitat Centre, Lodhi Road, New Delhi: 5 restaurants\n",
      "The Claridges, 12, Dr. A.P.J. Abdul Kalam Road, Aurangzeb Road, New Delhi: 5 restaurants\n",
      "Jaypee Vasant Continental, Vasant Vihar, New Delhi: 5 restaurants\n",
      "The Leela Palace, Diplomatic Enclave, Chanakyapuri, New Delhi: 5 restaurants\n",
      "Eros Hotel, American Plaza, Nehru Place, New Delhi: 5 restaurants\n",
      "Food Court, Spice World Mall, Sector 25, Noida: 4 restaurants\n",
      "Shahpur Jat, New Delhi: 4 restaurants\n",
      "The Leela Ambience Convention Hotel, Maharaja Surajmal Road, Near Yamuna Sports Complex, Vivek Vihar, New Delhi: 4 restaurants\n",
      "Janakpuri, New Delhi: 4 restaurants\n",
      "Sohna Chowk, Old Railway Road, Gurgaon: 4 restaurants\n",
      "Shangri-La's Eros Hotel, 19, Ashoka Road, Janpath, New Delhi: 4 restaurants\n",
      "The Suryaa New Delhi, New Friends Colony, New Delhi: 4 restaurants\n",
      "Food Court, 2nd Floor, Moments Mall, Kirti Nagar, New Delhi: 4 restaurants\n",
      "Taj Palace Hotel, Diplomatic Enclave, Chanakyapuri, New Delhi: 4 restaurants\n",
      "Ground Floor, DLF City Centre Mall, Shalimar Bagh, New Delhi: 4 restaurants\n",
      "Near HP Petrol Pump, Main Dadri Road, Sector 41, Noida: 4 restaurants\n",
      "Golf Course Road, Gurgaon: 4 restaurants\n",
      "Sohna Road, Gurgaon: 4 restaurants\n",
      "DDA Market, Kalu Sarai, Hauz Khas, New Delhi: 4 restaurants\n",
      "Food Court, 3rd Floor, DLF Mega Mall, DLF Phase 1, Gurgaon: 4 restaurants\n",
      "Jaypee Greens Golf & Spa Resort, G Block, Surajpur, Noida: 4 restaurants\n",
      "Malviya Nagar, New Delhi: 4 restaurants\n",
      "ITC Maurya, Chanakyapuri, New Delhi: 4 restaurants\n",
      "Ground Floor, Pacific Mall, Tagore Garden, New Delhi: 4 restaurants\n",
      "Punjabi Bagh, New Delhi: 4 restaurants\n",
      "50, Defence Colony Market, Defence Colony, New Delhi: 3 restaurants\n",
      "Main 40 Feet Road, Molarband Extension, Badarpur Border, Faridabad: 3 restaurants\n",
      "Maidens Hotel, 7, Shamnath Marg, Civil Lines, New Delhi: 3 restaurants\n",
      "V3S Mall, Laxmi Nagar, New Delhi: 3 restaurants\n",
      "Ground Floor, MGF Metropolitan Mall, MG Road, Gurgaon: 3 restaurants\n",
      "Roseate House, Asset 10, Hospitality District, Aerocity, New Delhi: 3 restaurants\n",
      "Le Meridien Gurgaon, Sector 26, Gurgaon Delhi Border, MG Road, Gurgaon: 3 restaurants\n",
      "Leisure Inn, 17/6, Old Delhi Gurgaon Road, Sector 14, Gurgaon: 3 restaurants\n",
      "Green Park, New Delhi: 3 restaurants\n",
      "47, Defence Colony Market, Defence Colony, New Delhi: 3 restaurants\n",
      "Sector 50, Noida: 3 restaurants\n",
      "C-28/29, Food Court, Tower B, Logix Cyber Park, Sector 62, Noida: 3 restaurants\n",
      "The Westin Hotel, Sector 29, Gurgaon: 3 restaurants\n",
      "C Block Market, Sector 41, Noida: 3 restaurants\n",
      "Food Court, V3S Mall, Laxmi Nagar, New Delhi: 3 restaurants\n",
      "8, Community Center, New Friends Colony, New Delhi: 3 restaurants\n",
      "Two Horizon Center, Golf Course Road, Gurgaon: 3 restaurants\n",
      "The Bristol Hotel, 108-110, DLF Phase 1, Gurgaon: 3 restaurants\n",
      "Food Capital, Worldmark 1, Aerocity, New Delhi: 3 restaurants\n",
      "Level 2, Food Capital, Worldmark 1, Aerocity, New Delhi: 3 restaurants\n",
      "GTB Nagar, New Delhi: 3 restaurants\n",
      "Main IGNOU Road, Neb Sarai, Sainik Farms, New Delhi: 3 restaurants\n",
      "Epicuria Food Mall, Nehru Place Metro Station, Nehru Place, New Delhi: 3 restaurants\n",
      "Ring Road, Naraina, New Delhi: 3 restaurants\n",
      "Park Plaza Hotel, C Block, Sector 55, Noida: 3 restaurants\n",
      "Hotel Saffron Kiran, 12/6, Adjacent to Badarpur Toll, NH-2, Sector 35, Faridabad: 3 restaurants\n",
      "H-38, Sector 51, Noida: 3 restaurants\n",
      "F-14/17, Model Town 2, New Delhi: 3 restaurants\n",
      "A-15A Front, Hauz Khas, New Delhi: 3 restaurants\n",
      "Community Centre, New Friends Colony, New Delhi: 3 restaurants\n",
      "34, Rahendra Bhavan, Rajendra Place, New Delhi: 3 restaurants\n",
      "Sheraton New Delhi Hotel, District Centre, Saket, New Delhi: 3 restaurants\n",
      "Sector 23, Gurgaon: 3 restaurants\n",
      "The Ashok, 50-B, Kautilya Marg, Diplomatic Enclave, Chanakyapuri, New Delhi: 3 restaurants\n",
      "Hotel Golf View, 14/1, Opposite Botanical Garden Metro Station, Sector 37, Noida: 3 restaurants\n",
      "South Extension 1, New Delhi: 3 restaurants\n",
      "Ground Floor, Ansal Plaza Mall, Palam Vihar, Gurgaon: 3 restaurants\n",
      "Pacific Mall, Tagore Garden, New Delhi: 3 restaurants\n",
      "Near Metlife, Sector 135, Near Sector 132, Noida: 3 restaurants\n",
      "Greater Kailash (GK) 2, New Delhi: 3 restaurants\n",
      "29, Defence Colony Market, Defence Colony, New Delhi: 3 restaurants\n",
      "Main Market, Shakarpur, New Delhi: 3 restaurants\n",
      "The Ashok, 50-B, Diplomatic Enclave, Chanakyapuri, New Delhi: 3 restaurants\n",
      "Kalkaji, New Delhi: 3 restaurants\n",
      "Ground Floor, DT City Centre Mall, MG Road, Gurgaon: 3 restaurants\n",
      "2nd Floor, DLF Promenade Mall, Vasant Kunj, New Delhi: 3 restaurants\n",
      "Ground Floor, Gardens Galleria, Sector 38, Noida: 3 restaurants\n",
      "E-6, Main Market, South Extension 2, New Delhi: 3 restaurants\n",
      "Sector 62, Noida: 3 restaurants\n",
      "The Park, 15, Parliament Street, Connaught Place, New Delhi: 3 restaurants\n",
      "1st Floor, Shipra Mall, Gulmohar Road, Indirapuram, Ghaziabad: 3 restaurants\n",
      "Lower Ground Floor, Logix City Centre, Sector 32, Near Sector 34, Noida: 3 restaurants\n",
      "Taj Vivanta, Subramania Bharti Marg, Sujan Singh Park, Khan Market, New Delhi: 3 restaurants\n",
      "Ashirwad Complex, Sector 53, Noida: 3 restaurants\n",
      "Vohra Market, Near Government School, Ardee City, Gurgaon: 3 restaurants\n",
      "C4F, DDA Market, Janakpuri, New Delhi: 2 restaurants\n",
      "RN 1, B Block Market, Sector 62, Noida: 2 restaurants\n",
      "ITC Maurya, Diplomatic Enclave, Chanakyapuri, New Delhi: 2 restaurants\n",
      "Shopping Mall, Arjun Marg, DLF Phase 1, Gurgaon: 2 restaurants\n",
      "Radisson Blu, Taj East Gate Road, Tajganj, Agra: 2 restaurants\n",
      "Shop 5, DLF, Near Moti Nagar Metro Station, Moti Nagar, New Delhi: 2 restaurants\n",
      "Location Varies, Sector 29, Gurgaon: 2 restaurants\n",
      "ITC Mughal, Fatehabad Road, Tajganj, Agra: 2 restaurants\n",
      "Ground Floor, Vardhman Central Mall, Nehru Vihar, Mukherjee Nagar, New Delhi: 2 restaurants\n",
      "Opposite Gate 1, Jama Masjid, New Delhi: 2 restaurants\n",
      "Near Amritsar Municipal Corporation, Town Hall, Amritsar: 2 restaurants\n",
      "Ground Floor, Vasant Square Mall, Vasant Kunj, New Delhi: 2 restaurants\n",
      "Sector 22, Gurgaon: 2 restaurants\n",
      "1249, Opposite Fortis Hospital, Aruna Asaf Ali Marg, Vasant Kunj, New Delhi: 2 restaurants\n",
      "Moments Mall, Kirti Nagar, New Delhi: 2 restaurants\n",
      "Priya Complex, Vasant Vihar, New Delhi: 2 restaurants\n",
      "Shop 1/20, Sabji Market, Near Metro Station, Moti Nagar, New Delhi: 2 restaurants\n",
      "Ground Floor, Moments Mall, Kirti Nagar, New Delhi: 2 restaurants\n",
      "D Mall, Netaji Subhash Place, New Delhi: 2 restaurants\n",
      "Crowne Plaza, Twin District Centre, Sector 10, Rohini, New Delhi: 2 restaurants\n",
      "Food Court, Moments Mall, Kirti Nagar, New Delhi: 2 restaurants\n",
      "Crowne Plaza, 13 B, District Centre, Mayur Vihar Phase 1, New Delhi: 2 restaurants\n",
      "Shop 11, 1st Floor, Sector 8 Market, R K Puram, New Delhi: 2 restaurants\n",
      "R K Puram, New Delhi: 2 restaurants\n",
      "Outside Tamil Sangam Building, R K Puram, New Delhi: 2 restaurants\n",
      "Khoda Colony, Deepak Vihar, Sector 58, Noida: 2 restaurants\n",
      "Near Amity University, Sector 125, Noida: 2 restaurants\n",
      "Radisson Blu, District Centre, Outer Ring Road, Paschim Vihar, New Delhi: 2 restaurants\n",
      "Opposite Medicity Hospital, Sector 39, Gurgaon: 2 restaurants\n",
      "Food Court, 3rd Floor, The Great India Palace Mall, Sector 38, Noida: 2 restaurants\n",
      "3rd Floor, The Great India Place Mall, Sector 38-A, Near Sector 38, Noida: 2 restaurants\n",
      "Mayur Vihar Phase 1, New Delhi: 2 restaurants\n",
      "Tagore Garden, New Delhi: 2 restaurants\n",
      "C-10, Vishal Enclave, Rajouri Garden, New Delhi: 2 restaurants\n",
      "Pacific Mall, Near Kids Zone, Tagore Garden, New Delhi: 2 restaurants\n",
      "B-215, Supermart 1, DLF Phase 4, Gurgaon: 2 restaurants\n",
      "226 Lewers St, Honolulu, HI 96815: 2 restaurants\n",
      "E-35, Tagore Garden Extension, Tagore Garden, New Delhi: 2 restaurants\n",
      "319, Mission Street, MG Road, Puducherry: 2 restaurants\n",
      "The Promenade, 23, Goubert Avenue, White Town, Puducherry: 2 restaurants\n",
      "Sushant Shopping Arcade, Sushant Lok, Gurgaon: 2 restaurants\n",
      "H-154, Sushant Shopping Arcade, Sushant Lok, Gurgaon: 2 restaurants\n",
      "8/1, Subhash Nagar, New Delhi: 2 restaurants\n",
      "The Habitare Hotel, 21/1, MG Road, Sector 14, Gurgaon: 2 restaurants\n",
      "Opposite FICCI Auditorium, Near Metro Station, Mandi House, New Delhi: 2 restaurants\n",
      "The Westin Sohna Resort & Spa, Vatika Complex, P O Daula, Karanki Road, Sohna Road, Gurgaon: 2 restaurants\n",
      "Trident, 443, Phase 5, Udyog Vihar, Gurgaon: 2 restaurants\n",
      "Circular Road, Near Lalpur Chowk, Lalpur, Ranchi: 2 restaurants\n",
      "Udyog Vihar, Gurgaon: 2 restaurants\n",
      "4/3, 1st Floor, Roop Nagar, Near Kamla Nagar Market, Kamla Nagar, New Delhi: 2 restaurants\n",
      "Main Road, Beriwala Bagh, Subhash Nagar, New Delhi: 2 restaurants\n",
      "Ground Floor, Star City Mall, Mayur Vihar Phase 1, New Delhi: 2 restaurants\n",
      "25-UB, Jawahar Nagar, Kamla Nagar, New Delhi: 2 restaurants\n",
      "Zing Food Court, 2nd Floor, Spark Mall, Kamla Nagar, New Delhi: 2 restaurants\n",
      "The Claridges, 12, Dr. A.P.J. Abdul Kalam Road, Aurangzeb Road, New Delhi 110011: 2 restaurants\n",
      "The Grand New Delhi, Phase II, Nelson Mandela Road, Vasant Kunj, New Delhi: 2 restaurants\n",
      "61-B, Ber Sarai, JNU, New Delhi: 2 restaurants\n",
      "Sector 93, Noida: 2 restaurants\n",
      "Rajinder Nagar, New Delhi: 2 restaurants\n",
      "Near Post Office, Main Market, Ghitorni, MG Road, New Delhi: 2 restaurants\n",
      "Ground Floor, Eros Cinema Building, Jangpura Extension, Jangpura, New Delhi: 2 restaurants\n",
      "Arya Samaj Road, Uttam Nagar, New Delhi: 2 restaurants\n",
      "Near Ramada Hotel, Sector 45, Gurgaon: 2 restaurants\n",
      "Shop 114-E, HUDA Market, Sector 56, Gurgaon: 2 restaurants\n",
      "Shop 1, Ambawata Complex, Gurudwara Road, Mehrauli, New Delhi: 2 restaurants\n",
      "14, Community Centre, New Friends Colony, New Delhi: 2 restaurants\n",
      "B.D. Estate Market, Timarpur, Civil Lines, New Delhi: 2 restaurants\n",
      "Aditya Celebrity Homes Market, Sector 76, Near Sector 72, Noida: 2 restaurants\n",
      "Khyala Road, Vishnu Garden, Tilak Nagar, New Delhi: 2 restaurants\n",
      "52, Janpath, New Delhi: 2 restaurants\n",
      "Shop 22, Market 1, Chittaranjan Park, New Delhi: 2 restaurants\n",
      "Eldeco Studio, Plot 3, Sector 93-A, Near Sector 93, Noida: 2 restaurants\n",
      "Chittaranjan Park, New Delhi: 2 restaurants\n",
      "Main Road, Near BSES Office, Vasundhara Enclave, New Delhi: 2 restaurants\n",
      "Tilak Nagar, New Delhi: 2 restaurants\n",
      "Main Market, Tilak Nagar, New Delhi: 2 restaurants\n",
      "Rajouri Garden, New Delhi: 2 restaurants\n",
      "Supertech Shopprix Mall, Sector 61, Noida: 2 restaurants\n",
      "The Village Restaurant Complex, Asiad Village, Khel Gaon Marg, New Delhi: 2 restaurants\n",
      "The Uppal, NH-8, Near, Aerocity, New Delhi: 2 restaurants\n",
      "The Lodhi, Lodhi Road, New Delhi: 2 restaurants\n",
      "Jaypee Siddharth, 3, Rajendra Place, New Delhi: 2 restaurants\n",
      "2/80, Club Road, West Punjabi Bagh, Punjabi Bagh, New Delhi: 2 restaurants\n",
      "Opposite Air Force School, Old Delhi Road, Sector 14, Gurgaon: 2 restaurants\n",
      "D-30, Near Bharti Chowk, New Ashok Nagar, Vasundhara Enclave, New Delhi: 2 restaurants\n",
      "Ground Floor, Amenity Block, Unitech Infospace, Sector 135, Near Sector 132, Noida: 2 restaurants\n",
      "B-36, Block A, Express Trade Tower 2, Noida-Greater Noida Expressway, Sector 132, Noida: 2 restaurants\n",
      "Eco Suites By Hyphen, GH 03, Adjacent Supertech Ecociti, Sector 137, Near Sector 132, Noida: 2 restaurants\n",
      "285, Sant Nagar, East of Kailash, New Delhi: 2 restaurants\n",
      "East of Kailash, New Delhi: 2 restaurants\n",
      "Super Mart 2, DLF Phase 4, Gurgaon: 2 restaurants\n",
      "Ardee City, Gurgaon: 2 restaurants\n",
      "DLF Phase 5, Gurgaon: 2 restaurants\n",
      "41 - Zamrudpur, Near Gurudwara, Greater Kailash (GK) 1, New Delhi: 2 restaurants\n",
      "S-13, M Block Market, Greater Kailash (GK) 1, New Delhi: 2 restaurants\n",
      "3rd Floor, Ambience Mall, Gurgaon: 2 restaurants\n",
      "Naya Bans, Sector 15, Noida: 2 restaurants\n",
      "Tradex Tower 2, Alpha Commercial Belt, Alpha 1, Greater Noida, Noida: 2 restaurants\n",
      "CDR Complex, Sector 15, Noida: 2 restaurants\n",
      "B Block Market, Sector 15, Noida: 2 restaurants\n",
      "DoubleTree by Hilton, Golf Course Road, Sector 56, Gurgaon: 2 restaurants\n",
      "New Friends Colony, New Delhi: 2 restaurants\n",
      "Pandav Nagar, New Delhi: 2 restaurants\n",
      "Gardens Galleria Mall, Sector 38, Noida: 2 restaurants\n",
      "Ground Floor, DLF Promenade Mall, Vasant Kunj, New Delhi: 2 restaurants\n",
      "Fortune Select Excalibur, Sohna Road, Gurgaon: 2 restaurants\n",
      "Ground Floor, Shipra Mall, Gulmohar Road, Indirapuram, Ghaziabad: 2 restaurants\n",
      "Ganga Shopping Complex, Sector 29, Noida: 2 restaurants\n",
      "E-556, Greater Kailash (GK) 2, New Delhi: 2 restaurants\n",
      "The Atrium Hotel, Shooting Range Road, Suraj Kund, Faridabad: 2 restaurants\n",
      "Sector 18, Noida: 2 restaurants\n",
      "Food Court, DLF Mall Of India, Sector 18, Noida: 2 restaurants\n",
      "Paschim Vihar, New Delhi: 2 restaurants\n",
      "Food Court, DLF Mall of India, Sector 18, Noida: 2 restaurants\n",
      "4th Floor, DLF Mall of India, Sector 18, Noida: 2 restaurants\n",
      "M-57, 1st Floor, M Block Market, Greater Kailash (GK) 1, New Delhi: 2 restaurants\n",
      "Near Jaypee Hospital, Sector 132, Noida: 2 restaurants\n",
      "Metropark Food Court, HUDA City Centre Metro Station, Sector 29, Gurgaon: 2 restaurants\n",
      "Express Trade Towers 2, B-36, Sector 132, Noida: 2 restaurants\n",
      "16/6, H Block, DLF Phase 1, Gurgaon: 2 restaurants\n",
      "H Block, DLF Phase 1, Gurgaon: 2 restaurants\n",
      "23/5, East Patel Nagar, New Delhi: 2 restaurants\n",
      "Ground Floor, DLF Mega Mall, DLF Phase 1, Gurgaon: 2 restaurants\n",
      "5, Food Court, 3rd Floor, DLF Mega Mall, DLF Phase 1, Gurgaon: 2 restaurants\n",
      "Lower Ground Floor, DLF Mega Mall, DLF Phase 1, Gurgaon: 2 restaurants\n",
      "Ground Floor, Epicuria Food Mall, Nehru Place Metro Station, Nehru Place, New Delhi: 2 restaurants\n",
      "Lower Ground Floor, Epicuria Food Mall, Nehru Place Metro Station, Nehru Place, New Delhi: 2 restaurants\n",
      "Mosaic Hotels, C-1, Sector 18, Noida: 2 restaurants\n",
      "Upper Ground Floor, Epicuria Food Mall, Nehru Place Metro Station, Nehru Place, New Delhi: 2 restaurants\n",
      "Food Court, Logix City Centre, Sector 32, Near, Sector 34, Noida: 2 restaurants\n",
      "Lower Basement, Epicuria Food Mall, Nehru Place Metro Station, Nehru Place, New Delhi: 2 restaurants\n",
      "Essex Farms, 4, Hauz Khas, New Delhi: 2 restaurants\n",
      "2nd Floor, Logix City Centre, Sector 32, Near, Sector 34, Noida: 2 restaurants\n",
      "Ground Floor, Fun City Mall, Prashant Vihar, New Delhi: 2 restaurants\n",
      "Food Court, Logix City Centre, Sector 32, Near Sector 34, Noida: 2 restaurants\n",
      "Food Court, 3rd Floor, Logix City Centre, Sector 32, Near, Sector 34, Noida: 2 restaurants\n",
      "Logix City Centre, Sector 32, Near Sector 34, Noida: 2 restaurants\n",
      "3rd Floor, Logix City Centre, Sector 32, Near Sector 34, Noida: 2 restaurants\n",
      "Ground Floor, Cyber Hub, DLF Cyber City, Gurgaon: 2 restaurants\n",
      "Jaypee Greens, Surajpur Kasna Road, Greater Noida, Noida: 2 restaurants\n",
      "Jaipuria Plaza, Sector 26, Noida: 2 restaurants\n",
      "Geeta Colony, New Delhi: 2 restaurants\n",
      "Main Road, Mahavir Enclave 3, Palam, New Delhi: 2 restaurants\n",
      "Main Market, Palam Colony, Palam, New Delhi: 2 restaurants\n",
      "Lower Ground Floor, Pacific Mall, Tagore Garden, New Delhi: 2 restaurants\n",
      "Main Road, Mahavir Enclave, Part 3, Palam, New Delhi: 2 restaurants\n",
      "Courtyard by Marriott, Plot 27 B, Sushant Lok 1, Sushant Lok, Gurgaon: 2 restaurants\n",
      "Country Inn & Suites by Carlson, Old Delhi Gurgaon Road, Sector 12, Gurgaon: 2 restaurants\n",
      "Hotel Clark Inn, Plot 45/46, Old Judicial Complex, Sector 15, Gurgaon: 2 restaurants\n",
      "E-564, Greater Kailash (GK) 2, New Delhi: 2 restaurants\n",
      "Opposite Vardhman Central Mall, Nehru Vihar, Mukherjee Nagar, New Delhi: 2 restaurants\n",
      "Park Plaza Hotel, B Block, Phase 1, Sushant Lok, Gurgaon: 2 restaurants\n",
      "Sector 40, Noida: 2 restaurants\n",
      "Vikaspuri, New Delhi: 2 restaurants\n",
      "Khaira Mod, Najafgarh, New Delhi: 2 restaurants\n",
      "Gautam Nagar, Hauz Khas, New Delhi: 2 restaurants\n",
      "Sector 14, Gurgaon: 2 restaurants\n",
      "Sector 44, Noida: 2 restaurants\n",
      "28-A, Defence Colony Market, Defence Colony, New Delhi: 2 restaurants\n",
      "Gurgaon Road, Near Aggarwal Medicos, Najafgarh, New Delhi: 2 restaurants\n",
      "30, 1st Floor, Hauz Khas Village, New Delhi: 2 restaurants\n",
      "Preet Vihar, New Delhi: 2 restaurants\n",
      "543 Cherry St, Macon, GA 31201: 2 restaurants\n",
      "Defence Colony, New Delhi: 2 restaurants\n",
      "Sector 47, Noida: 2 restaurants\n",
      "249, Rama Market, Munirka Village, Munirka, New Delhi: 2 restaurants\n",
      "Hotel Broadway, 4/15/A, Daryaganj, New Delhi: 2 restaurants\n",
      "Hotel City Park, KP Block, Pitampura, New Delhi: 2 restaurants\n",
      "Hotel Regent Grand, 2/6 East Patel Nagar, Near Pusa Road, East Patel Nagar, New Delhi: 2 restaurants\n",
      "Sector 48, Noida: 2 restaurants\n",
      "Shop 29 & 30, Ground Floor, Shopping Planet, Plot 232A/1, Block C, Sector 48, Noida: 2 restaurants\n",
      "ibis New Delhi, Asset 9, Hospitality District, Aerocity, New Delhi: 2 restaurants\n",
      "Plot 10, LSC, DDA Commercial Complex, New Rajdhani Enclave, Preet Vihar, New Delhi: 2 restaurants\n",
      "Premier Inn, District Centre, Shalimar Bagh, New Delhi: 2 restaurants\n",
      "Main Market, Sector 50, Noida: 2 restaurants\n",
      "B-1/32, Central Market, Sector 50, Noida: 2 restaurants\n",
      "Agrasen Apartments, IP Extension, New Delhi: 2 restaurants\n",
      "Opposite Delite Cinema, Asaf Ali Road, Daryaganj, New Delhi: 2 restaurants\n",
      "Vardhman Central Mall, Nehru Vihar, Mukherjee Nagar, New Delhi: 2 restaurants\n",
      "Central Market, Punjabi Bagh, New Delhi: 2 restaurants\n",
      "H 38, Sector 51, Noida: 2 restaurants\n",
      "Main Dhansa Road, Near Nanak Pyaoo, Najafgarh, New Delhi: 2 restaurants\n",
      "Park Plaza Hotel, B Block, Sushant Lok 1, Sushant Lok, Gurgaon: 2 restaurants\n",
      "Brahmaputra Shopping Complex, Sector 29, Noida: 2 restaurants\n",
      "Sultanpuri Mod Market, Nangloi, New Delhi: 2 restaurants\n",
      "Hyatt Place,15/1, Old Delhi-Gurgaon Road, Sector 18, Udyog Vihar, Gurgaon: 2 restaurants\n",
      "Culture Gully, Kingdom of Dreams, Great Indian Nautanki Company Ltd., Auditorium Complex, Sector 29, Gurgaon: 2 restaurants\n",
      "Lobby Level, Tower C, Global Business Park, MG Road, Gurgaon: 2 restaurants\n",
      "MG Road, Gurgaon: 2 restaurants\n",
      "Sector 19, Noida: 2 restaurants\n",
      "Ground Floor, MGF Mega City Mall, MG Road, Gurgaon: 2 restaurants\n",
      "2nd Floor, MGF Mega City Mall, MG Road, Gurgaon: 2 restaurants\n",
      "12/4, Sarai Khawaja, Banarasi Market, Near Toll Gate, Main Mathura Road, Sector 37, Faridabad: 2 restaurants\n",
      "3rd Floor, Food Court, MGF Metropolitan Mall, MG Road, Gurgaon: 2 restaurants\n",
      "Ground Floor, Ridhi Sidhi Plaza, Ashoka Main, Sector 35, Faridabad: 2 restaurants\n",
      "D Block Market, Sector 27, Noida: 2 restaurants\n",
      "Old Railway Road, Gurgaon: 2 restaurants\n",
      "Sector 29, Noida: 2 restaurants\n",
      "Delhi University-GTB Nagar, New Delhi: 2 restaurants\n",
      "One Horizon Center, Golf Course Road, Gurgaon: 2 restaurants\n",
      "1st Floor, One Horizon Center, Golf Course Road, Gurgaon: 2 restaurants\n",
      "Palam Vihar, Gurgaon: 2 restaurants\n",
      "B Block Market, Vivek Vihar, New Delhi: 2 restaurants\n",
      "Ground Floor, North Gate Mall, Gujranwala Town, New Delhi: 2 restaurants\n",
      "Pitampura, New Delhi: 2 restaurants\n",
      "HUDA Market, Sector 15, Faridabad: 2 restaurants\n",
      "Chanchal Park, Near Bus Stand, Najafgarh Road, Nangloi, New Delhi: 2 restaurants\n",
      "Shop 2, Godavari Shopping Complex, Sector 37, Noida: 2 restaurants\n",
      "PVR Cinema, Near ICICI Bank, Vikaspuri, New Delhi: 2 restaurants\n",
      "Hauz Khas, New Delhi: 2 restaurants\n",
      "Near Bharti Vidyalaya, Main Road, Chander Vihar, Nangloi, New Delhi: 2 restaurants\n",
      "Near Flyover, Rohtak Road, Nangloi, New Delhi: 2 restaurants\n",
      "Near Naresh Park, Najafgarh Road, Nangloi, New Delhi: 2 restaurants\n",
      "G-1, Behind Ansal Plaza Mall, Palam Vihar, Gurgaon: 2 restaurants\n",
      "66-67/E, Near Chota Gali Chakkar, Kamla Nagar, New Delhi: 2 restaurants\n",
      "L Block Market, Behind Metro Hospital, Sector 11, Noida: 2 restaurants\n",
      "Lajpat Nagar 2, New Delhi: 2 restaurants\n",
      "Opposite Venkateshwara College, Satyaniketan, New Delhi: 2 restaurants\n",
      "The Midland, Peter Street, Deansgate, Manchester M60 2DS: 2 restaurants\n",
      "Unit 7, SEZ Block 4 Aminity, Unitech Infospace, Sector 21, Gurgaon: 2 restaurants\n",
      "11, Shivpuri, Krishna Nagar, New Delhi: 2 restaurants\n",
      "12 & 13, Food Plaza, Yashwant Place, Chanakyapuri, New Delhi: 2 restaurants\n",
      "Ground Floor, Select Citywalk Mall, Saket, New Delhi: 2 restaurants\n",
      "Sangam Courtyard, Major Somnath Marg, R K Puram, New Delhi: 2 restaurants\n",
      "Shop 9, Corner Market, Malviya Nagar, New Delhi: 2 restaurants\n",
      "Ground Level, Victoria Wharf, V & A Waterfront, Cape Town: 2 restaurants\n",
      "2nd Floor, Food Court, Select Citywalk Mall, Saket, New Delhi: 2 restaurants\n",
      "1st Floor, Select Citywalk Mall, Saket, New Delhi: 2 restaurants\n",
      "AB-4, Safdarjung Enclave Market, Safdarjung, New Delhi: 2 restaurants\n",
      "E-32, South Extension 2, New Delhi: 2 restaurants\n",
      "Maidangarhi Bus Stand, IGNOU Road, Sainik Farms, New Delhi: 2 restaurants\n",
      "Durgapuri Chowk, 100 Feet Road, Shahdara, New Delhi: 2 restaurants\n",
      "118, Shahpur Jat, New Delhi: 2 restaurants\n",
      "2nd Floor, My Square Food Court, Select Citywalk Mall, Saket, New Delhi: 2 restaurants\n",
      "F-2/9, Krishna Nagar, New Delhi: 2 restaurants\n",
      "A-8, Kailash Park, Near Metro Pillar 326, Opposite Kalra Hospital, Kirti Nagar, New Delhi: 2 restaurants\n",
      "Radisson Hotel, The Mall Road, Nadesar, Varanasi: 2 restaurants\n",
      "E-5, South Extension 2, New Delhi: 2 restaurants\n",
      "E-46, Near Gopal Paints, Shastri Nagar, Ashok Vihar Phase 1, New Delhi: 2 restaurants\n",
      "27, Main Market, Lodhi Colony, New Delhi: 2 restaurants\n",
      "Near Kavira Garden, NH-8, Mahipalpur, New Delhi: 2 restaurants\n",
      "4th Floor, Acropolis Mall, 1858/1, Rajdanga Main Road, Kasba, Kolkata: 2 restaurants\n",
      "2700 Dawson Rd, Albany, GA 31707: 2 restaurants\n",
      "Vivanta by Taj, Near HUDA City Center Metro Station, Sector 44, Gurgaon: 2 restaurants\n",
      "B-2/3, Ashok Vihar Phase 2, New Delhi: 2 restaurants\n",
      "Holiday Inn Jaipur City Centre, Commercial Plot 1, Sardar Patel Road, Bais Godam, Jaipur: 2 restaurants\n",
      "93, Opposite Venkateswara College, Satyaniketan, New Delhi: 2 restaurants\n",
      "Block 10, House 7, New Aruna Nagar, Majnu ka Tila, New Delhi: 2 restaurants\n",
      "C-118, Lajpat Nagar 1, New Delhi: 2 restaurants\n",
      "E-31/32, South Extension 2, New Delhi: 2 restaurants\n",
      "6/78, Ajmal Khan Road, Karol Bagh, New Delhi: 2 restaurants\n",
      "Laxmi Nagar, New Delhi: 2 restaurants\n",
      "48, Mehar Chand Market, Lodhi Colony, New Delhi: 2 restaurants\n",
      "28, Main Market, Lodhi Colony, New Delhi: 2 restaurants\n",
      "24, Basant Lok Market, Vasant Vihar, New Delhi: 2 restaurants\n",
      "Loni Road, Near Red Light, Shahdara, New Delhi: 2 restaurants\n",
      "AJ-64/A, Shalimar Bagh, New Delhi: 2 restaurants\n",
      "B-4, House 76, Majnu ka Tila, New Delhi: 2 restaurants\n",
      "C-222, Lajpat Nagar 1, New Delhi: 2 restaurants\n",
      "Food Court, Unitech Infospace, Sector 21, Gurgaon: 2 restaurants\n",
      "Safdarjung Enclave, Safdarjung, New Delhi: 2 restaurants\n",
      "Shalimar Bagh, New Delhi: 2 restaurants\n",
      "Pineslopes Shopping Centre, Corner of Witkoppen Drive & The Straight, Fourways, Sandton: 2 restaurants\n",
      "32, Satnam Park, Krishna Nagar, New Delhi: 2 restaurants\n",
      "14-A/1, WEA, Chaana Market, Saraswati Marg, Karol Bagh, New Delhi: 2 restaurants\n",
      "Food Court, 3rd Floor, Ambience Mall, Vasant Kunj, New Delhi: 2 restaurants\n",
      "Bon Vivant, Opposite Dongre Ground, College Road, Nashik: 2 restaurants\n"
     ]
    }
   ],
   "source": [
    "import matplotlib.pyplot as plt\n",
    "import seaborn as sns\n",
    "\n",
    "# Count the number of restaurants at each address.\n",
    "address_counts = df['Address'].value_counts()\n",
    "\n",
    "# Find addresses with more than one restaurant.\n",
    "duplicate_addresses = address_counts[address_counts > 1]\n",
    "\n",
    "# Get the top 10 addresses with the highest restaurant counts (you can adjust this number).\n",
    "top_addresses = address_counts.head(10)\n",
    "\n",
    "# Create a bar chart to visualize the top addresses.\n",
    "plt.figure(figsize=(10, 6))\n",
    "sns.barplot(x=top_addresses.index, y=top_addresses.values)\n",
    "plt.title('Top 10 Addresses with the Highest Number of Restaurants')\n",
    "plt.xlabel('Address')\n",
    "plt.ylabel('Number of Restaurants')\n",
    "plt.xticks(rotation=90)\n",
    "plt.show()\n",
    "\n",
    "# Print addresses with more than one restaurant.\n",
    "if len(duplicate_addresses) > 0:\n",
    "    print('\\nAddresses with more than one restaurant:')\n",
    "    for address, count in duplicate_addresses.items():\n",
    "        print(f'{address}: {count} restaurants')\n",
    "else:\n",
    "    print('\\nAll addresses are unique.')\n",
    "\n"
   ]
  },
  {
   "cell_type": "code",
   "execution_count": null,
   "id": "d51a877f",
   "metadata": {},
   "outputs": [],
   "source": []
  },
  {
   "cell_type": "markdown",
   "id": "3b59a2c6",
   "metadata": {},
   "source": [
    "### 23. 23. How many restaurants are located within a specific geographic radius of a given location?\n"
   ]
  },
  {
   "cell_type": "code",
   "execution_count": 13,
   "id": "ce41a44e",
   "metadata": {},
   "outputs": [
    {
     "name": "stdout",
     "output_type": "stream",
     "text": [
      "Number of restaurants within 5.0 km of the target location: 15\n"
     ]
    }
   ],
   "source": [
    "import numpy as np\n",
    "\n",
    "# Define the target location (latitude and longitude) and desired radius in kilometers.\n",
    "target_latitude = 14.565443  # Replace with your desired latitude\n",
    "target_longitude = 121.027535  # Replace with your desired longitude\n",
    "desired_radius_km = 5.0  # Replace with your desired radius in kilometers\n",
    "\n",
    "# Function to calculate the Haversine distance between two sets of latitude and longitude.\n",
    "def haversine(lat1, lon1, lat2, lon2):\n",
    "    # Radius of the Earth in kilometers\n",
    "    earth_radius_km = 6371.0\n",
    "\n",
    "    # Convert latitude and longitude from degrees to radians\n",
    "    lat1, lon1, lat2, lon2 = np.radians([lat1, lon1, lat2, lon2])\n",
    "\n",
    "    # Haversine formula\n",
    "    dlat = lat2 - lat1\n",
    "    dlon = lon2 - lon1\n",
    "    a = np.sin(dlat/2)**2 + np.cos(lat1) * np.cos(lat2) * np.sin(dlon/2)**2\n",
    "    c = 2 * np.arctan2(np.sqrt(a), np.sqrt(1 - a))\n",
    "\n",
    "    # Calculate the distance\n",
    "    distance_km = earth_radius_km * c\n",
    "    return distance_km\n",
    "\n",
    "# Calculate the distance between the target location and each restaurant's coordinates.\n",
    "df['Distance (km)'] = df.apply(lambda row: haversine(target_latitude, target_longitude, row['Latitude'], row['Longitude']), axis=1)\n",
    "\n",
    "# Filter restaurants within the desired radius.\n",
    "restaurants_within_radius = df[df['Distance (km)'] <= desired_radius_km]\n",
    "\n",
    "# Count the number of restaurants within the radius.\n",
    "num_restaurants_within_radius = len(restaurants_within_radius)\n",
    "\n",
    "print(f'Number of restaurants within {desired_radius_km} km of the target location: {num_restaurants_within_radius}')\n"
   ]
  },
  {
   "cell_type": "code",
   "execution_count": null,
   "id": "673057b7",
   "metadata": {},
   "outputs": [],
   "source": []
  },
  {
   "cell_type": "code",
   "execution_count": null,
   "id": "70356314",
   "metadata": {},
   "outputs": [],
   "source": []
  },
  {
   "cell_type": "code",
   "execution_count": null,
   "id": "64a8c557",
   "metadata": {},
   "outputs": [],
   "source": []
  },
  {
   "cell_type": "code",
   "execution_count": null,
   "id": "35dd56c0",
   "metadata": {},
   "outputs": [],
   "source": []
  },
  {
   "cell_type": "code",
   "execution_count": null,
   "id": "8f6146af",
   "metadata": {},
   "outputs": [],
   "source": []
  }
 ],
 "metadata": {
  "kernelspec": {
   "display_name": "Python 3 (ipykernel)",
   "language": "python",
   "name": "python3"
  },
  "language_info": {
   "codemirror_mode": {
    "name": "ipython",
    "version": 3
   },
   "file_extension": ".py",
   "mimetype": "text/x-python",
   "name": "python",
   "nbconvert_exporter": "python",
   "pygments_lexer": "ipython3",
   "version": "3.9.13"
  }
 },
 "nbformat": 4,
 "nbformat_minor": 5
}
